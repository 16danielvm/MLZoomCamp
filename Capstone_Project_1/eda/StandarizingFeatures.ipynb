{
 "cells": [
  {
   "cell_type": "code",
   "execution_count": 1,
   "metadata": {},
   "outputs": [],
   "source": [
    "import pandas as pd \n",
    "\n",
    "from sklearn.model_selection import train_test_split\n",
    "from sklearn.linear_model import LogisticRegression\n",
    "\n",
    "from sklearn.metrics import log_loss"
   ]
  },
  {
   "cell_type": "code",
   "execution_count": 2,
   "metadata": {},
   "outputs": [
    {
     "data": {
      "text/html": [
       "<div>\n",
       "<style scoped>\n",
       "    .dataframe tbody tr th:only-of-type {\n",
       "        vertical-align: middle;\n",
       "    }\n",
       "\n",
       "    .dataframe tbody tr th {\n",
       "        vertical-align: top;\n",
       "    }\n",
       "\n",
       "    .dataframe thead th {\n",
       "        text-align: right;\n",
       "    }\n",
       "</style>\n",
       "<table border=\"1\" class=\"dataframe\">\n",
       "  <thead>\n",
       "    <tr style=\"text-align: right;\">\n",
       "      <th></th>\n",
       "      <th>N_Days</th>\n",
       "      <th>Drug</th>\n",
       "      <th>Age</th>\n",
       "      <th>Sex</th>\n",
       "      <th>Ascites</th>\n",
       "      <th>Hepatomegaly</th>\n",
       "      <th>Spiders</th>\n",
       "      <th>Edema</th>\n",
       "      <th>Bilirubin</th>\n",
       "      <th>Cholesterol</th>\n",
       "      <th>Albumin</th>\n",
       "      <th>Copper</th>\n",
       "      <th>Alk_Phos</th>\n",
       "      <th>SGOT</th>\n",
       "      <th>Tryglicerides</th>\n",
       "      <th>Platelets</th>\n",
       "      <th>Prothrombin</th>\n",
       "      <th>Stage</th>\n",
       "      <th>Status</th>\n",
       "    </tr>\n",
       "  </thead>\n",
       "  <tbody>\n",
       "    <tr>\n",
       "      <th>0</th>\n",
       "      <td>97</td>\n",
       "      <td>0</td>\n",
       "      <td>305</td>\n",
       "      <td>1</td>\n",
       "      <td>0</td>\n",
       "      <td>0</td>\n",
       "      <td>0</td>\n",
       "      <td>0</td>\n",
       "      <td>20</td>\n",
       "      <td>97</td>\n",
       "      <td>69</td>\n",
       "      <td>123</td>\n",
       "      <td>227</td>\n",
       "      <td>162</td>\n",
       "      <td>13</td>\n",
       "      <td>195</td>\n",
       "      <td>7</td>\n",
       "      <td>2</td>\n",
       "      <td>2</td>\n",
       "    </tr>\n",
       "    <tr>\n",
       "      <th>1</th>\n",
       "      <td>350</td>\n",
       "      <td>1</td>\n",
       "      <td>228</td>\n",
       "      <td>0</td>\n",
       "      <td>0</td>\n",
       "      <td>0</td>\n",
       "      <td>0</td>\n",
       "      <td>0</td>\n",
       "      <td>6</td>\n",
       "      <td>128</td>\n",
       "      <td>87</td>\n",
       "      <td>52</td>\n",
       "      <td>210</td>\n",
       "      <td>121</td>\n",
       "      <td>38</td>\n",
       "      <td>182</td>\n",
       "      <td>20</td>\n",
       "      <td>2</td>\n",
       "      <td>0</td>\n",
       "    </tr>\n",
       "    <tr>\n",
       "      <th>2</th>\n",
       "      <td>414</td>\n",
       "      <td>1</td>\n",
       "      <td>57</td>\n",
       "      <td>0</td>\n",
       "      <td>0</td>\n",
       "      <td>1</td>\n",
       "      <td>1</td>\n",
       "      <td>2</td>\n",
       "      <td>30</td>\n",
       "      <td>87</td>\n",
       "      <td>88</td>\n",
       "      <td>105</td>\n",
       "      <td>130</td>\n",
       "      <td>102</td>\n",
       "      <td>4</td>\n",
       "      <td>68</td>\n",
       "      <td>27</td>\n",
       "      <td>3</td>\n",
       "      <td>2</td>\n",
       "    </tr>\n",
       "    <tr>\n",
       "      <th>3</th>\n",
       "      <td>351</td>\n",
       "      <td>1</td>\n",
       "      <td>201</td>\n",
       "      <td>0</td>\n",
       "      <td>0</td>\n",
       "      <td>0</td>\n",
       "      <td>0</td>\n",
       "      <td>0</td>\n",
       "      <td>3</td>\n",
       "      <td>56</td>\n",
       "      <td>83</td>\n",
       "      <td>48</td>\n",
       "      <td>237</td>\n",
       "      <td>30</td>\n",
       "      <td>46</td>\n",
       "      <td>119</td>\n",
       "      <td>17</td>\n",
       "      <td>2</td>\n",
       "      <td>0</td>\n",
       "    </tr>\n",
       "    <tr>\n",
       "      <th>4</th>\n",
       "      <td>69</td>\n",
       "      <td>1</td>\n",
       "      <td>138</td>\n",
       "      <td>0</td>\n",
       "      <td>0</td>\n",
       "      <td>1</td>\n",
       "      <td>0</td>\n",
       "      <td>0</td>\n",
       "      <td>8</td>\n",
       "      <td>118</td>\n",
       "      <td>98</td>\n",
       "      <td>52</td>\n",
       "      <td>174</td>\n",
       "      <td>109</td>\n",
       "      <td>46</td>\n",
       "      <td>140</td>\n",
       "      <td>16</td>\n",
       "      <td>3</td>\n",
       "      <td>0</td>\n",
       "    </tr>\n",
       "  </tbody>\n",
       "</table>\n",
       "</div>"
      ],
      "text/plain": [
       "   N_Days  Drug  Age  Sex  Ascites  Hepatomegaly  Spiders  Edema  Bilirubin  \\\n",
       "0      97     0  305    1        0             0        0      0         20   \n",
       "1     350     1  228    0        0             0        0      0          6   \n",
       "2     414     1   57    0        0             1        1      2         30   \n",
       "3     351     1  201    0        0             0        0      0          3   \n",
       "4      69     1  138    0        0             1        0      0          8   \n",
       "\n",
       "   Cholesterol  Albumin  Copper  Alk_Phos  SGOT  Tryglicerides  Platelets  \\\n",
       "0           97       69     123       227   162             13        195   \n",
       "1          128       87      52       210   121             38        182   \n",
       "2           87       88     105       130   102              4         68   \n",
       "3           56       83      48       237    30             46        119   \n",
       "4          118       98      52       174   109             46        140   \n",
       "\n",
       "   Prothrombin  Stage  Status  \n",
       "0            7      2       2  \n",
       "1           20      2       0  \n",
       "2           27      3       2  \n",
       "3           17      2       0  \n",
       "4           16      3       0  "
      ]
     },
     "execution_count": 2,
     "metadata": {},
     "output_type": "execute_result"
    }
   ],
   "source": [
    "DATA_PATH = '../data/train_processed.csv'\n",
    "df = pd.read_csv(DATA_PATH)\n",
    "df.head()"
   ]
  },
  {
   "cell_type": "code",
   "execution_count": 3,
   "metadata": {},
   "outputs": [
    {
     "data": {
      "text/plain": [
       "Index(['N_Days', 'Drug', 'Age', 'Sex', 'Ascites', 'Hepatomegaly', 'Spiders',\n",
       "       'Edema', 'Bilirubin', 'Cholesterol', 'Albumin', 'Copper', 'Alk_Phos',\n",
       "       'SGOT', 'Tryglicerides', 'Platelets', 'Prothrombin', 'Stage', 'Status'],\n",
       "      dtype='object')"
      ]
     },
     "execution_count": 3,
     "metadata": {},
     "output_type": "execute_result"
    }
   ],
   "source": [
    "df.columns"
   ]
  },
  {
   "cell_type": "code",
   "execution_count": 4,
   "metadata": {},
   "outputs": [],
   "source": [
    "from sklearn.preprocessing import StandardScaler\n",
    "\n",
    "\n",
    "scaler = StandardScaler()\n",
    "df[['N_Days', 'Age', 'Bilirubin', 'Cholesterol', 'Albumin', 'Copper', 'Alk_Phos','SGOT', 'Tryglicerides', 'Platelets', 'Prothrombin']] = scaler.fit_transform(df[['N_Days', 'Age', 'Bilirubin', 'Cholesterol', 'Albumin', 'Copper', 'Alk_Phos','SGOT', 'Tryglicerides', 'Platelets', 'Prothrombin']]) \n"
   ]
  },
  {
   "cell_type": "code",
   "execution_count": 26,
   "metadata": {},
   "outputs": [],
   "source": [
    "df.to_csv('../data/train_processed_scaled.csv', index=False)"
   ]
  },
  {
   "cell_type": "code",
   "execution_count": 5,
   "metadata": {},
   "outputs": [],
   "source": [
    "df_train, df_val = train_test_split(df, test_size=0.20, random_state=1, stratify=df.Status)\n",
    "\n",
    "df_train = df_train.reset_index(drop=True)\n",
    "df_val = df_val.reset_index(drop=True)\n",
    "\n",
    "y_train = df_train.Status.values\n",
    "y_val = df_val.Status.values\n",
    "\n",
    "del df_train['Status']\n",
    "del df_val['Status']"
   ]
  },
  {
   "cell_type": "code",
   "execution_count": 6,
   "metadata": {},
   "outputs": [
    {
     "data": {
      "text/plain": [
       "(6324, 1581, 6324, 1581)"
      ]
     },
     "execution_count": 6,
     "metadata": {},
     "output_type": "execute_result"
    }
   ],
   "source": [
    "len(df_train), len(df_val), len(y_train), len(y_val)"
   ]
  },
  {
   "cell_type": "code",
   "execution_count": 7,
   "metadata": {},
   "outputs": [],
   "source": [
    "columnas = ['N_Days', 'Drug', 'Age', 'Sex', 'Ascites', 'Hepatomegaly', 'Spiders',\n",
    "       'Edema', 'Bilirubin', 'Cholesterol', 'Albumin', 'Copper', 'Alk_Phos',\n",
    "       'SGOT', 'Tryglicerides', 'Platelets', 'Prothrombin', 'Stage']\n",
    "resultable = []\n",
    "for i in range(len(columnas)):\n",
    "    model = LogisticRegression(solver='lbfgs', random_state=1)\n",
    "    model.fit(df_train.iloc[:,[i]], y_train)\n",
    "\n",
    "    y_pred = model.predict_proba(df_val.iloc[:,[i]])\n",
    "\n",
    "    log_loss_metric = log_loss(y_val, y_pred)\n",
    "\n",
    "    resultable.append([columnas[i], log_loss_metric])"
   ]
  },
  {
   "cell_type": "code",
   "execution_count": 8,
   "metadata": {},
   "outputs": [
    {
     "data": {
      "text/html": [
       "<div>\n",
       "<style scoped>\n",
       "    .dataframe tbody tr th:only-of-type {\n",
       "        vertical-align: middle;\n",
       "    }\n",
       "\n",
       "    .dataframe tbody tr th {\n",
       "        vertical-align: top;\n",
       "    }\n",
       "\n",
       "    .dataframe thead th {\n",
       "        text-align: right;\n",
       "    }\n",
       "</style>\n",
       "<table border=\"1\" class=\"dataframe\">\n",
       "  <thead>\n",
       "    <tr style=\"text-align: right;\">\n",
       "      <th></th>\n",
       "      <th>Feature</th>\n",
       "      <th>Logloss</th>\n",
       "    </tr>\n",
       "  </thead>\n",
       "  <tbody>\n",
       "    <tr>\n",
       "      <th>0</th>\n",
       "      <td>N_Days</td>\n",
       "      <td>0.696699</td>\n",
       "    </tr>\n",
       "    <tr>\n",
       "      <th>1</th>\n",
       "      <td>Drug</td>\n",
       "      <td>0.776406</td>\n",
       "    </tr>\n",
       "    <tr>\n",
       "      <th>2</th>\n",
       "      <td>Age</td>\n",
       "      <td>0.759088</td>\n",
       "    </tr>\n",
       "    <tr>\n",
       "      <th>3</th>\n",
       "      <td>Sex</td>\n",
       "      <td>0.768152</td>\n",
       "    </tr>\n",
       "    <tr>\n",
       "      <th>4</th>\n",
       "      <td>Ascites</td>\n",
       "      <td>0.744798</td>\n",
       "    </tr>\n",
       "    <tr>\n",
       "      <th>5</th>\n",
       "      <td>Hepatomegaly</td>\n",
       "      <td>0.701176</td>\n",
       "    </tr>\n",
       "    <tr>\n",
       "      <th>6</th>\n",
       "      <td>Spiders</td>\n",
       "      <td>0.730433</td>\n",
       "    </tr>\n",
       "    <tr>\n",
       "      <th>7</th>\n",
       "      <td>Edema</td>\n",
       "      <td>0.718990</td>\n",
       "    </tr>\n",
       "    <tr>\n",
       "      <th>8</th>\n",
       "      <td>Bilirubin</td>\n",
       "      <td>0.651714</td>\n",
       "    </tr>\n",
       "    <tr>\n",
       "      <th>9</th>\n",
       "      <td>Cholesterol</td>\n",
       "      <td>0.759327</td>\n",
       "    </tr>\n",
       "    <tr>\n",
       "      <th>10</th>\n",
       "      <td>Albumin</td>\n",
       "      <td>0.736426</td>\n",
       "    </tr>\n",
       "    <tr>\n",
       "      <th>11</th>\n",
       "      <td>Copper</td>\n",
       "      <td>0.676299</td>\n",
       "    </tr>\n",
       "    <tr>\n",
       "      <th>12</th>\n",
       "      <td>Alk_Phos</td>\n",
       "      <td>0.766358</td>\n",
       "    </tr>\n",
       "    <tr>\n",
       "      <th>13</th>\n",
       "      <td>SGOT</td>\n",
       "      <td>0.712991</td>\n",
       "    </tr>\n",
       "    <tr>\n",
       "      <th>14</th>\n",
       "      <td>Tryglicerides</td>\n",
       "      <td>0.758844</td>\n",
       "    </tr>\n",
       "    <tr>\n",
       "      <th>15</th>\n",
       "      <td>Platelets</td>\n",
       "      <td>0.752346</td>\n",
       "    </tr>\n",
       "    <tr>\n",
       "      <th>16</th>\n",
       "      <td>Prothrombin</td>\n",
       "      <td>0.704893</td>\n",
       "    </tr>\n",
       "    <tr>\n",
       "      <th>17</th>\n",
       "      <td>Stage</td>\n",
       "      <td>0.700347</td>\n",
       "    </tr>\n",
       "  </tbody>\n",
       "</table>\n",
       "</div>"
      ],
      "text/plain": [
       "          Feature   Logloss\n",
       "0          N_Days  0.696699\n",
       "1            Drug  0.776406\n",
       "2             Age  0.759088\n",
       "3             Sex  0.768152\n",
       "4         Ascites  0.744798\n",
       "5    Hepatomegaly  0.701176\n",
       "6         Spiders  0.730433\n",
       "7           Edema  0.718990\n",
       "8       Bilirubin  0.651714\n",
       "9     Cholesterol  0.759327\n",
       "10        Albumin  0.736426\n",
       "11         Copper  0.676299\n",
       "12       Alk_Phos  0.766358\n",
       "13           SGOT  0.712991\n",
       "14  Tryglicerides  0.758844\n",
       "15      Platelets  0.752346\n",
       "16    Prothrombin  0.704893\n",
       "17          Stage  0.700347"
      ]
     },
     "execution_count": 8,
     "metadata": {},
     "output_type": "execute_result"
    }
   ],
   "source": [
    "resultable = pd.DataFrame(resultable, columns=['Feature', 'Logloss'])\n",
    "resultable"
   ]
  },
  {
   "cell_type": "code",
   "execution_count": 9,
   "metadata": {},
   "outputs": [
    {
     "data": {
      "text/html": [
       "<div>\n",
       "<style scoped>\n",
       "    .dataframe tbody tr th:only-of-type {\n",
       "        vertical-align: middle;\n",
       "    }\n",
       "\n",
       "    .dataframe tbody tr th {\n",
       "        vertical-align: top;\n",
       "    }\n",
       "\n",
       "    .dataframe thead th {\n",
       "        text-align: right;\n",
       "    }\n",
       "</style>\n",
       "<table border=\"1\" class=\"dataframe\">\n",
       "  <thead>\n",
       "    <tr style=\"text-align: right;\">\n",
       "      <th></th>\n",
       "      <th>Feature</th>\n",
       "      <th>Logloss</th>\n",
       "    </tr>\n",
       "  </thead>\n",
       "  <tbody>\n",
       "    <tr>\n",
       "      <th>0</th>\n",
       "      <td>Bilirubin</td>\n",
       "      <td>0.651714</td>\n",
       "    </tr>\n",
       "    <tr>\n",
       "      <th>1</th>\n",
       "      <td>Copper</td>\n",
       "      <td>0.676299</td>\n",
       "    </tr>\n",
       "    <tr>\n",
       "      <th>2</th>\n",
       "      <td>N_Days</td>\n",
       "      <td>0.696699</td>\n",
       "    </tr>\n",
       "    <tr>\n",
       "      <th>3</th>\n",
       "      <td>Stage</td>\n",
       "      <td>0.700347</td>\n",
       "    </tr>\n",
       "    <tr>\n",
       "      <th>4</th>\n",
       "      <td>Hepatomegaly</td>\n",
       "      <td>0.701176</td>\n",
       "    </tr>\n",
       "    <tr>\n",
       "      <th>5</th>\n",
       "      <td>Prothrombin</td>\n",
       "      <td>0.704893</td>\n",
       "    </tr>\n",
       "    <tr>\n",
       "      <th>6</th>\n",
       "      <td>SGOT</td>\n",
       "      <td>0.712991</td>\n",
       "    </tr>\n",
       "    <tr>\n",
       "      <th>7</th>\n",
       "      <td>Edema</td>\n",
       "      <td>0.718990</td>\n",
       "    </tr>\n",
       "    <tr>\n",
       "      <th>8</th>\n",
       "      <td>Spiders</td>\n",
       "      <td>0.730433</td>\n",
       "    </tr>\n",
       "    <tr>\n",
       "      <th>9</th>\n",
       "      <td>Albumin</td>\n",
       "      <td>0.736426</td>\n",
       "    </tr>\n",
       "    <tr>\n",
       "      <th>10</th>\n",
       "      <td>Ascites</td>\n",
       "      <td>0.744798</td>\n",
       "    </tr>\n",
       "    <tr>\n",
       "      <th>11</th>\n",
       "      <td>Platelets</td>\n",
       "      <td>0.752346</td>\n",
       "    </tr>\n",
       "    <tr>\n",
       "      <th>12</th>\n",
       "      <td>Tryglicerides</td>\n",
       "      <td>0.758844</td>\n",
       "    </tr>\n",
       "    <tr>\n",
       "      <th>13</th>\n",
       "      <td>Age</td>\n",
       "      <td>0.759088</td>\n",
       "    </tr>\n",
       "    <tr>\n",
       "      <th>14</th>\n",
       "      <td>Cholesterol</td>\n",
       "      <td>0.759327</td>\n",
       "    </tr>\n",
       "    <tr>\n",
       "      <th>15</th>\n",
       "      <td>Alk_Phos</td>\n",
       "      <td>0.766358</td>\n",
       "    </tr>\n",
       "    <tr>\n",
       "      <th>16</th>\n",
       "      <td>Sex</td>\n",
       "      <td>0.768152</td>\n",
       "    </tr>\n",
       "    <tr>\n",
       "      <th>17</th>\n",
       "      <td>Drug</td>\n",
       "      <td>0.776406</td>\n",
       "    </tr>\n",
       "  </tbody>\n",
       "</table>\n",
       "</div>"
      ],
      "text/plain": [
       "          Feature   Logloss\n",
       "0       Bilirubin  0.651714\n",
       "1          Copper  0.676299\n",
       "2          N_Days  0.696699\n",
       "3           Stage  0.700347\n",
       "4    Hepatomegaly  0.701176\n",
       "5     Prothrombin  0.704893\n",
       "6            SGOT  0.712991\n",
       "7           Edema  0.718990\n",
       "8         Spiders  0.730433\n",
       "9         Albumin  0.736426\n",
       "10        Ascites  0.744798\n",
       "11      Platelets  0.752346\n",
       "12  Tryglicerides  0.758844\n",
       "13            Age  0.759088\n",
       "14    Cholesterol  0.759327\n",
       "15       Alk_Phos  0.766358\n",
       "16            Sex  0.768152\n",
       "17           Drug  0.776406"
      ]
     },
     "execution_count": 9,
     "metadata": {},
     "output_type": "execute_result"
    }
   ],
   "source": [
    "best_result_table = resultable.sort_values('Logloss', ascending=True)\n",
    "best_result_table.reset_index(drop=True, inplace=True)\n",
    "best_result_table"
   ]
  },
  {
   "cell_type": "code",
   "execution_count": 10,
   "metadata": {},
   "outputs": [],
   "source": [
    "featuresN = [best_result_table.Feature[0]]\n",
    "limit = best_result_table.Logloss[0]"
   ]
  },
  {
   "cell_type": "code",
   "execution_count": 11,
   "metadata": {},
   "outputs": [
    {
     "name": "stdout",
     "output_type": "stream",
     "text": [
      "['Bilirubin', 'Copper'] 0.6265492872346909\n",
      "['Bilirubin', 'Copper', 'N_Days'] 0.6078800547200114\n",
      "['Bilirubin', 'Copper', 'N_Days', 'Stage'] 0.5789898132728415\n",
      "['Bilirubin', 'Copper', 'N_Days', 'Stage', 'Hepatomegaly'] 0.573000680733139\n",
      "['Bilirubin', 'Copper', 'N_Days', 'Stage', 'Hepatomegaly', 'Prothrombin'] 0.556419176196112\n",
      "['Bilirubin', 'Copper', 'N_Days', 'Stage', 'Hepatomegaly', 'Prothrombin', 'SGOT'] 0.5502498572996756\n",
      "['Bilirubin', 'Copper', 'N_Days', 'Stage', 'Hepatomegaly', 'Prothrombin', 'SGOT', 'Edema'] 0.5430806860769729\n",
      "['Bilirubin', 'Copper', 'N_Days', 'Stage', 'Hepatomegaly', 'Prothrombin', 'SGOT', 'Edema', 'Spiders'] 0.5444208742331078\n",
      "['Bilirubin', 'Copper', 'N_Days', 'Stage', 'Hepatomegaly', 'Prothrombin', 'SGOT', 'Edema', 'Albumin'] 0.5431398367317275\n",
      "['Bilirubin', 'Copper', 'N_Days', 'Stage', 'Hepatomegaly', 'Prothrombin', 'SGOT', 'Edema', 'Ascites'] 0.5442880137732745\n",
      "['Bilirubin', 'Copper', 'N_Days', 'Stage', 'Hepatomegaly', 'Prothrombin', 'SGOT', 'Edema', 'Platelets'] 0.5405645024870579\n",
      "['Bilirubin', 'Copper', 'N_Days', 'Stage', 'Hepatomegaly', 'Prothrombin', 'SGOT', 'Edema', 'Platelets', 'Tryglicerides'] 0.540892900611474\n",
      "['Bilirubin', 'Copper', 'N_Days', 'Stage', 'Hepatomegaly', 'Prothrombin', 'SGOT', 'Edema', 'Platelets', 'Age'] 0.53302276758017\n",
      "['Bilirubin', 'Copper', 'N_Days', 'Stage', 'Hepatomegaly', 'Prothrombin', 'SGOT', 'Edema', 'Platelets', 'Age', 'Cholesterol'] 0.5310882010836039\n",
      "['Bilirubin', 'Copper', 'N_Days', 'Stage', 'Hepatomegaly', 'Prothrombin', 'SGOT', 'Edema', 'Platelets', 'Age', 'Cholesterol', 'Alk_Phos'] 0.5335118821638715\n",
      "['Bilirubin', 'Copper', 'N_Days', 'Stage', 'Hepatomegaly', 'Prothrombin', 'SGOT', 'Edema', 'Platelets', 'Age', 'Cholesterol', 'Sex'] 0.5310921055643165\n",
      "['Bilirubin', 'Copper', 'N_Days', 'Stage', 'Hepatomegaly', 'Prothrombin', 'SGOT', 'Edema', 'Platelets', 'Age', 'Cholesterol', 'Drug'] 0.5304970246135908\n",
      "12\n",
      "0.5304970246135908\n"
     ]
    }
   ],
   "source": [
    "for i in range(1, len(best_result_table)):\n",
    "    featuresN.append(best_result_table.iloc[i, 0])\n",
    "    datosZ = df_train.loc[:, featuresN]\n",
    "    modeloZ = LogisticRegression(solver='lbfgs', random_state=1)\n",
    "    modeloZ.fit(datosZ, y_train)\n",
    "    \n",
    "    prediccionesZ = modeloZ.predict_proba(df_val.loc[:, featuresN])\n",
    "    \n",
    "    loglossZ = log_loss(y_val, prediccionesZ)\n",
    "\n",
    "    print(featuresN, loglossZ)\n",
    "    \n",
    "    if loglossZ < limit:\n",
    "        limit = loglossZ\n",
    "    else:\n",
    "        del featuresN[-1]\n",
    "\n",
    "print(len(featuresN))\n",
    "print(limit)"
   ]
  },
  {
   "cell_type": "code",
   "execution_count": 12,
   "metadata": {},
   "outputs": [],
   "source": [
    "from sklearn.feature_extraction import DictVectorizer\n",
    "import xgboost as xgb"
   ]
  },
  {
   "cell_type": "code",
   "execution_count": 13,
   "metadata": {},
   "outputs": [],
   "source": [
    "train_dicts = df_train[['Bilirubin', 'Copper', 'N_Days', 'Stage', 'Hepatomegaly', 'Prothrombin', 'SGOT', 'Edema', 'Platelets', 'Age', 'Cholesterol', 'Drug']].fillna(0).to_dict(orient='records')"
   ]
  },
  {
   "cell_type": "code",
   "execution_count": 14,
   "metadata": {},
   "outputs": [],
   "source": [
    "dv = DictVectorizer(sparse=False)\n",
    "X_train = dv.fit_transform(train_dicts)"
   ]
  },
  {
   "cell_type": "code",
   "execution_count": 15,
   "metadata": {},
   "outputs": [
    {
     "data": {
      "text/plain": [
       "['Age',\n",
       " 'Bilirubin',\n",
       " 'Cholesterol',\n",
       " 'Copper',\n",
       " 'Drug',\n",
       " 'Edema',\n",
       " 'Hepatomegaly',\n",
       " 'N_Days',\n",
       " 'Platelets',\n",
       " 'Prothrombin',\n",
       " 'SGOT',\n",
       " 'Stage']"
      ]
     },
     "execution_count": 15,
     "metadata": {},
     "output_type": "execute_result"
    }
   ],
   "source": [
    "dv.feature_names_"
   ]
  },
  {
   "cell_type": "code",
   "execution_count": 16,
   "metadata": {},
   "outputs": [],
   "source": [
    "val_dicts = df_val[['Bilirubin', 'Copper', 'N_Days', 'Stage', 'Hepatomegaly', 'Prothrombin', 'SGOT', 'Edema', 'Platelets', 'Age', 'Cholesterol', 'Drug']].fillna(0).to_dict(orient='records')\n",
    "X_val = dv.transform(val_dicts)"
   ]
  },
  {
   "cell_type": "code",
   "execution_count": 17,
   "metadata": {},
   "outputs": [],
   "source": [
    "features = dv.feature_names_"
   ]
  },
  {
   "cell_type": "code",
   "execution_count": 18,
   "metadata": {},
   "outputs": [],
   "source": [
    "dtrain = xgb.DMatrix(X_train, label = y_train, feature_names=features)\n",
    "dval = xgb.DMatrix(X_val, label=y_val, feature_names=features)"
   ]
  },
  {
   "cell_type": "code",
   "execution_count": 19,
   "metadata": {},
   "outputs": [],
   "source": [
    "xgb_params = {\n",
    "    'eta': 0.1,\n",
    "    'max_depth': 3,\n",
    "    'min_child_weight':10,\n",
    "\n",
    "    'objective': 'multi:softmax',\n",
    "    'num_class': 3,\n",
    "    'eval_metric': 'logloss',\n",
    "\n",
    "    'nthread': 8,\n",
    "    'seed': 1,\n",
    "    'verbosity': 1\n",
    "}\n",
    "\n",
    "model = xgb.train(xgb_params, dtrain, num_boost_round = 300 )"
   ]
  },
  {
   "cell_type": "code",
   "execution_count": 20,
   "metadata": {},
   "outputs": [],
   "source": [
    "y_pred = model.predict(dval)"
   ]
  },
  {
   "cell_type": "code",
   "execution_count": 21,
   "metadata": {},
   "outputs": [],
   "source": [
    "import numpy as np"
   ]
  },
  {
   "cell_type": "code",
   "execution_count": 22,
   "metadata": {},
   "outputs": [],
   "source": [
    "probabilities = model.predict(dval, output_margin=True)\n",
    "probabilities = np.exp(probabilities) / np.sum(np.exp(probabilities), axis=1, keepdims=True)"
   ]
  },
  {
   "cell_type": "code",
   "execution_count": 23,
   "metadata": {},
   "outputs": [],
   "source": [
    "from sklearn.metrics import accuracy_score\n",
    "from sklearn.metrics import roc_auc_score"
   ]
  },
  {
   "cell_type": "code",
   "execution_count": 24,
   "metadata": {},
   "outputs": [
    {
     "name": "stdout",
     "output_type": "stream",
     "text": [
      "AUC 0.8911806785367388\n",
      "logloss 0.46193818231202044\n",
      "Accuracy 0.8153067678684377\n"
     ]
    }
   ],
   "source": [
    "print('AUC',roc_auc_score(y_val, probabilities, multi_class='ovr'))\n",
    "print('logloss',log_loss(y_val, probabilities))\n",
    "print('Accuracy',accuracy_score(y_val, y_pred))"
   ]
  },
  {
   "cell_type": "markdown",
   "metadata": {},
   "source": [
    "## Final model"
   ]
  },
  {
   "cell_type": "markdown",
   "metadata": {},
   "source": [
    "- Standarizing the features\n",
    "    - With StandardScaler\n",
    "- Using the best features\n",
    "    - ['Bilirubin', 'Copper', 'N_Days', 'Stage', 'Hepatomegaly', 'Prothrombin', 'SGOT', 'Edema', 'Platelets', 'Age', 'Cholesterol', 'Drug']\n",
    "- Using XGBoost\n",
    "    - Using the best parameters for XGBoost \n",
    "        - eta = 0.1\n",
    "        - max_depth = 3\n",
    "        - min_child_weight = 10\n",
    "        - num_boost_round = 300\n",
    "        - objective = 'multi:softmax'"
   ]
  }
 ],
 "metadata": {
  "kernelspec": {
   "display_name": "Python 3",
   "language": "python",
   "name": "python3"
  },
  "language_info": {
   "codemirror_mode": {
    "name": "ipython",
    "version": 3
   },
   "file_extension": ".py",
   "mimetype": "text/x-python",
   "name": "python",
   "nbconvert_exporter": "python",
   "pygments_lexer": "ipython3",
   "version": "3.10.5"
  }
 },
 "nbformat": 4,
 "nbformat_minor": 2
}
