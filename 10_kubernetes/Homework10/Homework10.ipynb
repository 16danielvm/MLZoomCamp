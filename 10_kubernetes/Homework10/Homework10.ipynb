{
 "cells": [
  {
   "cell_type": "markdown",
   "metadata": {},
   "source": [
    "# Homework\n",
    "\n",
    "In this homework, we'll deploy the credit scoring model from the homework 5. We already have a docker image for this model - we'll use it for deploying the model to Kubernetes.\n",
    "\n",
    "# Bulding the image\n",
    "\n",
    "Clone the course repo if you haven't:\n",
    "\n",
    "git clone https://github.com/DataTalksClub/machine-learning-zoomcamp.git\n",
    "\n",
    "Go to the course-zoomcamp/cohorts/2023/05-deployment/homework folder and execute the following:\n",
    "\n",
    "docker build -t zoomcamp-model:hw10 .\n",
    "\n",
    "    Note: If you have troubles building the image, you can use the image we built and published to docker hub: docker pull svizor/zoomcamp-model:hw10\n"
   ]
  },
  {
   "cell_type": "markdown",
   "metadata": {},
   "source": [
    "# Question 1\n",
    "\n",
    "### Run it to test that it's working locally:\n",
    "\n",
    "docker run -it --rm -p 9696:9696 zoomcamp-model:hw10\n",
    "\n",
    "### And in another terminal, execute q6_test.py file:\n",
    "\n",
    "python q6_test.py\n",
    "\n",
    "### You should see this:\n",
    "\n",
    "{'get_credit': True, 'get_credit_probability': <value>}\n",
    "\n",
    "Here <value> is the probability of getting a credit card. You need to choose the right one."
   ]
  },
  {
   "cell_type": "code",
   "execution_count": 4,
   "metadata": {},
   "outputs": [
    {
     "name": "stdout",
     "output_type": "stream",
     "text": [
      "{'get_credit': True, 'get_credit_probability': 0.726936946355423}\n"
     ]
    }
   ],
   "source": [
    "!python q6_test.py"
   ]
  },
  {
   "cell_type": "markdown",
   "metadata": {},
   "source": [
    "# Installing kubectl and kind\n",
    "\n",
    "You need to install:\n",
    "\n",
    "    kubectl - https://kubernetes.io/docs/tasks/tools/ (you might already have it - check before installing)\n",
    "    kind - https://kind.sigs.k8s.io/docs/user/quick-start/\n",
    "\n",
    "# Question 2\n",
    "\n",
    "What's the version of kind that you have?\n",
    "\n",
    "Use kind --version to find out."
   ]
  },
  {
   "cell_type": "code",
   "execution_count": 6,
   "metadata": {},
   "outputs": [
    {
     "name": "stdout",
     "output_type": "stream",
     "text": [
      "kind version 0.20.0\n"
     ]
    }
   ],
   "source": [
    "!C:/kind/kind.exe --version"
   ]
  },
  {
   "cell_type": "markdown",
   "metadata": {},
   "source": [
    "# Creating a cluster\n",
    "\n",
    "### Now let's create a cluster with kind:\n",
    "\n",
    "kind create cluster\n",
    "\n",
    "### And check with kubectl that it was successfully created:\n",
    "\n",
    "kubectl cluster-info"
   ]
  },
  {
   "cell_type": "markdown",
   "metadata": {},
   "source": [
    "# Question 3\n",
    "\n",
    "Now let's test if everything works. Use kubectl to get the list of running services.\n",
    "\n",
    "What's CLUSTER-IP of the service that is already running there?"
   ]
  },
  {
   "cell_type": "code",
   "execution_count": 7,
   "metadata": {},
   "outputs": [
    {
     "name": "stdout",
     "output_type": "stream",
     "text": [
      "NAME         TYPE        CLUSTER-IP   EXTERNAL-IP   PORT(S)   AGE\n",
      "kubernetes   ClusterIP   10.96.0.1    <none>        443/TCP   2m11s\n"
     ]
    }
   ],
   "source": [
    "!kubectl get service "
   ]
  },
  {
   "cell_type": "markdown",
   "metadata": {},
   "source": [
    "# Question 4\n",
    "\n",
    "To be able to use the docker image we previously created (zoomcamp-model:hw10), we need to register it with kind.\n",
    "\n",
    "What's the command we need to run for that?\n"
   ]
  },
  {
   "cell_type": "markdown",
   "metadata": {},
   "source": [
    "kind load docker-image"
   ]
  },
  {
   "cell_type": "markdown",
   "metadata": {},
   "source": [
    "#Question 5\n",
    "\n",
    "Now let's create a deployment config (e.g. deployment.yaml)"
   ]
  },
  {
   "cell_type": "markdown",
   "metadata": {},
   "source": [
    "Replace <Image>, <Memory>, <CPU>, <Port> with the correct values.\n",
    "\n",
    "What is the value for <Port>?"
   ]
  },
  {
   "cell_type": "markdown",
   "metadata": {},
   "source": [
    "9696"
   ]
  },
  {
   "cell_type": "markdown",
   "metadata": {},
   "source": [
    "# Question 6\n",
    "\n",
    "Let's create a service for this deployment (service.yaml):"
   ]
  },
  {
   "cell_type": "markdown",
   "metadata": {},
   "source": [
    "Fill it in. What do we need to write instead of <???>?"
   ]
  },
  {
   "cell_type": "markdown",
   "metadata": {},
   "source": [
    "credit"
   ]
  }
 ],
 "metadata": {
  "kernelspec": {
   "display_name": "Python 3",
   "language": "python",
   "name": "python3"
  },
  "language_info": {
   "codemirror_mode": {
    "name": "ipython",
    "version": 3
   },
   "file_extension": ".py",
   "mimetype": "text/x-python",
   "name": "python",
   "nbconvert_exporter": "python",
   "pygments_lexer": "ipython3",
   "version": "3.10.5"
  }
 },
 "nbformat": 4,
 "nbformat_minor": 2
}
