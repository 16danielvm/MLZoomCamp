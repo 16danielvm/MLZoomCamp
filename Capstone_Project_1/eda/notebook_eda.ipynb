{
 "cells": [
  {
   "cell_type": "code",
   "execution_count": 1,
   "metadata": {},
   "outputs": [],
   "source": [
    "import pandas as pd \n",
    "import numpy as np\n",
    "import matplotlib.pyplot as plt\n",
    "import seaborn as sns\n",
    "\n",
    "from ydata_profiling import ProfileReport\n",
    "\n",
    "from sklearn.preprocessing import LabelEncoder\n",
    "\n",
    "from sklearn.model_selection import train_test_split\n",
    "from sklearn.linear_model import LogisticRegression\n",
    "from sklearn.metrics import log_loss\n",
    "from sklearn.metrics import roc_auc_score\n",
    "from sklearn.metrics import accuracy_score\n"
   ]
  },
  {
   "cell_type": "code",
   "execution_count": 2,
   "metadata": {},
   "outputs": [
    {
     "data": {
      "text/html": [
       "<div>\n",
       "<style scoped>\n",
       "    .dataframe tbody tr th:only-of-type {\n",
       "        vertical-align: middle;\n",
       "    }\n",
       "\n",
       "    .dataframe tbody tr th {\n",
       "        vertical-align: top;\n",
       "    }\n",
       "\n",
       "    .dataframe thead th {\n",
       "        text-align: right;\n",
       "    }\n",
       "</style>\n",
       "<table border=\"1\" class=\"dataframe\">\n",
       "  <thead>\n",
       "    <tr style=\"text-align: right;\">\n",
       "      <th></th>\n",
       "      <th>id</th>\n",
       "      <th>N_Days</th>\n",
       "      <th>Drug</th>\n",
       "      <th>Age</th>\n",
       "      <th>Sex</th>\n",
       "      <th>Ascites</th>\n",
       "      <th>Hepatomegaly</th>\n",
       "      <th>Spiders</th>\n",
       "      <th>Edema</th>\n",
       "      <th>Bilirubin</th>\n",
       "      <th>Cholesterol</th>\n",
       "      <th>Albumin</th>\n",
       "      <th>Copper</th>\n",
       "      <th>Alk_Phos</th>\n",
       "      <th>SGOT</th>\n",
       "      <th>Tryglicerides</th>\n",
       "      <th>Platelets</th>\n",
       "      <th>Prothrombin</th>\n",
       "      <th>Stage</th>\n",
       "      <th>Status</th>\n",
       "    </tr>\n",
       "  </thead>\n",
       "  <tbody>\n",
       "    <tr>\n",
       "      <th>0</th>\n",
       "      <td>0</td>\n",
       "      <td>999</td>\n",
       "      <td>D-penicillamine</td>\n",
       "      <td>21532</td>\n",
       "      <td>M</td>\n",
       "      <td>N</td>\n",
       "      <td>N</td>\n",
       "      <td>N</td>\n",
       "      <td>N</td>\n",
       "      <td>2.3</td>\n",
       "      <td>316.0</td>\n",
       "      <td>3.35</td>\n",
       "      <td>172.0</td>\n",
       "      <td>1601.0</td>\n",
       "      <td>179.80</td>\n",
       "      <td>63.0</td>\n",
       "      <td>394.0</td>\n",
       "      <td>9.7</td>\n",
       "      <td>3.0</td>\n",
       "      <td>D</td>\n",
       "    </tr>\n",
       "    <tr>\n",
       "      <th>1</th>\n",
       "      <td>1</td>\n",
       "      <td>2574</td>\n",
       "      <td>Placebo</td>\n",
       "      <td>19237</td>\n",
       "      <td>F</td>\n",
       "      <td>N</td>\n",
       "      <td>N</td>\n",
       "      <td>N</td>\n",
       "      <td>N</td>\n",
       "      <td>0.9</td>\n",
       "      <td>364.0</td>\n",
       "      <td>3.54</td>\n",
       "      <td>63.0</td>\n",
       "      <td>1440.0</td>\n",
       "      <td>134.85</td>\n",
       "      <td>88.0</td>\n",
       "      <td>361.0</td>\n",
       "      <td>11.0</td>\n",
       "      <td>3.0</td>\n",
       "      <td>C</td>\n",
       "    </tr>\n",
       "    <tr>\n",
       "      <th>2</th>\n",
       "      <td>2</td>\n",
       "      <td>3428</td>\n",
       "      <td>Placebo</td>\n",
       "      <td>13727</td>\n",
       "      <td>F</td>\n",
       "      <td>N</td>\n",
       "      <td>Y</td>\n",
       "      <td>Y</td>\n",
       "      <td>Y</td>\n",
       "      <td>3.3</td>\n",
       "      <td>299.0</td>\n",
       "      <td>3.55</td>\n",
       "      <td>131.0</td>\n",
       "      <td>1029.0</td>\n",
       "      <td>119.35</td>\n",
       "      <td>50.0</td>\n",
       "      <td>199.0</td>\n",
       "      <td>11.7</td>\n",
       "      <td>4.0</td>\n",
       "      <td>D</td>\n",
       "    </tr>\n",
       "    <tr>\n",
       "      <th>3</th>\n",
       "      <td>3</td>\n",
       "      <td>2576</td>\n",
       "      <td>Placebo</td>\n",
       "      <td>18460</td>\n",
       "      <td>F</td>\n",
       "      <td>N</td>\n",
       "      <td>N</td>\n",
       "      <td>N</td>\n",
       "      <td>N</td>\n",
       "      <td>0.6</td>\n",
       "      <td>256.0</td>\n",
       "      <td>3.50</td>\n",
       "      <td>58.0</td>\n",
       "      <td>1653.0</td>\n",
       "      <td>71.30</td>\n",
       "      <td>96.0</td>\n",
       "      <td>269.0</td>\n",
       "      <td>10.7</td>\n",
       "      <td>3.0</td>\n",
       "      <td>C</td>\n",
       "    </tr>\n",
       "    <tr>\n",
       "      <th>4</th>\n",
       "      <td>4</td>\n",
       "      <td>788</td>\n",
       "      <td>Placebo</td>\n",
       "      <td>16658</td>\n",
       "      <td>F</td>\n",
       "      <td>N</td>\n",
       "      <td>Y</td>\n",
       "      <td>N</td>\n",
       "      <td>N</td>\n",
       "      <td>1.1</td>\n",
       "      <td>346.0</td>\n",
       "      <td>3.65</td>\n",
       "      <td>63.0</td>\n",
       "      <td>1181.0</td>\n",
       "      <td>125.55</td>\n",
       "      <td>96.0</td>\n",
       "      <td>298.0</td>\n",
       "      <td>10.6</td>\n",
       "      <td>4.0</td>\n",
       "      <td>C</td>\n",
       "    </tr>\n",
       "  </tbody>\n",
       "</table>\n",
       "</div>"
      ],
      "text/plain": [
       "   id  N_Days             Drug    Age Sex Ascites Hepatomegaly Spiders Edema  \\\n",
       "0   0     999  D-penicillamine  21532   M       N            N       N     N   \n",
       "1   1    2574          Placebo  19237   F       N            N       N     N   \n",
       "2   2    3428          Placebo  13727   F       N            Y       Y     Y   \n",
       "3   3    2576          Placebo  18460   F       N            N       N     N   \n",
       "4   4     788          Placebo  16658   F       N            Y       N     N   \n",
       "\n",
       "   Bilirubin  Cholesterol  Albumin  Copper  Alk_Phos    SGOT  Tryglicerides  \\\n",
       "0        2.3        316.0     3.35   172.0    1601.0  179.80           63.0   \n",
       "1        0.9        364.0     3.54    63.0    1440.0  134.85           88.0   \n",
       "2        3.3        299.0     3.55   131.0    1029.0  119.35           50.0   \n",
       "3        0.6        256.0     3.50    58.0    1653.0   71.30           96.0   \n",
       "4        1.1        346.0     3.65    63.0    1181.0  125.55           96.0   \n",
       "\n",
       "   Platelets  Prothrombin  Stage Status  \n",
       "0      394.0          9.7    3.0      D  \n",
       "1      361.0         11.0    3.0      C  \n",
       "2      199.0         11.7    4.0      D  \n",
       "3      269.0         10.7    3.0      C  \n",
       "4      298.0         10.6    4.0      C  "
      ]
     },
     "execution_count": 2,
     "metadata": {},
     "output_type": "execute_result"
    }
   ],
   "source": [
    "DATA_PATH = '../data/train.csv'\n",
    "df = pd.read_csv(DATA_PATH)\n",
    "df.head()"
   ]
  },
  {
   "cell_type": "markdown",
   "metadata": {},
   "source": [
    "## Exploratory Data Analysis (EDA)"
   ]
  },
  {
   "cell_type": "code",
   "execution_count": 3,
   "metadata": {},
   "outputs": [
    {
     "name": "stdout",
     "output_type": "stream",
     "text": [
      "<class 'pandas.core.frame.DataFrame'>\n",
      "RangeIndex: 7905 entries, 0 to 7904\n",
      "Data columns (total 20 columns):\n",
      " #   Column         Non-Null Count  Dtype  \n",
      "---  ------         --------------  -----  \n",
      " 0   id             7905 non-null   int64  \n",
      " 1   N_Days         7905 non-null   int64  \n",
      " 2   Drug           7905 non-null   object \n",
      " 3   Age            7905 non-null   int64  \n",
      " 4   Sex            7905 non-null   object \n",
      " 5   Ascites        7905 non-null   object \n",
      " 6   Hepatomegaly   7905 non-null   object \n",
      " 7   Spiders        7905 non-null   object \n",
      " 8   Edema          7905 non-null   object \n",
      " 9   Bilirubin      7905 non-null   float64\n",
      " 10  Cholesterol    7905 non-null   float64\n",
      " 11  Albumin        7905 non-null   float64\n",
      " 12  Copper         7905 non-null   float64\n",
      " 13  Alk_Phos       7905 non-null   float64\n",
      " 14  SGOT           7905 non-null   float64\n",
      " 15  Tryglicerides  7905 non-null   float64\n",
      " 16  Platelets      7905 non-null   float64\n",
      " 17  Prothrombin    7905 non-null   float64\n",
      " 18  Stage          7905 non-null   float64\n",
      " 19  Status         7905 non-null   object \n",
      "dtypes: float64(10), int64(3), object(7)\n",
      "memory usage: 1.2+ MB\n"
     ]
    }
   ],
   "source": [
    "df.info()"
   ]
  },
  {
   "cell_type": "markdown",
   "metadata": {},
   "source": [
    "The table above shows that there are 7905 rows and 20 columns, and there are no null values."
   ]
  },
  {
   "cell_type": "markdown",
   "metadata": {},
   "source": [
    "#### Let's rectify the null data."
   ]
  },
  {
   "cell_type": "code",
   "execution_count": 4,
   "metadata": {},
   "outputs": [
    {
     "name": "stdout",
     "output_type": "stream",
     "text": [
      "id [   0    1    2 ... 7902 7903 7904]\n",
      "N_Days [ 999 2574 3428 2576  788  703 1300 1615 2050 2615 3581 1614 1847 1153\n",
      "  904 1212 1967 1592 1481 3358 3092  326 2363 1152 3577  799 1832 4467\n",
      " 2301  943 1882 3244 3090  850 2168 1786 1455  334 1363 3170 4032 2835\n",
      " 1434 3913  994 1666 3820 1149  930 2157 2555 1776 4050   51 3445 1765\n",
      " 3458  552 2769 4453 2504  980  853  786 3395 2357  549 1447  732  597\n",
      "  708 2105 1295 2419 3098  769 1083 1785 1657 1418  737 1701 2598 2891\n",
      " 1234 3933 1271 3099 1831 3707  191 2318 1321 1420  794 1690 3672  837\n",
      " 1349 2556 4523 1170 1191 1367 1412 4509 2294 2976 1303 1250 2255 1293\n",
      " 3149 1433 2583 3086 2297 1908 1000 2224 4190 4500 1978 2386 2624 4079\n",
      " 1568 3422 4365 3336 1576 2990  762 1951 3839  974 2403 1649 2022 1770\n",
      " 3297 1569 1297 2713 1282   77 1197 4039 1302  304 1487 2365 2170  321\n",
      " 1725  971 1077 3468 2350 1677 1216  385 2657 1945 1408 1444 1702 1030\n",
      "  179 1360 1525 1682  877  890 1165 2330 1783  939  216 4556  735 2449\n",
      " 1932 3574 3853  223 3282 1012 2452 1067  264 3255   71 1435 1735  673\n",
      "  797 2772  131  824 3823 1413   41 2443  533 1356 2456 4127 3992 2863\n",
      " 1215 1469 1874 2171 2400  901 1558 1542 3239 2466 2797 3222 2033 2563\n",
      " 2221  130 2689 2540 1301 2847  388 1230 2081 1457 2055 3069 1810  790\n",
      " 4427 2176 1462  750 2178 1925 2609 3059 1084 1235 4025 2573 1320  859\n",
      " 4232 1492 1350  186 4191  140 2272  110 2870 1790 4795 2332 3050 2468\n",
      " 2503 3584 3611 2256 1536  400 2241 4196  611 3388 4256 2361 1639 1347\n",
      " 4459 1658 1427 1260 2090 1746 2356 3762 1979 1556  348 2216 3850  733\n",
      " 2666 2329 1504 2321  778 1329 1769  207 2527 2834 1217 1129 1741 4184\n",
      "  460 2692 2288 1654 2644 2580 1827 1834 2435 2475 2944 2721 1656 2796\n",
      " 1210 3035 2195 1344 2447 2569 1236 2844 2025 1080 1401 3157  839 2995\n",
      " 1429 1237 1037  198 1560  515  694 3150 2111 2534 2106 2359  681 2544\n",
      " 1518 3492 1214 2523 1870 1478  489 3267  121 2127 2149 1468 1419 2716\n",
      " 1443 1740 2537 1166  108 2267  851 1328 1616  697  221 2341 1097 2103\n",
      " 1635  727 1381 2115  559 1168 1866  249 3231 1436 1095 3843  705 2249\n",
      " 1341 1588 2520  934  617 1557  873 1653 1223 1050 2698 2080  124  222\n",
      "   78 1590 2442 1987 2202 3398 3127  181 1899 1414  421 4083 2338  791\n",
      " 1681  193 1343 2172  935 3084 1141 1430 2457 1425 2099  558 1290 1092\n",
      "  973 2083  691  401 3030 2286 2557 1577 1415   76 4392 2084 1371 1474\n",
      " 1881 1704 3459  466 1698 2620 1029  613 1675 2898 1483  199  214]\n",
      "Drug ['D-penicillamine' 'Placebo']\n",
      "Age [21532 19237 13727 18460 16658 19270 17703 21281 20684 15009 25772 14106\n",
      " 12279 22347 22388 15112 17884 14872 18302 17031 15612 18199 16736 27398\n",
      " 27220 17442 12398 15105 19002 15265 18102 20254 23235 17263 22369 20597\n",
      " 21247 12120 18993 12816 21699 17758 14019 15628 20662 22836 20459 20256\n",
      " 17323 20600 25546 18733 12369 16688 24681 19619 19994 19246 19025 16858\n",
      " 13378 13178 16279 20834 22336 20510 22877 15730 17774 15548 17090 13073\n",
      " 18499 19358 22767 13918 13616 19693 11485 19567 12779 20567 19015 22306\n",
      " 15694 22646 14812 20483 16990 19098 22173 20284 19884 14772 11462 11872\n",
      " 16718 13995 23331 20449 17889 16839 19049 14558 20233 24101 14161 12307\n",
      " 19060 18719 20442 22781 22156 13913 22873 20810 15177 19540 20392 26580\n",
      " 20454 25569 16467 20440 22265 22642 18337 19221 12557 21307 15056 22857\n",
      " 14245 14705 17246 15574 18731 18799 28650 24650 11868 16967 26567 13329\n",
      " 25340 19817 20617 17180 18435 20555 15119 15526 16374 20248 14060 17233\n",
      " 21610 23376 16300 15116 16154 11167 15712 16109 11058 22346 18701 14899\n",
      " 16728 22960 13806 21421 12258 21294 25899 19126 12227 21898 22514 17320\n",
      " 21828 15591 17850 24621 19256 24803 16216 18137 14754 24585 12912 17080\n",
      " 17046 25023 20604 13486 20736 25594 19698 20708 15601 16944 20232 18352\n",
      " 18964 16071 19379 12433 20955 12636 10550 19318 16714 13535 21915 18118\n",
      " 23107 20241 22111 17809 10795 21324 19155 12641 25873 11273 24064 14939\n",
      " 23585 16094 24201 22797 18393 13879 12897 12839 22546 19470 16463 14212\n",
      " 15463 19722 23612 16941 20354 18263 17844 16513 16929 23241 19295 14191\n",
      " 15037 18713 24020 22977 17841 16418 12285 21464 12963 13736 20104 23445\n",
      " 16802 16898 21600 21483 17738 13344 18806 19577 20717 19544 16034 25329\n",
      " 17525 15198 19916 18176 12109 13628 20891 18215 19724 16417 16050 26259\n",
      " 15322 19327 16261 11912 17874 17532 22280 17664 22574 21904 22881 12035\n",
      " 20819 11773 19258 24472 20535  9598 14025 24622 18329 12738 14684 13075\n",
      " 24257 17897 13149 20296 14317 15031 12979 16122 17337 23741 15909 17947\n",
      " 25006 15857 17512 23011 19751 15895 12201 24641 10958 10810 12983 14975\n",
      " 15341 27239 12053 15706 13120 20799 28018 22176 14972 20393 18972 19879\n",
      " 18021 19662 21074 22342 14610 18717 16939 13728 23111 13170 23257 11577\n",
      " 20990 18217 16340 22769 19118 11330 12544 17467 16176 24107 22897 20352\n",
      " 14176 17167 19035 14393 18739 21550 19241 16558 11463 20644 18730 27394\n",
      " 25568 14155 17241 23772 14875 13514 18628]\n",
      "Sex ['M' 'F']\n",
      "Ascites ['N' 'Y']\n",
      "Hepatomegaly ['N' 'Y']\n",
      "Spiders ['N' 'Y']\n",
      "Edema ['N' 'Y' 'S']\n",
      "Bilirubin [ 2.3  0.9  3.3  0.6  1.1  1.   0.7  0.5  3.9  6.6  1.3  2.   1.2 28.\n",
      "  3.5  3.7  1.5  3.4  0.8  1.8 12.6  1.4  2.2  8.6  2.1  6.4  2.6  0.4\n",
      "  6.1 14.   6.5  3.2  5.   3.6  2.8  5.5  1.6  4.7  5.2  0.3 14.4  9.5\n",
      "  2.9  7.1  5.6 11.  17.4 22.5  4.5  2.7 11.5  2.5 14.1 11.4 10.8  7.2\n",
      " 14.5  3.1 21.6  4.   1.9 13.   5.1  3.   5.7  8.  17.1 24.5  5.9  8.5\n",
      "  6.8  2.4 16.2  8.4  1.7 10.5  6.7  6.3  7.3  3.8 12.7 12.4  8.7  4.6\n",
      " 12.2  5.4 20.  11.3  4.2  5.3 17.9 25.5 18.  14.6  4.4  5.8  9.  15.2\n",
      " 11.2 17.2  6.  11.8 21.4 11.7 11.1  7.4 10.9  9.9 12.1 17.8 21.9]\n",
      "Cholesterol [ 316.  364.  299.  256.  346.  227.  328.  273.  360.  478.  252.  232.\n",
      "  304.  335.  392.  259.  322.  303.  244.  215.  373.  253.  325.  414.\n",
      "  528.  556.  226.  246.  178.  290.  293.  298.  222.  286.  194.  317.\n",
      " 1000.  460.  280.  274.  248.  200.  267.  262.  347. 1276.  334.  310.\n",
      "  236.  399.  127.  383. 1712.  204.  235.  216.  217.  808.  950.  604.\n",
      " 1600.  456.  348.  336.  242.  308.  408.  448.  426.  315.  450.  302.\n",
      "  578.  260.  338.  404.  263.  674.  288.  344.  372.  172.  660.  420.\n",
      "  233.  219.  400.  329.  502.  300.  412.  432.  436.  932.  120.  370.\n",
      "  331.  468.  466.  458.  608.  636.  132.  321.  271.  168.  206.  296.\n",
      "  223.  276.  350.  572.  353.  257.  393.  212.  309.  225.  283.  250.\n",
      "  646.  518.  396.  342.  268.  266.  514.  201.  213.  652.  472.  196.\n",
      "  175.  416.  395.  176.  191.  356.  282.  354.  261.  291.  376.  205.\n",
      "  255.  394.  390.  151.  324.  239.  279.  174.  614.  231.  281.  374.\n",
      "  318.  247.  243.  339. 1092.  358.  361.  294.  210.  345.  486.  557.\n",
      "  320.  277.  622.  198.  188.  427.  562.  558.  275.  251.  434.  314.\n",
      " 1480.  269. 1336.  193.  340.  332.  576. 1015.  258.  474.  586.  464.\n",
      "  187.  220. 1236. 1128.  482.  546.  149.  498. 1775.  658.  476.  442.\n",
      "  382.  431.  199.  536.  387.  619.  218.  446.  676.  134.  750.  678.\n",
      "  588.  401. 1492.  746.  574. 1436.  513.  648.  405.  671.]\n",
      "Albumin [3.35 3.54 3.55 3.5  3.65 3.46 3.94 3.6  3.61 3.68 3.83 3.2  3.58 3.43\n",
      " 3.85 3.77 3.1  3.02 3.95 3.9  4.03 3.34 3.26 3.79 3.67 2.93 4.4  3.7\n",
      " 3.31 3.42 3.56 3.76 3.99 3.51 3.64 3.8  4.09 2.74 3.57 3.52 3.69 3.23\n",
      " 3.4  3.93 3.82 3.97 3.36 3.14 3.21 3.74 3.37 3.18 3.08 3.72 3.41 3.75\n",
      " 3.63 4.3  2.94 2.75 3.98 4.14 3.48 3.06 3.53 3.84 3.   3.19 2.81 3.66\n",
      " 4.1  4.22 3.03 3.87 3.22 4.23 2.54 3.78 2.33 3.25 3.44 3.91 3.86 2.43\n",
      " 3.11 3.01 2.55 4.04 3.12 3.73 2.8  3.07 2.23 3.59 4.38 4.01 3.89 3.62\n",
      " 4.   4.16 4.19 3.33 3.38 4.64 4.08 2.53 2.56 3.96 3.45 3.15 4.24 3.39\n",
      " 4.52 2.83 4.2  2.98 4.13 4.18 2.95 2.57 4.06 2.77 2.1  3.47 4.07 2.97\n",
      " 3.92 2.84 4.17 3.29 2.89 3.81 2.76 3.3  2.35 2.9  2.64 3.32 4.26 2.27\n",
      " 3.04 2.31 2.86 2.6  2.85 3.13 4.21 4.31 3.05 2.73 3.16 3.17 3.24 2.58\n",
      " 2.96 4.34 1.96 4.02 2.52 2.99]\n",
      "Copper [172.  63. 131.  58.  34.  43.  36.  72.  39.  26.  62.  38.  24.  13.\n",
      "  44.  67.  52.  70. 199.  69.  81.  76.  41. 173.  48. 281. 188.  40.\n",
      "  50.  89. 114.  10.  75.  32. 148.  29.  79. 140.  84.  51.  90.  94.\n",
      " 121.  14. 102.  22.  28.  27.  11.  23. 251. 111. 143.  37.  42. 123.\n",
      "  74.  88.  53.  18. 129. 159. 207.  31. 103.  16. 108.  91.  97.  68.\n",
      "  20.  15. 227.  73.  30. 267.  77. 139. 464.  86. 269.  54. 155.  17.\n",
      " 161. 138. 105.  46.  59. 152.  35.  49. 178. 154. 221.  25.  33. 210.\n",
      " 225. 200.  65. 101. 196.  96.   9. 243. 444.  80.  82.   4. 145. 233.\n",
      "  64. 124. 208. 205.  95. 141.  57. 380. 186. 231. 358. 261. 177. 100.\n",
      "  12.  60. 219. 247. 412. 588. 209. 158. 262. 290. 112. 116.  78.  85.\n",
      " 110. 558. 232. 280. 217. 150. 115.  47. 107. 234. 220. 201.   5.  19.\n",
      "  45. 156. 180. 130. 308. 190. 122.  71. 228. 182. 136. 456.  98. 113.\n",
      " 104.  66. 151.]\n",
      "Alk_Phos [ 1601.   1440.   1029.   1653.   1181.   6456.2  1677.    598.   3196.\n",
      "  1758.    377.   1105.    678.   1345.   1065.   1395.    936.    834.\n",
      "  1032.   1819.    645.   1353.    642.   2065.   2276.    876.   1282.\n",
      "  1713.   1062.   1882.    754.   1020.   3472.    938.   2139.   1833.\n",
      "   613.    289.   1258.   1636.   1866.   1040.   1472.    797.   1052.\n",
      "   648.   5430.2   918.   3228.    878.   1044.   1960.   1234.   1056.\n",
      "   960.    591.    843.   3681.   1082.    674.    722.    824.   1509.\n",
      "  2120.   1174.   2870.   2374.   1104.   1112.   1840.    979.    823.\n",
      "  1556.    696.    614.    924.    369.   1637.   1718.   1523.   3186.\n",
      " 10396.8  5487.2   855.   2148.    663.   1136.   1492.    884.   3740.\n",
      "  2656.   1868.   7277.   1190.   5833.   1070.    676.    646.    466.\n",
      "  5184.    666.   1074.   2108.   9066.8  1877.   1110.   1098.   1006.\n",
      "  5300.    784.   1237.   5890.    705.   1072.    944.   3150.    836.\n",
      "  1142.   1265.   1003.   2184.    804.   1790.   2045.   1689.   1584.\n",
      "  1592.   1138.   2412.   2009.    964.    933.   1787.   2468.    766.\n",
      "   975.    685.   7394.8   955.    654.   6121.8   423.    976.    681.\n",
      "  1268.   1408.   3896.   1613.   2039.   2562.   1134.    720.   2769.\n",
      "   842.   1881.   1403.   1083.    718.   1214.   1533.   1243.    554.\n",
      "   688.    724.   1293.   2115.   1768.   1692.    620.    665.   3836.\n",
      "  2132.    657.   1273.   9009.8  1212.    453.   7622.8  1580.   5396.\n",
      "  3697.4   791.   6064.8  1376.    516.   1716.    715.   1260.   1553.\n",
      "  1516.    857.   1015.    414.   1536.    815.   1828.    897.    640.\n",
      "  1622.   1162.   1215.   2310.    746.   1257.    794.    671.   1860.\n",
      "  1009.    758.   1626.   1307.    728.    601.   2520.    661.  10165.\n",
      "  1164.   2424.    837.   1080.   3336.  11046.6 12258.8   558.    559.\n",
      " 11552.   1826.    858.   1387.   1204.    911.    983.   2201.    622.\n",
      "  1812.   2544.   1428.   2716.   1629.   1031.  10795.4  1093.  13862.4\n",
      "  4332.   2496.   1166.   1284.    890.   1441.    310.   1406.   1303.\n",
      "  3510.  11320.2   577.   1857.    714.    721.    844.   2622.    967.\n",
      "  2583.    658.   1664.   1794.   1620.   1128.    790.   1132.   5719.\n",
      "  4651.2  1210.   1995.   1391.   1218.   2176.    961.    820.    637.\n",
      "  8778.    856.    744.   1050.   1919.   1390.  13486.2  2456.   2460.\n",
      "  6931.2  1588.    578.   2404.   1909.   1055.   1120.   1644.   3292.\n",
      "  1911.   2078.   2250.   1119.   2150.   1001.   1666.    810.   1236.\n",
      "   733.   5084.4  1165.    662.   1892.   1216.    908.   1793.   1024.\n",
      "  1087.   9933.2   898.   1092.   1975.   4032.   1623.    597.   7708.8\n",
      "  1228.   1798.    652.   1042.   1067.   3736.   1581.   2512.   3074.\n",
      "   556.    778.    726.   1079.    854.   1061.    965.   2344.   7018.\n",
      "  1656.   1095.    636.    966.    968.    686.    788.    604.    799.\n",
      "   684.    948.   1084.    576.   1712.    677.    919.   1737.    691.\n",
      "  1600.    833.   1810.   1847. ]\n",
      "SGOT [179.8  134.85 119.35  71.3  125.55  60.63 137.95  52.7   94.55 171.\n",
      "  56.76 128.65  65.1  153.45  98.   184.45  60.45 170.5   97.65 116.25\n",
      "  41.85 232.5  114.7   84.   120.9   93.   130.2  106.95 113.52 206.4\n",
      "  97.   104.49  88.35  74.4   66.65  83.7  122.45 196.85 120.   457.25\n",
      " 103.85  86.    82.15 155.    49.6  158.1   85.25  58.    70.   186.\n",
      "  75.95 100.75 111.6  117.8  175.15  51.15 136.4   43.4  188.34 166.3\n",
      " 137.   127.    77.5   72.85  86.8   71.   110.    82.   140.    89.9\n",
      " 127.71  57.35  62.    53.   244.9   54.25 150.    83.    46.5   55.8\n",
      " 139.5   96.1  127.1  126.42 164.3  110.05  79.05 161.2  151.9  218.55\n",
      " 198.4  328.6  111.   125.    87.   288.   272.8  121.26 108.5  221.88\n",
      " 102.3  210.8   69.75 134.    57.   182.9  176.7   26.35  56.   159.65\n",
      " 113.15 214.85 101.91  91.45 227.04 167.4  142.6   72.24 117.    91.\n",
      "  82.56 163.   106.   147.25 145.7  144.15 338.    80.6  141.05  79.98\n",
      "  74.    92.   133.3  205.   150.35 193.    55.   105.4  165.85  95.46\n",
      " 190.   203.05  73.53  67.08 173.6  181.35  99.33  75.   189.1  201.5\n",
      " 246.45 136.   105.78 122.   178.25 142.    45.   280.55  52.   145.\n",
      " 136.74 187.55 220.1  112.    99.   209.25  91.55 142.5  180.8  172.05\n",
      " 180.6  238.7  237.15 188.    89.   128.    99.2  215.45 133.   130.\n",
      " 185.   152.45  28.38 113.53 299.15 135.    85.   143.6  111.5  103.\n",
      " 221.65 260.15  90.   253.    40.6   77.   100.    95.   115.25 221.04\n",
      " 162.   106.98  59.35 166.4  103.78  96.  ]\n",
      "Tryglicerides [ 63.  88.  50.  96.  68.  90. 214. 154. 140. 185.  95.  99. 169. 145.\n",
      "  78. 133. 139.  91.  71. 112. 100. 104. 110.  55. 171. 137.  58.  89.\n",
      " 178. 146.  56. 108.  44. 111. 131.  69.  87.  84. 118. 143. 158. 157.\n",
      "  86. 101. 242. 152.  85.  92.  59. 149.  53. 177.  64. 174. 114.  75.\n",
      "  52. 318. 113.  70. 189. 166. 193. 134. 106. 117.  83. 179. 232.  62.\n",
      " 124. 260.  98. 155.  82.  94.  72. 209. 109. 156. 130. 120. 210. 126.\n",
      " 151. 105. 128. 219.  77. 168. 205. 213.  49. 102. 175. 165.  93. 272.\n",
      " 180. 195. 191.  74. 135. 229.  76. 119. 125. 123. 322. 243. 153. 164.\n",
      " 103. 188.  67.  66. 224.  80. 107. 432.  33.  57.  79. 194.  81. 142.\n",
      " 231.  73. 280. 144. 598. 184. 206. 230. 116. 200. 218. 309.  97. 121.\n",
      " 127.  46. 319. 122. 172. 382. 283.  65. 182. 201. 393. 161. 159. 262.]\n",
      "Platelets [394. 361. 199. 269. 298. 213. 291. 227. 234. 336. 145. 273. 248. 156.\n",
      " 244. 259. 328. 341. 153. 132. 233. 268. 277. 518. 385. 123. 348. 265.\n",
      " 211. 136. 447. 309. 278. 195. 293. 427. 226. 289. 238. 172. 445. 283.\n",
      " 306.  79. 302. 426. 344. 251. 221. 334. 165. 286. 297. 239. 117. 263.\n",
      " 305. 249. 354. 358. 181. 151. 142. 242. 316. 326. 231. 178. 215. 563.\n",
      " 371. 225. 258. 200. 442. 264. 149. 224. 390. 295. 270. 128. 467. 280.\n",
      " 349. 190. 206. 240. 214. 252. 198. 301. 254. 322. 216.  81. 312. 356.\n",
      " 164. 307. 203. 382. 271. 201. 372. 319. 192. 275. 381. 124. 266. 380.\n",
      " 228. 330. 493. 360. 311. 410. 210. 188. 430. 256. 412. 102. 173.  80.\n",
      " 120. 284. 253. 329. 423. 401. 144. 236. 217.  95. 338. 514. 160. 340.\n",
      "  65. 246. 539. 327. 324. 373. 180. 166. 202.  88. 121. 431. 339. 304.\n",
      " 318. 223. 399. 317. 388. 299. 204. 418. 207.  97. 108. 471. 261. 110.\n",
      " 209. 243.  71. 182. 137. 335. 303. 212. 183. 104. 175. 421. 422. 282.\n",
      " 129. 325. 141. 313. 279.  70. 321. 474. 119. 375. 139. 140. 143. 332.\n",
      " 122. 281. 439. 419. 176. 288. 296. 150. 255.  62. 438. 126. 114. 453.\n",
      " 365. 146. 185. 337. 487. 168. 362.  76. 193. 167. 138. 515. 148. 464.\n",
      " 155. 441. 118.]\n",
      "Prothrombin [ 9.7 11.  11.7 10.7 10.6 11.5  9.8  9.9 10.   9.5 10.4 11.2  9.6 12.1\n",
      " 10.1 11.1 10.2 11.6 11.8 13.6 12.4 11.3 10.9  9.  10.5 11.4 10.3 13.2\n",
      " 10.8  9.4 11.9 12.2 12.  13.  12.3 15.2  9.2 14.1 12.9 12.7  9.3  9.1\n",
      " 17.1 12.6 13.3 13.4 12.5 13.1 18. ]\n",
      "Stage [3. 4. 2. 1.]\n",
      "Status ['D' 'C' 'CL']\n"
     ]
    }
   ],
   "source": [
    "for i in df.columns:\n",
    "    print(i, df[i].unique()) "
   ]
  },
  {
   "cell_type": "markdown",
   "metadata": {},
   "source": [
    "In the previous cell, the unique values of each column are displayed, and it can be observed that none of the columns have null values."
   ]
  },
  {
   "cell_type": "markdown",
   "metadata": {},
   "source": [
    "#### There are float-type columns that could perfectly be integers."
   ]
  },
  {
   "cell_type": "code",
   "execution_count": 5,
   "metadata": {},
   "outputs": [],
   "source": [
    "df['Cholesterol'] = df['Cholesterol'].astype('int64')\n",
    "df['Copper'] = df['Copper'].astype('int64')\n",
    "df['Tryglicerides'] = df['Tryglicerides'].astype('int64')\n",
    "df['Platelets'] = df['Platelets'].astype('int64')\n",
    "df['Stage'] = df['Stage'].astype('int64')"
   ]
  },
  {
   "cell_type": "markdown",
   "metadata": {},
   "source": [
    "#### Now, with the help of the ydata-profiling library, which performs a general automatic exploration of the data through a report."
   ]
  },
  {
   "cell_type": "code",
   "execution_count": 24,
   "metadata": {},
   "outputs": [],
   "source": [
    "profile = ProfileReport(df, title=\"Cirrhosis Profiling Report\", variables = {\"description\":{\n",
    "    'id': 'A unique identifier for each patient.',\n",
    "    'N_Days': 'Number of days elapsed from a reference point.',\n",
    "    'Drug': 'The type of medication administered or used in treatment.',\n",
    "    'Age': 'The age of the patient in years.',\n",
    "    'Sex': 'The gender of the patient.',\n",
    "    'Ascites': 'Presence or absence of ascites, an abnormal accumulation of fluid in the abdominal cavity.',\n",
    "    'Hepatomegaly': 'Indicates whether there is hepatomegaly, which is the enlargement of the liver.',\n",
    "    'Spiders': 'Presence or absence of \"spiders\" (vascular lesions), which are skin lesions associated with liver diseases.',\n",
    "    'Edema': 'Presence or absence of edema, the accumulation of fluid in tissues.',\n",
    "    'Bilirubin': 'Levels of bilirubin in the blood.',\n",
    "    'Cholesterol': 'Levels of cholesterol in the blood.',\n",
    "    'Albumin': 'Levels of albumin in the blood.',\n",
    "    'Copper': 'Levels of copper in the body.',\n",
    "    'Alk_Phos': 'Levels of alkaline phosphatase in the blood.',\n",
    "    'SGOT': 'Levels of the enzyme aspartate aminotransferase (SGOT or AST) in the blood, an indicator of liver damage.',\n",
    "    'Tryglicerides': 'Levels of triglycerides in the blood.',\n",
    "    'Platelets': 'Quantity of platelets in the blood.',\n",
    "    'Prothrombin': 'Prothrombin time.',\n",
    "    'Stage': 'The stage of the disease or medical condition of the patient.',\n",
    "    'Status': 'The status of the patient, with values \\'C\\' (Compensated), \\'D\\' (Decompensated), or \\'CL\\' (Controlled).'\n",
    "}})"
   ]
  },
  {
   "cell_type": "markdown",
   "metadata": {},
   "source": [
    "#### If you want to have a better view of the report, you can open the 'eda_report.html' file located in the same folder as this file."
   ]
  },
  {
   "cell_type": "code",
   "execution_count": 26,
   "metadata": {},
   "outputs": [
    {
     "data": {
      "application/vnd.jupyter.widget-view+json": {
       "model_id": "93fe096958d34c5e9920100a36abb705",
       "version_major": 2,
       "version_minor": 0
      },
      "text/plain": [
       "Render HTML:   0%|          | 0/1 [00:00<?, ?it/s]"
      ]
     },
     "metadata": {},
     "output_type": "display_data"
    },
    {
     "data": {
      "application/vnd.jupyter.widget-view+json": {
       "model_id": "7a3b867f5b4b408ba4a8eed65620af3d",
       "version_major": 2,
       "version_minor": 0
      },
      "text/plain": [
       "Export report to file:   0%|          | 0/1 [00:00<?, ?it/s]"
      ]
     },
     "metadata": {},
     "output_type": "display_data"
    }
   ],
   "source": [
    "profile.to_file(\"eda_report.html\")"
   ]
  },
  {
   "cell_type": "markdown",
   "metadata": {},
   "source": [
    "### Insights "
   ]
  },
  {
   "cell_type": "markdown",
   "metadata": {},
   "source": [
    "- The 'id' column has a normal distribution with respect to all its values. This is understandable as each id is a unique value representing each patient, so there are no duplicate values.\n",
    "- The 'N_Days' column has a mean of 2030 and a median of 1831, indicating that there is not much impact between extreme values. Its maximum value is 41, and the minimum is 4795.\n",
    "- The 'Drug' column has two values ('D-penicillamine', 'Placebo'), with a balanced distribution as there are 4010 and 3895 entries for each, respectively.\n",
    "- It seems that the 'Age' column is given in days. The youngest patient is approximately 27 years old, and the oldest is 79 years old. Considering their distribution, extreme values do not affect much since their mean and median are quite close (18373.146-18713, corresponding to 51-52 years, respectively).\n",
    "- Within the 'Sex' variable, there is an imbalance in the data, with the majority of patients being female, accounting for 92.8% of the data, while male patients are a minority, representing 7.2% of the data.\n",
    "- The 'Ascites' variable represents the presence of abdominal fluid, and the data shows that most patients do not yet have this characteristic. 95.2% of the data do not have Ascites, while 4.8% of patients do, indicating a data imbalance in this column.\n",
    "- The 'Hepatomegaly' characteristic is relatively balanced. The difference between patients with an enlarged liver and those without is hardly noticeable (2.2%).\n",
    "- Regarding the presence of spider angiomas, the 'spiders' column shows a notable imbalance in its values, with the majority of patients not presenting this symptom (5966 patients), while the remaining patients (1939) have spider angiomas.\n",
    "- For the 'Edema' column, there is a very notable imbalance. Most patients (90.6%) do not have this condition, while the rest do. Similarly, those with edema are divided into two categories, almost equally representing 5% and 4.4%.\n",
    "- The 'Bilirubin' variable is quite skewed, with most values approaching 0. There are extreme values, with 28 being the largest value present in this column.\n",
    "- Similarly, the 'Cholesterol' column is skewed, with extreme values present, causing the skewness towards the right, where there are more minimum values around the value of 298. The highest value is 1775.\n",
    "- Blood albumin levels are the characteristic that is best distributed, following a normal distribution. Its mean and median are quite close.\n",
    "- Copper levels indicate a right skew in the distribution of the data. Its minimum value is 4, and its maximum value is 588. The considerable difference between its mean and median indicates extreme values.\n",
    "- Similarly, alkaline phosphatase levels are skewed to the right.\n",
    "- The 'SGOT' column has a slight right skew, with extreme values representing levels of 457.25 for this characteristic.\n",
    "- Like the previous columns, triglycerides show a right skew as most values hover around the levels of 104. There are extreme values where the maximum is 598.\n",
    "- The 'Platelets' column has a better distribution. The variance in the data is not as noticeable, and extreme values do not affect its distribution.\n",
    "- For the 'Prothrombin' characteristic, its distribution is somewhat strange. It has super extreme values and is skewed to the right, although its mean and median are quite close.\n",
    "- In the stage each patient is in, their values are somewhat unbalanced. The value present in most of the data is '3,' accounting for approximately 40%, followed by stage '4,' which accounts for 34.2% of the data. In third place is stage '2,' representing 21%, and lastly, stage '1,' being the minority in this column with only 397 records.\n",
    "- Finally, our target variable 'Status,' the variable intended to be classified, is somewhat unbalanced in terms of its categories. The 'C' state is dominant with 4965 records, followed by state 'D,' which has 2665, and lastly, the minority 'CL,' which only has 275 patients."
   ]
  },
  {
   "cell_type": "markdown",
   "metadata": {},
   "source": [
    "#### Correlation "
   ]
  },
  {
   "cell_type": "code",
   "execution_count": 6,
   "metadata": {},
   "outputs": [],
   "source": [
    "df_numeric = df.select_dtypes(include=['int64', 'float64'])"
   ]
  },
  {
   "cell_type": "code",
   "execution_count": 7,
   "metadata": {},
   "outputs": [],
   "source": [
    "df_numeric = df_numeric.drop(['id'], axis=1)"
   ]
  },
  {
   "cell_type": "code",
   "execution_count": 8,
   "metadata": {},
   "outputs": [
    {
     "data": {
      "image/png": "[encoded data removed]",
      "text/plain": [
       "<Figure size 640x480 with 2 Axes>"
      ]
     },
     "metadata": {},
     "output_type": "display_data"
    }
   ],
   "source": [
    "sns.heatmap(df_numeric.corr(), annot=True, cmap='coolwarm')\n",
    "plt.show()"
   ]
  },
  {
   "cell_type": "markdown",
   "metadata": {},
   "source": [
    "The correlation table shows that there is no strong correlation between the variables, so we don't have an issue of multicollinearity."
   ]
  },
  {
   "cell_type": "markdown",
   "metadata": {},
   "source": [
    "## Data Preparation"
   ]
  },
  {
   "cell_type": "markdown",
   "metadata": {},
   "source": [
    "### We will convert the categorical variables to numeric."
   ]
  },
  {
   "cell_type": "code",
   "execution_count": 9,
   "metadata": {},
   "outputs": [
    {
     "data": {
      "text/html": [
       "<div>\n",
       "<style scoped>\n",
       "    .dataframe tbody tr th:only-of-type {\n",
       "        vertical-align: middle;\n",
       "    }\n",
       "\n",
       "    .dataframe tbody tr th {\n",
       "        vertical-align: top;\n",
       "    }\n",
       "\n",
       "    .dataframe thead th {\n",
       "        text-align: right;\n",
       "    }\n",
       "</style>\n",
       "<table border=\"1\" class=\"dataframe\">\n",
       "  <thead>\n",
       "    <tr style=\"text-align: right;\">\n",
       "      <th></th>\n",
       "      <th>Drug</th>\n",
       "      <th>Sex</th>\n",
       "      <th>Ascites</th>\n",
       "      <th>Hepatomegaly</th>\n",
       "      <th>Spiders</th>\n",
       "      <th>Edema</th>\n",
       "      <th>Status</th>\n",
       "    </tr>\n",
       "  </thead>\n",
       "  <tbody>\n",
       "    <tr>\n",
       "      <th>0</th>\n",
       "      <td>D-penicillamine</td>\n",
       "      <td>M</td>\n",
       "      <td>N</td>\n",
       "      <td>N</td>\n",
       "      <td>N</td>\n",
       "      <td>N</td>\n",
       "      <td>D</td>\n",
       "    </tr>\n",
       "    <tr>\n",
       "      <th>1</th>\n",
       "      <td>Placebo</td>\n",
       "      <td>F</td>\n",
       "      <td>N</td>\n",
       "      <td>N</td>\n",
       "      <td>N</td>\n",
       "      <td>N</td>\n",
       "      <td>C</td>\n",
       "    </tr>\n",
       "    <tr>\n",
       "      <th>2</th>\n",
       "      <td>Placebo</td>\n",
       "      <td>F</td>\n",
       "      <td>N</td>\n",
       "      <td>Y</td>\n",
       "      <td>Y</td>\n",
       "      <td>Y</td>\n",
       "      <td>D</td>\n",
       "    </tr>\n",
       "    <tr>\n",
       "      <th>3</th>\n",
       "      <td>Placebo</td>\n",
       "      <td>F</td>\n",
       "      <td>N</td>\n",
       "      <td>N</td>\n",
       "      <td>N</td>\n",
       "      <td>N</td>\n",
       "      <td>C</td>\n",
       "    </tr>\n",
       "    <tr>\n",
       "      <th>4</th>\n",
       "      <td>Placebo</td>\n",
       "      <td>F</td>\n",
       "      <td>N</td>\n",
       "      <td>Y</td>\n",
       "      <td>N</td>\n",
       "      <td>N</td>\n",
       "      <td>C</td>\n",
       "    </tr>\n",
       "  </tbody>\n",
       "</table>\n",
       "</div>"
      ],
      "text/plain": [
       "              Drug Sex Ascites Hepatomegaly Spiders Edema Status\n",
       "0  D-penicillamine   M       N            N       N     N      D\n",
       "1          Placebo   F       N            N       N     N      C\n",
       "2          Placebo   F       N            Y       Y     Y      D\n",
       "3          Placebo   F       N            N       N     N      C\n",
       "4          Placebo   F       N            Y       N     N      C"
      ]
     },
     "execution_count": 9,
     "metadata": {},
     "output_type": "execute_result"
    }
   ],
   "source": [
    "df_categorical = df.select_dtypes(include=['object'])\n",
    "df_categorical.head()"
   ]
  },
  {
   "cell_type": "code",
   "execution_count": 10,
   "metadata": {},
   "outputs": [],
   "source": [
    "df_copy = df.copy()"
   ]
  },
  {
   "cell_type": "code",
   "execution_count": 11,
   "metadata": {},
   "outputs": [
    {
     "data": {
      "text/html": [
       "<div>\n",
       "<style scoped>\n",
       "    .dataframe tbody tr th:only-of-type {\n",
       "        vertical-align: middle;\n",
       "    }\n",
       "\n",
       "    .dataframe tbody tr th {\n",
       "        vertical-align: top;\n",
       "    }\n",
       "\n",
       "    .dataframe thead th {\n",
       "        text-align: right;\n",
       "    }\n",
       "</style>\n",
       "<table border=\"1\" class=\"dataframe\">\n",
       "  <thead>\n",
       "    <tr style=\"text-align: right;\">\n",
       "      <th></th>\n",
       "      <th>id</th>\n",
       "      <th>N_Days</th>\n",
       "      <th>Drug</th>\n",
       "      <th>Age</th>\n",
       "      <th>Sex</th>\n",
       "      <th>Ascites</th>\n",
       "      <th>Hepatomegaly</th>\n",
       "      <th>Spiders</th>\n",
       "      <th>Edema</th>\n",
       "      <th>Bilirubin</th>\n",
       "      <th>Cholesterol</th>\n",
       "      <th>Albumin</th>\n",
       "      <th>Copper</th>\n",
       "      <th>Alk_Phos</th>\n",
       "      <th>SGOT</th>\n",
       "      <th>Tryglicerides</th>\n",
       "      <th>Platelets</th>\n",
       "      <th>Prothrombin</th>\n",
       "      <th>Stage</th>\n",
       "      <th>Status</th>\n",
       "    </tr>\n",
       "  </thead>\n",
       "  <tbody>\n",
       "    <tr>\n",
       "      <th>0</th>\n",
       "      <td>0</td>\n",
       "      <td>97</td>\n",
       "      <td>0</td>\n",
       "      <td>305</td>\n",
       "      <td>1</td>\n",
       "      <td>0</td>\n",
       "      <td>0</td>\n",
       "      <td>0</td>\n",
       "      <td>0</td>\n",
       "      <td>20</td>\n",
       "      <td>97</td>\n",
       "      <td>69</td>\n",
       "      <td>123</td>\n",
       "      <td>227</td>\n",
       "      <td>162</td>\n",
       "      <td>13</td>\n",
       "      <td>195</td>\n",
       "      <td>7</td>\n",
       "      <td>2</td>\n",
       "      <td>2</td>\n",
       "    </tr>\n",
       "    <tr>\n",
       "      <th>1</th>\n",
       "      <td>1</td>\n",
       "      <td>350</td>\n",
       "      <td>1</td>\n",
       "      <td>228</td>\n",
       "      <td>0</td>\n",
       "      <td>0</td>\n",
       "      <td>0</td>\n",
       "      <td>0</td>\n",
       "      <td>0</td>\n",
       "      <td>6</td>\n",
       "      <td>128</td>\n",
       "      <td>87</td>\n",
       "      <td>52</td>\n",
       "      <td>210</td>\n",
       "      <td>121</td>\n",
       "      <td>38</td>\n",
       "      <td>182</td>\n",
       "      <td>20</td>\n",
       "      <td>2</td>\n",
       "      <td>0</td>\n",
       "    </tr>\n",
       "    <tr>\n",
       "      <th>2</th>\n",
       "      <td>2</td>\n",
       "      <td>414</td>\n",
       "      <td>1</td>\n",
       "      <td>57</td>\n",
       "      <td>0</td>\n",
       "      <td>0</td>\n",
       "      <td>1</td>\n",
       "      <td>1</td>\n",
       "      <td>2</td>\n",
       "      <td>30</td>\n",
       "      <td>87</td>\n",
       "      <td>88</td>\n",
       "      <td>105</td>\n",
       "      <td>130</td>\n",
       "      <td>102</td>\n",
       "      <td>4</td>\n",
       "      <td>68</td>\n",
       "      <td>27</td>\n",
       "      <td>3</td>\n",
       "      <td>2</td>\n",
       "    </tr>\n",
       "    <tr>\n",
       "      <th>3</th>\n",
       "      <td>3</td>\n",
       "      <td>351</td>\n",
       "      <td>1</td>\n",
       "      <td>201</td>\n",
       "      <td>0</td>\n",
       "      <td>0</td>\n",
       "      <td>0</td>\n",
       "      <td>0</td>\n",
       "      <td>0</td>\n",
       "      <td>3</td>\n",
       "      <td>56</td>\n",
       "      <td>83</td>\n",
       "      <td>48</td>\n",
       "      <td>237</td>\n",
       "      <td>30</td>\n",
       "      <td>46</td>\n",
       "      <td>119</td>\n",
       "      <td>17</td>\n",
       "      <td>2</td>\n",
       "      <td>0</td>\n",
       "    </tr>\n",
       "    <tr>\n",
       "      <th>4</th>\n",
       "      <td>4</td>\n",
       "      <td>69</td>\n",
       "      <td>1</td>\n",
       "      <td>138</td>\n",
       "      <td>0</td>\n",
       "      <td>0</td>\n",
       "      <td>1</td>\n",
       "      <td>0</td>\n",
       "      <td>0</td>\n",
       "      <td>8</td>\n",
       "      <td>118</td>\n",
       "      <td>98</td>\n",
       "      <td>52</td>\n",
       "      <td>174</td>\n",
       "      <td>109</td>\n",
       "      <td>46</td>\n",
       "      <td>140</td>\n",
       "      <td>16</td>\n",
       "      <td>3</td>\n",
       "      <td>0</td>\n",
       "    </tr>\n",
       "  </tbody>\n",
       "</table>\n",
       "</div>"
      ],
      "text/plain": [
       "   id  N_Days  Drug  Age  Sex  Ascites  Hepatomegaly  Spiders  Edema  \\\n",
       "0   0      97     0  305    1        0             0        0      0   \n",
       "1   1     350     1  228    0        0             0        0      0   \n",
       "2   2     414     1   57    0        0             1        1      2   \n",
       "3   3     351     1  201    0        0             0        0      0   \n",
       "4   4      69     1  138    0        0             1        0      0   \n",
       "\n",
       "   Bilirubin  Cholesterol  Albumin  Copper  Alk_Phos  SGOT  Tryglicerides  \\\n",
       "0         20           97       69     123       227   162             13   \n",
       "1          6          128       87      52       210   121             38   \n",
       "2         30           87       88     105       130   102              4   \n",
       "3          3           56       83      48       237    30             46   \n",
       "4          8          118       98      52       174   109             46   \n",
       "\n",
       "   Platelets  Prothrombin  Stage  Status  \n",
       "0        195            7      2       2  \n",
       "1        182           20      2       0  \n",
       "2         68           27      3       2  \n",
       "3        119           17      2       0  \n",
       "4        140           16      3       0  "
      ]
     },
     "execution_count": 11,
     "metadata": {},
     "output_type": "execute_result"
    }
   ],
   "source": [
    "le = LabelEncoder()\n",
    "df_copy = df_copy.apply(le.fit_transform)\n",
    "df_copy.head()"
   ]
  },
  {
   "cell_type": "code",
   "execution_count": 12,
   "metadata": {},
   "outputs": [],
   "source": [
    "df_full_train = df_copy.copy()\n",
    "df_full_train = df_full_train.drop(['id'], axis=1)\n",
    "df_full_train.to_csv('../data/train_processed.csv', index=False)"
   ]
  },
  {
   "cell_type": "markdown",
   "metadata": {},
   "source": [
    "## Feature Selection"
   ]
  },
  {
   "cell_type": "markdown",
   "metadata": {},
   "source": [
    "- We can perform feature selection to reduce the number of variables and improve the model's performance."
   ]
  },
  {
   "cell_type": "code",
   "execution_count": 13,
   "metadata": {},
   "outputs": [
    {
     "data": {
      "text/plain": [
       "Index(['N_Days', 'Drug', 'Age', 'Sex', 'Ascites', 'Hepatomegaly', 'Spiders',\n",
       "       'Edema', 'Bilirubin', 'Cholesterol', 'Albumin', 'Copper', 'Alk_Phos',\n",
       "       'SGOT', 'Tryglicerides', 'Platelets', 'Prothrombin', 'Stage', 'Status'],\n",
       "      dtype='object')"
      ]
     },
     "execution_count": 13,
     "metadata": {},
     "output_type": "execute_result"
    }
   ],
   "source": [
    "df_full_train.columns"
   ]
  },
  {
   "cell_type": "code",
   "execution_count": 14,
   "metadata": {},
   "outputs": [],
   "source": [
    "df_train, df_val = train_test_split(df_full_train, test_size=0.20, random_state=1, stratify=df.Status)\n",
    "\n",
    "df_train = df_train.reset_index(drop=True)\n",
    "df_val = df_val.reset_index(drop=True)\n",
    "\n",
    "y_train = df_train.Status.values\n",
    "y_val = df_val.Status.values\n",
    "\n",
    "del df_train['Status']\n",
    "del df_val['Status']"
   ]
  },
  {
   "cell_type": "code",
   "execution_count": 15,
   "metadata": {},
   "outputs": [
    {
     "data": {
      "text/plain": [
       "(6324, 1581, 6324, 1581)"
      ]
     },
     "execution_count": 15,
     "metadata": {},
     "output_type": "execute_result"
    }
   ],
   "source": [
    "len(df_train), len(df_val), len(y_train), len(y_val)"
   ]
  },
  {
   "cell_type": "markdown",
   "metadata": {},
   "source": [
    "#### Iterate over the features and check the logloss of each one"
   ]
  },
  {
   "cell_type": "markdown",
   "metadata": {},
   "source": [
    "#### LogLoss\n",
    "\n",
    "$$  \\text{LogLoss} = -\\frac{1}{N} \\sum_{i=1}^{N} \\sum_{j=1}^{M} y_{ij} \\cdot \\log(p_{ij})  $$\n",
    "\n",
    "where:\n",
    "- N is the total number of instances in the dataset.\n",
    "- M is the number of classes.\n",
    "- yij​ is 1 if instance ibbelongs to class j, and 0 otherwise.\n",
    "- pij​ is the predicted probability that instance i belongs to class j.\n",
    "\n",
    "LogLoss measures the agreement between the predicted probabilities and the true labels. The goal is to minimize the LogLoss value when evaluating a classification model. The metric penalizes incorrect predictions more heavily when the model is more confident and assigns high probabilities to the incorrect class."
   ]
  },
  {
   "cell_type": "code",
   "execution_count": 16,
   "metadata": {},
   "outputs": [],
   "source": [
    "columnas = ['N_Days', 'Drug', 'Age', 'Sex', 'Ascites', 'Hepatomegaly', 'Spiders',\n",
    "       'Edema', 'Bilirubin', 'Cholesterol', 'Albumin', 'Copper', 'Alk_Phos',\n",
    "       'SGOT', 'Tryglicerides', 'Platelets', 'Prothrombin', 'Stage']\n",
    "resultable = []\n",
    "for i in range(len(columnas)):\n",
    "    model = LogisticRegression(solver='lbfgs', random_state=1)\n",
    "    model.fit(df_train.iloc[:,[i]], y_train)\n",
    "\n",
    "    y_pred = model.predict_proba(df_val.iloc[:,[i]])\n",
    "\n",
    "    log_loss_metric = log_loss(y_val, y_pred)\n",
    "\n",
    "    resultable.append([columnas[i], log_loss_metric])"
   ]
  },
  {
   "cell_type": "code",
   "execution_count": 17,
   "metadata": {},
   "outputs": [
    {
     "data": {
      "text/html": [
       "<div>\n",
       "<style scoped>\n",
       "    .dataframe tbody tr th:only-of-type {\n",
       "        vertical-align: middle;\n",
       "    }\n",
       "\n",
       "    .dataframe tbody tr th {\n",
       "        vertical-align: top;\n",
       "    }\n",
       "\n",
       "    .dataframe thead th {\n",
       "        text-align: right;\n",
       "    }\n",
       "</style>\n",
       "<table border=\"1\" class=\"dataframe\">\n",
       "  <thead>\n",
       "    <tr style=\"text-align: right;\">\n",
       "      <th></th>\n",
       "      <th>Feature</th>\n",
       "      <th>Logloss</th>\n",
       "    </tr>\n",
       "  </thead>\n",
       "  <tbody>\n",
       "    <tr>\n",
       "      <th>0</th>\n",
       "      <td>N_Days</td>\n",
       "      <td>0.696694</td>\n",
       "    </tr>\n",
       "    <tr>\n",
       "      <th>1</th>\n",
       "      <td>Drug</td>\n",
       "      <td>0.776406</td>\n",
       "    </tr>\n",
       "    <tr>\n",
       "      <th>2</th>\n",
       "      <td>Age</td>\n",
       "      <td>0.759106</td>\n",
       "    </tr>\n",
       "    <tr>\n",
       "      <th>3</th>\n",
       "      <td>Sex</td>\n",
       "      <td>0.768152</td>\n",
       "    </tr>\n",
       "    <tr>\n",
       "      <th>4</th>\n",
       "      <td>Ascites</td>\n",
       "      <td>0.744798</td>\n",
       "    </tr>\n",
       "    <tr>\n",
       "      <th>5</th>\n",
       "      <td>Hepatomegaly</td>\n",
       "      <td>0.701176</td>\n",
       "    </tr>\n",
       "    <tr>\n",
       "      <th>6</th>\n",
       "      <td>Spiders</td>\n",
       "      <td>0.730433</td>\n",
       "    </tr>\n",
       "    <tr>\n",
       "      <th>7</th>\n",
       "      <td>Edema</td>\n",
       "      <td>0.718990</td>\n",
       "    </tr>\n",
       "    <tr>\n",
       "      <th>8</th>\n",
       "      <td>Bilirubin</td>\n",
       "      <td>0.651729</td>\n",
       "    </tr>\n",
       "    <tr>\n",
       "      <th>9</th>\n",
       "      <td>Cholesterol</td>\n",
       "      <td>0.759328</td>\n",
       "    </tr>\n",
       "    <tr>\n",
       "      <th>10</th>\n",
       "      <td>Albumin</td>\n",
       "      <td>0.736429</td>\n",
       "    </tr>\n",
       "    <tr>\n",
       "      <th>11</th>\n",
       "      <td>Copper</td>\n",
       "      <td>0.676298</td>\n",
       "    </tr>\n",
       "    <tr>\n",
       "      <th>12</th>\n",
       "      <td>Alk_Phos</td>\n",
       "      <td>0.766370</td>\n",
       "    </tr>\n",
       "    <tr>\n",
       "      <th>13</th>\n",
       "      <td>SGOT</td>\n",
       "      <td>0.712987</td>\n",
       "    </tr>\n",
       "    <tr>\n",
       "      <th>14</th>\n",
       "      <td>Tryglicerides</td>\n",
       "      <td>0.758844</td>\n",
       "    </tr>\n",
       "    <tr>\n",
       "      <th>15</th>\n",
       "      <td>Platelets</td>\n",
       "      <td>0.752345</td>\n",
       "    </tr>\n",
       "    <tr>\n",
       "      <th>16</th>\n",
       "      <td>Prothrombin</td>\n",
       "      <td>0.704911</td>\n",
       "    </tr>\n",
       "    <tr>\n",
       "      <th>17</th>\n",
       "      <td>Stage</td>\n",
       "      <td>0.700347</td>\n",
       "    </tr>\n",
       "  </tbody>\n",
       "</table>\n",
       "</div>"
      ],
      "text/plain": [
       "          Feature   Logloss\n",
       "0          N_Days  0.696694\n",
       "1            Drug  0.776406\n",
       "2             Age  0.759106\n",
       "3             Sex  0.768152\n",
       "4         Ascites  0.744798\n",
       "5    Hepatomegaly  0.701176\n",
       "6         Spiders  0.730433\n",
       "7           Edema  0.718990\n",
       "8       Bilirubin  0.651729\n",
       "9     Cholesterol  0.759328\n",
       "10        Albumin  0.736429\n",
       "11         Copper  0.676298\n",
       "12       Alk_Phos  0.766370\n",
       "13           SGOT  0.712987\n",
       "14  Tryglicerides  0.758844\n",
       "15      Platelets  0.752345\n",
       "16    Prothrombin  0.704911\n",
       "17          Stage  0.700347"
      ]
     },
     "execution_count": 17,
     "metadata": {},
     "output_type": "execute_result"
    }
   ],
   "source": [
    "resultable = pd.DataFrame(resultable, columns=['Feature', 'Logloss'])\n",
    "resultable"
   ]
  },
  {
   "cell_type": "code",
   "execution_count": 18,
   "metadata": {},
   "outputs": [
    {
     "data": {
      "text/html": [
       "<div>\n",
       "<style scoped>\n",
       "    .dataframe tbody tr th:only-of-type {\n",
       "        vertical-align: middle;\n",
       "    }\n",
       "\n",
       "    .dataframe tbody tr th {\n",
       "        vertical-align: top;\n",
       "    }\n",
       "\n",
       "    .dataframe thead th {\n",
       "        text-align: right;\n",
       "    }\n",
       "</style>\n",
       "<table border=\"1\" class=\"dataframe\">\n",
       "  <thead>\n",
       "    <tr style=\"text-align: right;\">\n",
       "      <th></th>\n",
       "      <th>Feature</th>\n",
       "      <th>Logloss</th>\n",
       "    </tr>\n",
       "  </thead>\n",
       "  <tbody>\n",
       "    <tr>\n",
       "      <th>0</th>\n",
       "      <td>Bilirubin</td>\n",
       "      <td>0.651729</td>\n",
       "    </tr>\n",
       "    <tr>\n",
       "      <th>1</th>\n",
       "      <td>Copper</td>\n",
       "      <td>0.676298</td>\n",
       "    </tr>\n",
       "    <tr>\n",
       "      <th>2</th>\n",
       "      <td>N_Days</td>\n",
       "      <td>0.696694</td>\n",
       "    </tr>\n",
       "    <tr>\n",
       "      <th>3</th>\n",
       "      <td>Stage</td>\n",
       "      <td>0.700347</td>\n",
       "    </tr>\n",
       "    <tr>\n",
       "      <th>4</th>\n",
       "      <td>Hepatomegaly</td>\n",
       "      <td>0.701176</td>\n",
       "    </tr>\n",
       "    <tr>\n",
       "      <th>5</th>\n",
       "      <td>Prothrombin</td>\n",
       "      <td>0.704911</td>\n",
       "    </tr>\n",
       "    <tr>\n",
       "      <th>6</th>\n",
       "      <td>SGOT</td>\n",
       "      <td>0.712987</td>\n",
       "    </tr>\n",
       "    <tr>\n",
       "      <th>7</th>\n",
       "      <td>Edema</td>\n",
       "      <td>0.718990</td>\n",
       "    </tr>\n",
       "    <tr>\n",
       "      <th>8</th>\n",
       "      <td>Spiders</td>\n",
       "      <td>0.730433</td>\n",
       "    </tr>\n",
       "    <tr>\n",
       "      <th>9</th>\n",
       "      <td>Albumin</td>\n",
       "      <td>0.736429</td>\n",
       "    </tr>\n",
       "    <tr>\n",
       "      <th>10</th>\n",
       "      <td>Ascites</td>\n",
       "      <td>0.744798</td>\n",
       "    </tr>\n",
       "    <tr>\n",
       "      <th>11</th>\n",
       "      <td>Platelets</td>\n",
       "      <td>0.752345</td>\n",
       "    </tr>\n",
       "    <tr>\n",
       "      <th>12</th>\n",
       "      <td>Tryglicerides</td>\n",
       "      <td>0.758844</td>\n",
       "    </tr>\n",
       "    <tr>\n",
       "      <th>13</th>\n",
       "      <td>Age</td>\n",
       "      <td>0.759106</td>\n",
       "    </tr>\n",
       "    <tr>\n",
       "      <th>14</th>\n",
       "      <td>Cholesterol</td>\n",
       "      <td>0.759328</td>\n",
       "    </tr>\n",
       "    <tr>\n",
       "      <th>15</th>\n",
       "      <td>Alk_Phos</td>\n",
       "      <td>0.766370</td>\n",
       "    </tr>\n",
       "    <tr>\n",
       "      <th>16</th>\n",
       "      <td>Sex</td>\n",
       "      <td>0.768152</td>\n",
       "    </tr>\n",
       "    <tr>\n",
       "      <th>17</th>\n",
       "      <td>Drug</td>\n",
       "      <td>0.776406</td>\n",
       "    </tr>\n",
       "  </tbody>\n",
       "</table>\n",
       "</div>"
      ],
      "text/plain": [
       "          Feature   Logloss\n",
       "0       Bilirubin  0.651729\n",
       "1          Copper  0.676298\n",
       "2          N_Days  0.696694\n",
       "3           Stage  0.700347\n",
       "4    Hepatomegaly  0.701176\n",
       "5     Prothrombin  0.704911\n",
       "6            SGOT  0.712987\n",
       "7           Edema  0.718990\n",
       "8         Spiders  0.730433\n",
       "9         Albumin  0.736429\n",
       "10        Ascites  0.744798\n",
       "11      Platelets  0.752345\n",
       "12  Tryglicerides  0.758844\n",
       "13            Age  0.759106\n",
       "14    Cholesterol  0.759328\n",
       "15       Alk_Phos  0.766370\n",
       "16            Sex  0.768152\n",
       "17           Drug  0.776406"
      ]
     },
     "execution_count": 18,
     "metadata": {},
     "output_type": "execute_result"
    }
   ],
   "source": [
    "best_result_table = resultable.sort_values('Logloss', ascending=True)\n",
    "best_result_table.reset_index(drop=True, inplace=True)\n",
    "best_result_table"
   ]
  },
  {
   "cell_type": "code",
   "execution_count": 19,
   "metadata": {},
   "outputs": [],
   "source": [
    "featuresN = [best_result_table.Feature[0]]\n",
    "limit = best_result_table.Logloss[0]"
   ]
  },
  {
   "cell_type": "code",
   "execution_count": 20,
   "metadata": {},
   "outputs": [
    {
     "name": "stdout",
     "output_type": "stream",
     "text": [
      "['Bilirubin', 'Copper'] 0.62655966956733\n",
      "['Bilirubin', 'Copper', 'N_Days'] 0.6078858464783903\n"
     ]
    },
    {
     "name": "stderr",
     "output_type": "stream",
     "text": [
      "c:\\Users\\daniel\\AppData\\Local\\Programs\\Python\\Python310\\lib\\site-packages\\sklearn\\linear_model\\_logistic.py:458: ConvergenceWarning: lbfgs failed to converge (status=1):\n",
      "STOP: TOTAL NO. of ITERATIONS REACHED LIMIT.\n",
      "\n",
      "Increase the number of iterations (max_iter) or scale the data as shown in:\n",
      "    https://scikit-learn.org/stable/modules/preprocessing.html\n",
      "Please also refer to the documentation for alternative solver options:\n",
      "    https://scikit-learn.org/stable/modules/linear_model.html#logistic-regression\n",
      "  n_iter_i = _check_optimize_result(\n",
      "c:\\Users\\daniel\\AppData\\Local\\Programs\\Python\\Python310\\lib\\site-packages\\sklearn\\linear_model\\_logistic.py:458: ConvergenceWarning: lbfgs failed to converge (status=1):\n",
      "STOP: TOTAL NO. of ITERATIONS REACHED LIMIT.\n",
      "\n",
      "Increase the number of iterations (max_iter) or scale the data as shown in:\n",
      "    https://scikit-learn.org/stable/modules/preprocessing.html\n",
      "Please also refer to the documentation for alternative solver options:\n",
      "    https://scikit-learn.org/stable/modules/linear_model.html#logistic-regression\n",
      "  n_iter_i = _check_optimize_result(\n"
     ]
    },
    {
     "name": "stdout",
     "output_type": "stream",
     "text": [
      "['Bilirubin', 'Copper', 'N_Days', 'Stage'] 0.5838951313757397\n",
      "['Bilirubin', 'Copper', 'N_Days', 'Stage', 'Hepatomegaly'] 0.5794747015316253\n"
     ]
    },
    {
     "name": "stderr",
     "output_type": "stream",
     "text": [
      "c:\\Users\\daniel\\AppData\\Local\\Programs\\Python\\Python310\\lib\\site-packages\\sklearn\\linear_model\\_logistic.py:458: ConvergenceWarning: lbfgs failed to converge (status=1):\n",
      "STOP: TOTAL NO. of ITERATIONS REACHED LIMIT.\n",
      "\n",
      "Increase the number of iterations (max_iter) or scale the data as shown in:\n",
      "    https://scikit-learn.org/stable/modules/preprocessing.html\n",
      "Please also refer to the documentation for alternative solver options:\n",
      "    https://scikit-learn.org/stable/modules/linear_model.html#logistic-regression\n",
      "  n_iter_i = _check_optimize_result(\n",
      "c:\\Users\\daniel\\AppData\\Local\\Programs\\Python\\Python310\\lib\\site-packages\\sklearn\\linear_model\\_logistic.py:458: ConvergenceWarning: lbfgs failed to converge (status=1):\n",
      "STOP: TOTAL NO. of ITERATIONS REACHED LIMIT.\n",
      "\n",
      "Increase the number of iterations (max_iter) or scale the data as shown in:\n",
      "    https://scikit-learn.org/stable/modules/preprocessing.html\n",
      "Please also refer to the documentation for alternative solver options:\n",
      "    https://scikit-learn.org/stable/modules/linear_model.html#logistic-regression\n",
      "  n_iter_i = _check_optimize_result(\n"
     ]
    },
    {
     "name": "stdout",
     "output_type": "stream",
     "text": [
      "['Bilirubin', 'Copper', 'N_Days', 'Stage', 'Hepatomegaly', 'Prothrombin'] 0.57483303778959\n",
      "['Bilirubin', 'Copper', 'N_Days', 'Stage', 'Hepatomegaly', 'Prothrombin', 'SGOT'] 0.5769130778188939\n"
     ]
    },
    {
     "name": "stderr",
     "output_type": "stream",
     "text": [
      "c:\\Users\\daniel\\AppData\\Local\\Programs\\Python\\Python310\\lib\\site-packages\\sklearn\\linear_model\\_logistic.py:458: ConvergenceWarning: lbfgs failed to converge (status=1):\n",
      "STOP: TOTAL NO. of ITERATIONS REACHED LIMIT.\n",
      "\n",
      "Increase the number of iterations (max_iter) or scale the data as shown in:\n",
      "    https://scikit-learn.org/stable/modules/preprocessing.html\n",
      "Please also refer to the documentation for alternative solver options:\n",
      "    https://scikit-learn.org/stable/modules/linear_model.html#logistic-regression\n",
      "  n_iter_i = _check_optimize_result(\n",
      "c:\\Users\\daniel\\AppData\\Local\\Programs\\Python\\Python310\\lib\\site-packages\\sklearn\\linear_model\\_logistic.py:458: ConvergenceWarning: lbfgs failed to converge (status=1):\n",
      "STOP: TOTAL NO. of ITERATIONS REACHED LIMIT.\n",
      "\n",
      "Increase the number of iterations (max_iter) or scale the data as shown in:\n",
      "    https://scikit-learn.org/stable/modules/preprocessing.html\n",
      "Please also refer to the documentation for alternative solver options:\n",
      "    https://scikit-learn.org/stable/modules/linear_model.html#logistic-regression\n",
      "  n_iter_i = _check_optimize_result(\n"
     ]
    },
    {
     "name": "stdout",
     "output_type": "stream",
     "text": [
      "['Bilirubin', 'Copper', 'N_Days', 'Stage', 'Hepatomegaly', 'Prothrombin', 'Edema'] 0.5712062103928975\n",
      "['Bilirubin', 'Copper', 'N_Days', 'Stage', 'Hepatomegaly', 'Prothrombin', 'Edema', 'Spiders'] 0.5710091641058422\n"
     ]
    },
    {
     "name": "stderr",
     "output_type": "stream",
     "text": [
      "c:\\Users\\daniel\\AppData\\Local\\Programs\\Python\\Python310\\lib\\site-packages\\sklearn\\linear_model\\_logistic.py:458: ConvergenceWarning: lbfgs failed to converge (status=1):\n",
      "STOP: TOTAL NO. of ITERATIONS REACHED LIMIT.\n",
      "\n",
      "Increase the number of iterations (max_iter) or scale the data as shown in:\n",
      "    https://scikit-learn.org/stable/modules/preprocessing.html\n",
      "Please also refer to the documentation for alternative solver options:\n",
      "    https://scikit-learn.org/stable/modules/linear_model.html#logistic-regression\n",
      "  n_iter_i = _check_optimize_result(\n",
      "c:\\Users\\daniel\\AppData\\Local\\Programs\\Python\\Python310\\lib\\site-packages\\sklearn\\linear_model\\_logistic.py:458: ConvergenceWarning: lbfgs failed to converge (status=1):\n",
      "STOP: TOTAL NO. of ITERATIONS REACHED LIMIT.\n",
      "\n",
      "Increase the number of iterations (max_iter) or scale the data as shown in:\n",
      "    https://scikit-learn.org/stable/modules/preprocessing.html\n",
      "Please also refer to the documentation for alternative solver options:\n",
      "    https://scikit-learn.org/stable/modules/linear_model.html#logistic-regression\n",
      "  n_iter_i = _check_optimize_result(\n"
     ]
    },
    {
     "name": "stdout",
     "output_type": "stream",
     "text": [
      "['Bilirubin', 'Copper', 'N_Days', 'Stage', 'Hepatomegaly', 'Prothrombin', 'Edema', 'Spiders', 'Albumin'] 0.5797793946483768\n",
      "['Bilirubin', 'Copper', 'N_Days', 'Stage', 'Hepatomegaly', 'Prothrombin', 'Edema', 'Spiders', 'Ascites'] 0.5766581613789737\n"
     ]
    },
    {
     "name": "stderr",
     "output_type": "stream",
     "text": [
      "c:\\Users\\daniel\\AppData\\Local\\Programs\\Python\\Python310\\lib\\site-packages\\sklearn\\linear_model\\_logistic.py:458: ConvergenceWarning: lbfgs failed to converge (status=1):\n",
      "STOP: TOTAL NO. of ITERATIONS REACHED LIMIT.\n",
      "\n",
      "Increase the number of iterations (max_iter) or scale the data as shown in:\n",
      "    https://scikit-learn.org/stable/modules/preprocessing.html\n",
      "Please also refer to the documentation for alternative solver options:\n",
      "    https://scikit-learn.org/stable/modules/linear_model.html#logistic-regression\n",
      "  n_iter_i = _check_optimize_result(\n",
      "c:\\Users\\daniel\\AppData\\Local\\Programs\\Python\\Python310\\lib\\site-packages\\sklearn\\linear_model\\_logistic.py:458: ConvergenceWarning: lbfgs failed to converge (status=1):\n",
      "STOP: TOTAL NO. of ITERATIONS REACHED LIMIT.\n",
      "\n",
      "Increase the number of iterations (max_iter) or scale the data as shown in:\n",
      "    https://scikit-learn.org/stable/modules/preprocessing.html\n",
      "Please also refer to the documentation for alternative solver options:\n",
      "    https://scikit-learn.org/stable/modules/linear_model.html#logistic-regression\n",
      "  n_iter_i = _check_optimize_result(\n"
     ]
    },
    {
     "name": "stdout",
     "output_type": "stream",
     "text": [
      "['Bilirubin', 'Copper', 'N_Days', 'Stage', 'Hepatomegaly', 'Prothrombin', 'Edema', 'Spiders', 'Platelets'] 0.5738274740122062\n",
      "['Bilirubin', 'Copper', 'N_Days', 'Stage', 'Hepatomegaly', 'Prothrombin', 'Edema', 'Spiders', 'Tryglicerides'] 0.5817687460986481\n"
     ]
    },
    {
     "name": "stderr",
     "output_type": "stream",
     "text": [
      "c:\\Users\\daniel\\AppData\\Local\\Programs\\Python\\Python310\\lib\\site-packages\\sklearn\\linear_model\\_logistic.py:458: ConvergenceWarning: lbfgs failed to converge (status=1):\n",
      "STOP: TOTAL NO. of ITERATIONS REACHED LIMIT.\n",
      "\n",
      "Increase the number of iterations (max_iter) or scale the data as shown in:\n",
      "    https://scikit-learn.org/stable/modules/preprocessing.html\n",
      "Please also refer to the documentation for alternative solver options:\n",
      "    https://scikit-learn.org/stable/modules/linear_model.html#logistic-regression\n",
      "  n_iter_i = _check_optimize_result(\n",
      "c:\\Users\\daniel\\AppData\\Local\\Programs\\Python\\Python310\\lib\\site-packages\\sklearn\\linear_model\\_logistic.py:458: ConvergenceWarning: lbfgs failed to converge (status=1):\n",
      "STOP: TOTAL NO. of ITERATIONS REACHED LIMIT.\n",
      "\n",
      "Increase the number of iterations (max_iter) or scale the data as shown in:\n",
      "    https://scikit-learn.org/stable/modules/preprocessing.html\n",
      "Please also refer to the documentation for alternative solver options:\n",
      "    https://scikit-learn.org/stable/modules/linear_model.html#logistic-regression\n",
      "  n_iter_i = _check_optimize_result(\n"
     ]
    },
    {
     "name": "stdout",
     "output_type": "stream",
     "text": [
      "['Bilirubin', 'Copper', 'N_Days', 'Stage', 'Hepatomegaly', 'Prothrombin', 'Edema', 'Spiders', 'Age'] 0.5730617407489322\n",
      "['Bilirubin', 'Copper', 'N_Days', 'Stage', 'Hepatomegaly', 'Prothrombin', 'Edema', 'Spiders', 'Cholesterol'] 0.5854751193343539\n"
     ]
    },
    {
     "name": "stderr",
     "output_type": "stream",
     "text": [
      "c:\\Users\\daniel\\AppData\\Local\\Programs\\Python\\Python310\\lib\\site-packages\\sklearn\\linear_model\\_logistic.py:458: ConvergenceWarning: lbfgs failed to converge (status=1):\n",
      "STOP: TOTAL NO. of ITERATIONS REACHED LIMIT.\n",
      "\n",
      "Increase the number of iterations (max_iter) or scale the data as shown in:\n",
      "    https://scikit-learn.org/stable/modules/preprocessing.html\n",
      "Please also refer to the documentation for alternative solver options:\n",
      "    https://scikit-learn.org/stable/modules/linear_model.html#logistic-regression\n",
      "  n_iter_i = _check_optimize_result(\n",
      "c:\\Users\\daniel\\AppData\\Local\\Programs\\Python\\Python310\\lib\\site-packages\\sklearn\\linear_model\\_logistic.py:458: ConvergenceWarning: lbfgs failed to converge (status=1):\n",
      "STOP: TOTAL NO. of ITERATIONS REACHED LIMIT.\n",
      "\n",
      "Increase the number of iterations (max_iter) or scale the data as shown in:\n",
      "    https://scikit-learn.org/stable/modules/preprocessing.html\n",
      "Please also refer to the documentation for alternative solver options:\n",
      "    https://scikit-learn.org/stable/modules/linear_model.html#logistic-regression\n",
      "  n_iter_i = _check_optimize_result(\n"
     ]
    },
    {
     "name": "stdout",
     "output_type": "stream",
     "text": [
      "['Bilirubin', 'Copper', 'N_Days', 'Stage', 'Hepatomegaly', 'Prothrombin', 'Edema', 'Spiders', 'Alk_Phos'] 0.5998185640239958\n",
      "['Bilirubin', 'Copper', 'N_Days', 'Stage', 'Hepatomegaly', 'Prothrombin', 'Edema', 'Spiders', 'Sex'] 0.578227511075111\n",
      "['Bilirubin', 'Copper', 'N_Days', 'Stage', 'Hepatomegaly', 'Prothrombin', 'Edema', 'Spiders', 'Drug'] 0.5775153916594614\n",
      "8\n",
      "0.5710091641058422\n"
     ]
    },
    {
     "name": "stderr",
     "output_type": "stream",
     "text": [
      "c:\\Users\\daniel\\AppData\\Local\\Programs\\Python\\Python310\\lib\\site-packages\\sklearn\\linear_model\\_logistic.py:458: ConvergenceWarning: lbfgs failed to converge (status=1):\n",
      "STOP: TOTAL NO. of ITERATIONS REACHED LIMIT.\n",
      "\n",
      "Increase the number of iterations (max_iter) or scale the data as shown in:\n",
      "    https://scikit-learn.org/stable/modules/preprocessing.html\n",
      "Please also refer to the documentation for alternative solver options:\n",
      "    https://scikit-learn.org/stable/modules/linear_model.html#logistic-regression\n",
      "  n_iter_i = _check_optimize_result(\n"
     ]
    }
   ],
   "source": [
    "for i in range(1, len(best_result_table)):\n",
    "    featuresN.append(best_result_table.iloc[i, 0])\n",
    "    datosZ = df_train.loc[:, featuresN]\n",
    "    modeloZ = LogisticRegression(solver='lbfgs', random_state=1)\n",
    "    modeloZ.fit(datosZ, y_train)\n",
    "    \n",
    "    prediccionesZ = modeloZ.predict_proba(df_val.loc[:, featuresN])\n",
    "    \n",
    "    loglossZ = log_loss(y_val, prediccionesZ)\n",
    "\n",
    "    print(featuresN, loglossZ)\n",
    "    \n",
    "    if loglossZ < limit:\n",
    "        limit = loglossZ\n",
    "    else:\n",
    "        del featuresN[-1]\n",
    "\n",
    "print(len(featuresN))\n",
    "print(limit)"
   ]
  },
  {
   "cell_type": "markdown",
   "metadata": {},
   "source": [
    "Based on Logloss, the following variables are selected:\n",
    "\n",
    "['Bilirubin', 'Copper', 'N_Days', 'Stage', 'Hepatomegaly', 'Prothrombin', 'Edema', 'Spiders']"
   ]
  },
  {
   "cell_type": "markdown",
   "metadata": {},
   "source": [
    "### According to AUC"
   ]
  },
  {
   "cell_type": "code",
   "execution_count": 21,
   "metadata": {},
   "outputs": [],
   "source": [
    "columnas = ['N_Days', 'Drug', 'Age', 'Sex', 'Ascites', 'Hepatomegaly', 'Spiders',\n",
    "       'Edema', 'Bilirubin', 'Cholesterol', 'Albumin', 'Copper', 'Alk_Phos',\n",
    "       'SGOT', 'Tryglicerides', 'Platelets', 'Prothrombin', 'Stage']\n",
    "resultableAUC = []\n",
    "for i in range(len(columnas)):\n",
    "    model = LogisticRegression(solver='lbfgs', random_state=1)\n",
    "    model.fit(df_train.iloc[:,[i]], y_train)\n",
    "\n",
    "    y_pred = model.predict_proba(df_val.iloc[:,[i]])\n",
    "\n",
    "    AUC_metric = roc_auc_score(y_val, y_pred, multi_class='ovr')\n",
    "    resultableAUC.append([columnas[i], AUC_metric])"
   ]
  },
  {
   "cell_type": "code",
   "execution_count": 22,
   "metadata": {},
   "outputs": [
    {
     "data": {
      "text/html": [
       "<div>\n",
       "<style scoped>\n",
       "    .dataframe tbody tr th:only-of-type {\n",
       "        vertical-align: middle;\n",
       "    }\n",
       "\n",
       "    .dataframe tbody tr th {\n",
       "        vertical-align: top;\n",
       "    }\n",
       "\n",
       "    .dataframe thead th {\n",
       "        text-align: right;\n",
       "    }\n",
       "</style>\n",
       "<table border=\"1\" class=\"dataframe\">\n",
       "  <thead>\n",
       "    <tr style=\"text-align: right;\">\n",
       "      <th></th>\n",
       "      <th>Feature</th>\n",
       "      <th>AUC</th>\n",
       "    </tr>\n",
       "  </thead>\n",
       "  <tbody>\n",
       "    <tr>\n",
       "      <th>0</th>\n",
       "      <td>N_Days</td>\n",
       "      <td>0.696222</td>\n",
       "    </tr>\n",
       "    <tr>\n",
       "      <th>1</th>\n",
       "      <td>Drug</td>\n",
       "      <td>0.495686</td>\n",
       "    </tr>\n",
       "    <tr>\n",
       "      <th>2</th>\n",
       "      <td>Age</td>\n",
       "      <td>0.610337</td>\n",
       "    </tr>\n",
       "    <tr>\n",
       "      <th>3</th>\n",
       "      <td>Sex</td>\n",
       "      <td>0.534829</td>\n",
       "    </tr>\n",
       "    <tr>\n",
       "      <th>4</th>\n",
       "      <td>Ascites</td>\n",
       "      <td>0.535607</td>\n",
       "    </tr>\n",
       "    <tr>\n",
       "      <th>5</th>\n",
       "      <td>Hepatomegaly</td>\n",
       "      <td>0.636030</td>\n",
       "    </tr>\n",
       "    <tr>\n",
       "      <th>6</th>\n",
       "      <td>Spiders</td>\n",
       "      <td>0.603800</td>\n",
       "    </tr>\n",
       "    <tr>\n",
       "      <th>7</th>\n",
       "      <td>Edema</td>\n",
       "      <td>0.562314</td>\n",
       "    </tr>\n",
       "    <tr>\n",
       "      <th>8</th>\n",
       "      <td>Bilirubin</td>\n",
       "      <td>0.789503</td>\n",
       "    </tr>\n",
       "    <tr>\n",
       "      <th>9</th>\n",
       "      <td>Cholesterol</td>\n",
       "      <td>0.588579</td>\n",
       "    </tr>\n",
       "    <tr>\n",
       "      <th>10</th>\n",
       "      <td>Albumin</td>\n",
       "      <td>0.597956</td>\n",
       "    </tr>\n",
       "    <tr>\n",
       "      <th>11</th>\n",
       "      <td>Copper</td>\n",
       "      <td>0.738823</td>\n",
       "    </tr>\n",
       "    <tr>\n",
       "      <th>12</th>\n",
       "      <td>Alk_Phos</td>\n",
       "      <td>0.586081</td>\n",
       "    </tr>\n",
       "    <tr>\n",
       "      <th>13</th>\n",
       "      <td>SGOT</td>\n",
       "      <td>0.679683</td>\n",
       "    </tr>\n",
       "    <tr>\n",
       "      <th>14</th>\n",
       "      <td>Tryglicerides</td>\n",
       "      <td>0.593073</td>\n",
       "    </tr>\n",
       "    <tr>\n",
       "      <th>15</th>\n",
       "      <td>Platelets</td>\n",
       "      <td>0.594761</td>\n",
       "    </tr>\n",
       "    <tr>\n",
       "      <th>16</th>\n",
       "      <td>Prothrombin</td>\n",
       "      <td>0.642357</td>\n",
       "    </tr>\n",
       "    <tr>\n",
       "      <th>17</th>\n",
       "      <td>Stage</td>\n",
       "      <td>0.677614</td>\n",
       "    </tr>\n",
       "  </tbody>\n",
       "</table>\n",
       "</div>"
      ],
      "text/plain": [
       "          Feature       AUC\n",
       "0          N_Days  0.696222\n",
       "1            Drug  0.495686\n",
       "2             Age  0.610337\n",
       "3             Sex  0.534829\n",
       "4         Ascites  0.535607\n",
       "5    Hepatomegaly  0.636030\n",
       "6         Spiders  0.603800\n",
       "7           Edema  0.562314\n",
       "8       Bilirubin  0.789503\n",
       "9     Cholesterol  0.588579\n",
       "10        Albumin  0.597956\n",
       "11         Copper  0.738823\n",
       "12       Alk_Phos  0.586081\n",
       "13           SGOT  0.679683\n",
       "14  Tryglicerides  0.593073\n",
       "15      Platelets  0.594761\n",
       "16    Prothrombin  0.642357\n",
       "17          Stage  0.677614"
      ]
     },
     "execution_count": 22,
     "metadata": {},
     "output_type": "execute_result"
    }
   ],
   "source": [
    "resultableAUC = pd.DataFrame(resultableAUC, columns=['Feature', 'AUC'])\n",
    "resultableAUC"
   ]
  },
  {
   "cell_type": "code",
   "execution_count": 23,
   "metadata": {},
   "outputs": [
    {
     "data": {
      "text/html": [
       "<div>\n",
       "<style scoped>\n",
       "    .dataframe tbody tr th:only-of-type {\n",
       "        vertical-align: middle;\n",
       "    }\n",
       "\n",
       "    .dataframe tbody tr th {\n",
       "        vertical-align: top;\n",
       "    }\n",
       "\n",
       "    .dataframe thead th {\n",
       "        text-align: right;\n",
       "    }\n",
       "</style>\n",
       "<table border=\"1\" class=\"dataframe\">\n",
       "  <thead>\n",
       "    <tr style=\"text-align: right;\">\n",
       "      <th></th>\n",
       "      <th>Feature</th>\n",
       "      <th>AUC</th>\n",
       "    </tr>\n",
       "  </thead>\n",
       "  <tbody>\n",
       "    <tr>\n",
       "      <th>0</th>\n",
       "      <td>Bilirubin</td>\n",
       "      <td>0.789503</td>\n",
       "    </tr>\n",
       "    <tr>\n",
       "      <th>1</th>\n",
       "      <td>Copper</td>\n",
       "      <td>0.738823</td>\n",
       "    </tr>\n",
       "    <tr>\n",
       "      <th>2</th>\n",
       "      <td>N_Days</td>\n",
       "      <td>0.696222</td>\n",
       "    </tr>\n",
       "    <tr>\n",
       "      <th>3</th>\n",
       "      <td>SGOT</td>\n",
       "      <td>0.679683</td>\n",
       "    </tr>\n",
       "    <tr>\n",
       "      <th>4</th>\n",
       "      <td>Stage</td>\n",
       "      <td>0.677614</td>\n",
       "    </tr>\n",
       "    <tr>\n",
       "      <th>5</th>\n",
       "      <td>Prothrombin</td>\n",
       "      <td>0.642357</td>\n",
       "    </tr>\n",
       "    <tr>\n",
       "      <th>6</th>\n",
       "      <td>Hepatomegaly</td>\n",
       "      <td>0.636030</td>\n",
       "    </tr>\n",
       "    <tr>\n",
       "      <th>7</th>\n",
       "      <td>Age</td>\n",
       "      <td>0.610337</td>\n",
       "    </tr>\n",
       "    <tr>\n",
       "      <th>8</th>\n",
       "      <td>Spiders</td>\n",
       "      <td>0.603800</td>\n",
       "    </tr>\n",
       "    <tr>\n",
       "      <th>9</th>\n",
       "      <td>Albumin</td>\n",
       "      <td>0.597956</td>\n",
       "    </tr>\n",
       "    <tr>\n",
       "      <th>10</th>\n",
       "      <td>Platelets</td>\n",
       "      <td>0.594761</td>\n",
       "    </tr>\n",
       "    <tr>\n",
       "      <th>11</th>\n",
       "      <td>Tryglicerides</td>\n",
       "      <td>0.593073</td>\n",
       "    </tr>\n",
       "    <tr>\n",
       "      <th>12</th>\n",
       "      <td>Cholesterol</td>\n",
       "      <td>0.588579</td>\n",
       "    </tr>\n",
       "    <tr>\n",
       "      <th>13</th>\n",
       "      <td>Alk_Phos</td>\n",
       "      <td>0.586081</td>\n",
       "    </tr>\n",
       "    <tr>\n",
       "      <th>14</th>\n",
       "      <td>Edema</td>\n",
       "      <td>0.562314</td>\n",
       "    </tr>\n",
       "    <tr>\n",
       "      <th>15</th>\n",
       "      <td>Ascites</td>\n",
       "      <td>0.535607</td>\n",
       "    </tr>\n",
       "    <tr>\n",
       "      <th>16</th>\n",
       "      <td>Sex</td>\n",
       "      <td>0.534829</td>\n",
       "    </tr>\n",
       "    <tr>\n",
       "      <th>17</th>\n",
       "      <td>Drug</td>\n",
       "      <td>0.495686</td>\n",
       "    </tr>\n",
       "  </tbody>\n",
       "</table>\n",
       "</div>"
      ],
      "text/plain": [
       "          Feature       AUC\n",
       "0       Bilirubin  0.789503\n",
       "1          Copper  0.738823\n",
       "2          N_Days  0.696222\n",
       "3            SGOT  0.679683\n",
       "4           Stage  0.677614\n",
       "5     Prothrombin  0.642357\n",
       "6    Hepatomegaly  0.636030\n",
       "7             Age  0.610337\n",
       "8         Spiders  0.603800\n",
       "9         Albumin  0.597956\n",
       "10      Platelets  0.594761\n",
       "11  Tryglicerides  0.593073\n",
       "12    Cholesterol  0.588579\n",
       "13       Alk_Phos  0.586081\n",
       "14          Edema  0.562314\n",
       "15        Ascites  0.535607\n",
       "16            Sex  0.534829\n",
       "17           Drug  0.495686"
      ]
     },
     "execution_count": 23,
     "metadata": {},
     "output_type": "execute_result"
    }
   ],
   "source": [
    "best_result_tableAUC = resultableAUC.sort_values('AUC', ascending=False)\n",
    "best_result_tableAUC.reset_index(drop=True, inplace=True)\n",
    "best_result_tableAUC"
   ]
  },
  {
   "cell_type": "code",
   "execution_count": 24,
   "metadata": {},
   "outputs": [],
   "source": [
    "featuresNAUC = [best_result_tableAUC.Feature[0]]\n",
    "limitAUC = best_result_tableAUC.AUC[0]"
   ]
  },
  {
   "cell_type": "code",
   "execution_count": 25,
   "metadata": {},
   "outputs": [
    {
     "name": "stdout",
     "output_type": "stream",
     "text": [
      "['Bilirubin', 'Copper'] 0.7969459864334674\n",
      "['Bilirubin', 'Copper', 'N_Days'] 0.800006531465006\n"
     ]
    },
    {
     "name": "stderr",
     "output_type": "stream",
     "text": [
      "c:\\Users\\daniel\\AppData\\Local\\Programs\\Python\\Python310\\lib\\site-packages\\sklearn\\linear_model\\_logistic.py:458: ConvergenceWarning: lbfgs failed to converge (status=1):\n",
      "STOP: TOTAL NO. of ITERATIONS REACHED LIMIT.\n",
      "\n",
      "Increase the number of iterations (max_iter) or scale the data as shown in:\n",
      "    https://scikit-learn.org/stable/modules/preprocessing.html\n",
      "Please also refer to the documentation for alternative solver options:\n",
      "    https://scikit-learn.org/stable/modules/linear_model.html#logistic-regression\n",
      "  n_iter_i = _check_optimize_result(\n",
      "c:\\Users\\daniel\\AppData\\Local\\Programs\\Python\\Python310\\lib\\site-packages\\sklearn\\linear_model\\_logistic.py:458: ConvergenceWarning: lbfgs failed to converge (status=1):\n",
      "STOP: TOTAL NO. of ITERATIONS REACHED LIMIT.\n",
      "\n",
      "Increase the number of iterations (max_iter) or scale the data as shown in:\n",
      "    https://scikit-learn.org/stable/modules/preprocessing.html\n",
      "Please also refer to the documentation for alternative solver options:\n",
      "    https://scikit-learn.org/stable/modules/linear_model.html#logistic-regression\n",
      "  n_iter_i = _check_optimize_result(\n"
     ]
    },
    {
     "name": "stdout",
     "output_type": "stream",
     "text": [
      "['Bilirubin', 'Copper', 'N_Days', 'SGOT'] 0.7945239465530086\n",
      "['Bilirubin', 'Copper', 'N_Days', 'Stage'] 0.7872466104961774\n"
     ]
    },
    {
     "name": "stderr",
     "output_type": "stream",
     "text": [
      "c:\\Users\\daniel\\AppData\\Local\\Programs\\Python\\Python310\\lib\\site-packages\\sklearn\\linear_model\\_logistic.py:458: ConvergenceWarning: lbfgs failed to converge (status=1):\n",
      "STOP: TOTAL NO. of ITERATIONS REACHED LIMIT.\n",
      "\n",
      "Increase the number of iterations (max_iter) or scale the data as shown in:\n",
      "    https://scikit-learn.org/stable/modules/preprocessing.html\n",
      "Please also refer to the documentation for alternative solver options:\n",
      "    https://scikit-learn.org/stable/modules/linear_model.html#logistic-regression\n",
      "  n_iter_i = _check_optimize_result(\n",
      "c:\\Users\\daniel\\AppData\\Local\\Programs\\Python\\Python310\\lib\\site-packages\\sklearn\\linear_model\\_logistic.py:458: ConvergenceWarning: lbfgs failed to converge (status=1):\n",
      "STOP: TOTAL NO. of ITERATIONS REACHED LIMIT.\n",
      "\n",
      "Increase the number of iterations (max_iter) or scale the data as shown in:\n",
      "    https://scikit-learn.org/stable/modules/preprocessing.html\n",
      "Please also refer to the documentation for alternative solver options:\n",
      "    https://scikit-learn.org/stable/modules/linear_model.html#logistic-regression\n",
      "  n_iter_i = _check_optimize_result(\n"
     ]
    },
    {
     "name": "stdout",
     "output_type": "stream",
     "text": [
      "['Bilirubin', 'Copper', 'N_Days', 'Prothrombin'] 0.786744179918944\n",
      "['Bilirubin', 'Copper', 'N_Days', 'Hepatomegaly'] 0.812071386203484\n"
     ]
    },
    {
     "name": "stderr",
     "output_type": "stream",
     "text": [
      "c:\\Users\\daniel\\AppData\\Local\\Programs\\Python\\Python310\\lib\\site-packages\\sklearn\\linear_model\\_logistic.py:458: ConvergenceWarning: lbfgs failed to converge (status=1):\n",
      "STOP: TOTAL NO. of ITERATIONS REACHED LIMIT.\n",
      "\n",
      "Increase the number of iterations (max_iter) or scale the data as shown in:\n",
      "    https://scikit-learn.org/stable/modules/preprocessing.html\n",
      "Please also refer to the documentation for alternative solver options:\n",
      "    https://scikit-learn.org/stable/modules/linear_model.html#logistic-regression\n",
      "  n_iter_i = _check_optimize_result(\n",
      "c:\\Users\\daniel\\AppData\\Local\\Programs\\Python\\Python310\\lib\\site-packages\\sklearn\\linear_model\\_logistic.py:458: ConvergenceWarning: lbfgs failed to converge (status=1):\n",
      "STOP: TOTAL NO. of ITERATIONS REACHED LIMIT.\n",
      "\n",
      "Increase the number of iterations (max_iter) or scale the data as shown in:\n",
      "    https://scikit-learn.org/stable/modules/preprocessing.html\n",
      "Please also refer to the documentation for alternative solver options:\n",
      "    https://scikit-learn.org/stable/modules/linear_model.html#logistic-regression\n",
      "  n_iter_i = _check_optimize_result(\n",
      "c:\\Users\\daniel\\AppData\\Local\\Programs\\Python\\Python310\\lib\\site-packages\\sklearn\\linear_model\\_logistic.py:458: ConvergenceWarning: lbfgs failed to converge (status=1):\n",
      "STOP: TOTAL NO. of ITERATIONS REACHED LIMIT.\n",
      "\n",
      "Increase the number of iterations (max_iter) or scale the data as shown in:\n",
      "    https://scikit-learn.org/stable/modules/preprocessing.html\n",
      "Please also refer to the documentation for alternative solver options:\n",
      "    https://scikit-learn.org/stable/modules/linear_model.html#logistic-regression\n",
      "  n_iter_i = _check_optimize_result(\n"
     ]
    },
    {
     "name": "stdout",
     "output_type": "stream",
     "text": [
      "['Bilirubin', 'Copper', 'N_Days', 'Hepatomegaly', 'Age'] 0.802453963915569\n",
      "['Bilirubin', 'Copper', 'N_Days', 'Hepatomegaly', 'Spiders'] 0.7887577484289809\n",
      "['Bilirubin', 'Copper', 'N_Days', 'Hepatomegaly', 'Albumin'] 0.77914728499002\n",
      "['Bilirubin', 'Copper', 'N_Days', 'Hepatomegaly', 'Platelets'] 0.7951171815243526\n"
     ]
    },
    {
     "name": "stderr",
     "output_type": "stream",
     "text": [
      "c:\\Users\\daniel\\AppData\\Local\\Programs\\Python\\Python310\\lib\\site-packages\\sklearn\\linear_model\\_logistic.py:458: ConvergenceWarning: lbfgs failed to converge (status=1):\n",
      "STOP: TOTAL NO. of ITERATIONS REACHED LIMIT.\n",
      "\n",
      "Increase the number of iterations (max_iter) or scale the data as shown in:\n",
      "    https://scikit-learn.org/stable/modules/preprocessing.html\n",
      "Please also refer to the documentation for alternative solver options:\n",
      "    https://scikit-learn.org/stable/modules/linear_model.html#logistic-regression\n",
      "  n_iter_i = _check_optimize_result(\n",
      "c:\\Users\\daniel\\AppData\\Local\\Programs\\Python\\Python310\\lib\\site-packages\\sklearn\\linear_model\\_logistic.py:458: ConvergenceWarning: lbfgs failed to converge (status=1):\n",
      "STOP: TOTAL NO. of ITERATIONS REACHED LIMIT.\n",
      "\n",
      "Increase the number of iterations (max_iter) or scale the data as shown in:\n",
      "    https://scikit-learn.org/stable/modules/preprocessing.html\n",
      "Please also refer to the documentation for alternative solver options:\n",
      "    https://scikit-learn.org/stable/modules/linear_model.html#logistic-regression\n",
      "  n_iter_i = _check_optimize_result(\n"
     ]
    },
    {
     "name": "stdout",
     "output_type": "stream",
     "text": [
      "['Bilirubin', 'Copper', 'N_Days', 'Hepatomegaly', 'Tryglicerides'] 0.7881458469979306\n",
      "['Bilirubin', 'Copper', 'N_Days', 'Hepatomegaly', 'Cholesterol'] 0.7829947317879138\n"
     ]
    },
    {
     "name": "stderr",
     "output_type": "stream",
     "text": [
      "c:\\Users\\daniel\\AppData\\Local\\Programs\\Python\\Python310\\lib\\site-packages\\sklearn\\linear_model\\_logistic.py:458: ConvergenceWarning: lbfgs failed to converge (status=1):\n",
      "STOP: TOTAL NO. of ITERATIONS REACHED LIMIT.\n",
      "\n",
      "Increase the number of iterations (max_iter) or scale the data as shown in:\n",
      "    https://scikit-learn.org/stable/modules/preprocessing.html\n",
      "Please also refer to the documentation for alternative solver options:\n",
      "    https://scikit-learn.org/stable/modules/linear_model.html#logistic-regression\n",
      "  n_iter_i = _check_optimize_result(\n",
      "c:\\Users\\daniel\\AppData\\Local\\Programs\\Python\\Python310\\lib\\site-packages\\sklearn\\linear_model\\_logistic.py:458: ConvergenceWarning: lbfgs failed to converge (status=1):\n",
      "STOP: TOTAL NO. of ITERATIONS REACHED LIMIT.\n",
      "\n",
      "Increase the number of iterations (max_iter) or scale the data as shown in:\n",
      "    https://scikit-learn.org/stable/modules/preprocessing.html\n",
      "Please also refer to the documentation for alternative solver options:\n",
      "    https://scikit-learn.org/stable/modules/linear_model.html#logistic-regression\n",
      "  n_iter_i = _check_optimize_result(\n"
     ]
    },
    {
     "name": "stdout",
     "output_type": "stream",
     "text": [
      "['Bilirubin', 'Copper', 'N_Days', 'Hepatomegaly', 'Alk_Phos'] 0.7785810551582015\n",
      "['Bilirubin', 'Copper', 'N_Days', 'Hepatomegaly', 'Edema'] 0.7927588588436677\n"
     ]
    },
    {
     "name": "stderr",
     "output_type": "stream",
     "text": [
      "c:\\Users\\daniel\\AppData\\Local\\Programs\\Python\\Python310\\lib\\site-packages\\sklearn\\linear_model\\_logistic.py:458: ConvergenceWarning: lbfgs failed to converge (status=1):\n",
      "STOP: TOTAL NO. of ITERATIONS REACHED LIMIT.\n",
      "\n",
      "Increase the number of iterations (max_iter) or scale the data as shown in:\n",
      "    https://scikit-learn.org/stable/modules/preprocessing.html\n",
      "Please also refer to the documentation for alternative solver options:\n",
      "    https://scikit-learn.org/stable/modules/linear_model.html#logistic-regression\n",
      "  n_iter_i = _check_optimize_result(\n",
      "c:\\Users\\daniel\\AppData\\Local\\Programs\\Python\\Python310\\lib\\site-packages\\sklearn\\linear_model\\_logistic.py:458: ConvergenceWarning: lbfgs failed to converge (status=1):\n",
      "STOP: TOTAL NO. of ITERATIONS REACHED LIMIT.\n",
      "\n",
      "Increase the number of iterations (max_iter) or scale the data as shown in:\n",
      "    https://scikit-learn.org/stable/modules/preprocessing.html\n",
      "Please also refer to the documentation for alternative solver options:\n",
      "    https://scikit-learn.org/stable/modules/linear_model.html#logistic-regression\n",
      "  n_iter_i = _check_optimize_result(\n"
     ]
    },
    {
     "name": "stdout",
     "output_type": "stream",
     "text": [
      "['Bilirubin', 'Copper', 'N_Days', 'Hepatomegaly', 'Ascites'] 0.8083905573638761\n",
      "['Bilirubin', 'Copper', 'N_Days', 'Hepatomegaly', 'Sex'] 0.7983731121254479\n",
      "['Bilirubin', 'Copper', 'N_Days', 'Hepatomegaly', 'Drug'] 0.7897951397899527\n",
      "4\n",
      "0.812071386203484\n"
     ]
    },
    {
     "name": "stderr",
     "output_type": "stream",
     "text": [
      "c:\\Users\\daniel\\AppData\\Local\\Programs\\Python\\Python310\\lib\\site-packages\\sklearn\\linear_model\\_logistic.py:458: ConvergenceWarning: lbfgs failed to converge (status=1):\n",
      "STOP: TOTAL NO. of ITERATIONS REACHED LIMIT.\n",
      "\n",
      "Increase the number of iterations (max_iter) or scale the data as shown in:\n",
      "    https://scikit-learn.org/stable/modules/preprocessing.html\n",
      "Please also refer to the documentation for alternative solver options:\n",
      "    https://scikit-learn.org/stable/modules/linear_model.html#logistic-regression\n",
      "  n_iter_i = _check_optimize_result(\n",
      "c:\\Users\\daniel\\AppData\\Local\\Programs\\Python\\Python310\\lib\\site-packages\\sklearn\\linear_model\\_logistic.py:458: ConvergenceWarning: lbfgs failed to converge (status=1):\n",
      "STOP: TOTAL NO. of ITERATIONS REACHED LIMIT.\n",
      "\n",
      "Increase the number of iterations (max_iter) or scale the data as shown in:\n",
      "    https://scikit-learn.org/stable/modules/preprocessing.html\n",
      "Please also refer to the documentation for alternative solver options:\n",
      "    https://scikit-learn.org/stable/modules/linear_model.html#logistic-regression\n",
      "  n_iter_i = _check_optimize_result(\n"
     ]
    }
   ],
   "source": [
    "for i in range(1, len(best_result_tableAUC)):\n",
    "    featuresNAUC.append(best_result_tableAUC.iloc[i, 0])\n",
    "    datosZ = df_train.loc[:, featuresNAUC]\n",
    "    modeloZ = LogisticRegression(solver='lbfgs', random_state=1)\n",
    "    modeloZ.fit(datosZ, y_train)\n",
    "    \n",
    "    prediccionesZ = modeloZ.predict_proba(df_val.loc[:, featuresNAUC])\n",
    "    \n",
    "    AUC_metric = roc_auc_score(y_val, prediccionesZ, multi_class='ovr')\n",
    "\n",
    "    print(featuresNAUC, AUC_metric)\n",
    "    \n",
    "    if AUC_metric > limitAUC:\n",
    "        limitAUC = AUC_metric\n",
    "    else:\n",
    "        del featuresNAUC[-1]\n",
    "\n",
    "print(len(featuresNAUC))\n",
    "print(limitAUC)"
   ]
  },
  {
   "cell_type": "markdown",
   "metadata": {},
   "source": [
    "Based on AUC, the following variables are selected:\n",
    "\n",
    "['Bilirubin', 'Copper', 'N_Days', 'Hepatomegaly']"
   ]
  },
  {
   "cell_type": "markdown",
   "metadata": {},
   "source": [
    "### According to accuracy"
   ]
  },
  {
   "cell_type": "code",
   "execution_count": 26,
   "metadata": {},
   "outputs": [],
   "source": [
    "columnas = ['N_Days', 'Drug', 'Age', 'Sex', 'Ascites', 'Hepatomegaly', 'Spiders',\n",
    "       'Edema', 'Bilirubin', 'Cholesterol', 'Albumin', 'Copper', 'Alk_Phos',\n",
    "       'SGOT', 'Tryglicerides', 'Platelets', 'Prothrombin', 'Stage']\n",
    "resultableAcc = []\n",
    "for i in range(len(columnas)):\n",
    "    modelAcc = LogisticRegression(solver='lbfgs', random_state=1)\n",
    "    modelAcc.fit(df_train.iloc[:,[i]], y_train)\n",
    "\n",
    "    y_pred = modelAcc.predict(df_val.iloc[:,[i]])\n",
    "\n",
    "    ACC_metric = accuracy_score(y_val, y_pred)\n",
    "\n",
    "    resultableAcc.append([columnas[i], ACC_metric])"
   ]
  },
  {
   "cell_type": "code",
   "execution_count": 27,
   "metadata": {},
   "outputs": [
    {
     "data": {
      "text/html": [
       "<div>\n",
       "<style scoped>\n",
       "    .dataframe tbody tr th:only-of-type {\n",
       "        vertical-align: middle;\n",
       "    }\n",
       "\n",
       "    .dataframe tbody tr th {\n",
       "        vertical-align: top;\n",
       "    }\n",
       "\n",
       "    .dataframe thead th {\n",
       "        text-align: right;\n",
       "    }\n",
       "</style>\n",
       "<table border=\"1\" class=\"dataframe\">\n",
       "  <thead>\n",
       "    <tr style=\"text-align: right;\">\n",
       "      <th></th>\n",
       "      <th>Feature</th>\n",
       "      <th>accuracy</th>\n",
       "    </tr>\n",
       "  </thead>\n",
       "  <tbody>\n",
       "    <tr>\n",
       "      <th>0</th>\n",
       "      <td>N_Days</td>\n",
       "      <td>0.726755</td>\n",
       "    </tr>\n",
       "    <tr>\n",
       "      <th>1</th>\n",
       "      <td>Drug</td>\n",
       "      <td>0.628083</td>\n",
       "    </tr>\n",
       "    <tr>\n",
       "      <th>2</th>\n",
       "      <td>Age</td>\n",
       "      <td>0.625553</td>\n",
       "    </tr>\n",
       "    <tr>\n",
       "      <th>3</th>\n",
       "      <td>Sex</td>\n",
       "      <td>0.637571</td>\n",
       "    </tr>\n",
       "    <tr>\n",
       "      <th>4</th>\n",
       "      <td>Ascites</td>\n",
       "      <td>0.664769</td>\n",
       "    </tr>\n",
       "    <tr>\n",
       "      <th>5</th>\n",
       "      <td>Hepatomegaly</td>\n",
       "      <td>0.657812</td>\n",
       "    </tr>\n",
       "    <tr>\n",
       "      <th>6</th>\n",
       "      <td>Spiders</td>\n",
       "      <td>0.679317</td>\n",
       "    </tr>\n",
       "    <tr>\n",
       "      <th>7</th>\n",
       "      <td>Edema</td>\n",
       "      <td>0.690702</td>\n",
       "    </tr>\n",
       "    <tr>\n",
       "      <th>8</th>\n",
       "      <td>Bilirubin</td>\n",
       "      <td>0.736243</td>\n",
       "    </tr>\n",
       "    <tr>\n",
       "      <th>9</th>\n",
       "      <td>Cholesterol</td>\n",
       "      <td>0.643896</td>\n",
       "    </tr>\n",
       "    <tr>\n",
       "      <th>10</th>\n",
       "      <td>Albumin</td>\n",
       "      <td>0.666667</td>\n",
       "    </tr>\n",
       "    <tr>\n",
       "      <th>11</th>\n",
       "      <td>Copper</td>\n",
       "      <td>0.711575</td>\n",
       "    </tr>\n",
       "    <tr>\n",
       "      <th>12</th>\n",
       "      <td>Alk_Phos</td>\n",
       "      <td>0.615433</td>\n",
       "    </tr>\n",
       "    <tr>\n",
       "      <th>13</th>\n",
       "      <td>SGOT</td>\n",
       "      <td>0.668564</td>\n",
       "    </tr>\n",
       "    <tr>\n",
       "      <th>14</th>\n",
       "      <td>Tryglicerides</td>\n",
       "      <td>0.628716</td>\n",
       "    </tr>\n",
       "    <tr>\n",
       "      <th>15</th>\n",
       "      <td>Platelets</td>\n",
       "      <td>0.643264</td>\n",
       "    </tr>\n",
       "    <tr>\n",
       "      <th>16</th>\n",
       "      <td>Prothrombin</td>\n",
       "      <td>0.690702</td>\n",
       "    </tr>\n",
       "    <tr>\n",
       "      <th>17</th>\n",
       "      <td>Stage</td>\n",
       "      <td>0.704617</td>\n",
       "    </tr>\n",
       "  </tbody>\n",
       "</table>\n",
       "</div>"
      ],
      "text/plain": [
       "          Feature  accuracy\n",
       "0          N_Days  0.726755\n",
       "1            Drug  0.628083\n",
       "2             Age  0.625553\n",
       "3             Sex  0.637571\n",
       "4         Ascites  0.664769\n",
       "5    Hepatomegaly  0.657812\n",
       "6         Spiders  0.679317\n",
       "7           Edema  0.690702\n",
       "8       Bilirubin  0.736243\n",
       "9     Cholesterol  0.643896\n",
       "10        Albumin  0.666667\n",
       "11         Copper  0.711575\n",
       "12       Alk_Phos  0.615433\n",
       "13           SGOT  0.668564\n",
       "14  Tryglicerides  0.628716\n",
       "15      Platelets  0.643264\n",
       "16    Prothrombin  0.690702\n",
       "17          Stage  0.704617"
      ]
     },
     "execution_count": 27,
     "metadata": {},
     "output_type": "execute_result"
    }
   ],
   "source": [
    "resultableAcc = pd.DataFrame(resultableAcc, columns=['Feature', 'accuracy'])\n",
    "resultableAcc"
   ]
  },
  {
   "cell_type": "code",
   "execution_count": 28,
   "metadata": {},
   "outputs": [
    {
     "data": {
      "text/html": [
       "<div>\n",
       "<style scoped>\n",
       "    .dataframe tbody tr th:only-of-type {\n",
       "        vertical-align: middle;\n",
       "    }\n",
       "\n",
       "    .dataframe tbody tr th {\n",
       "        vertical-align: top;\n",
       "    }\n",
       "\n",
       "    .dataframe thead th {\n",
       "        text-align: right;\n",
       "    }\n",
       "</style>\n",
       "<table border=\"1\" class=\"dataframe\">\n",
       "  <thead>\n",
       "    <tr style=\"text-align: right;\">\n",
       "      <th></th>\n",
       "      <th>Feature</th>\n",
       "      <th>accuracy</th>\n",
       "    </tr>\n",
       "  </thead>\n",
       "  <tbody>\n",
       "    <tr>\n",
       "      <th>0</th>\n",
       "      <td>Bilirubin</td>\n",
       "      <td>0.736243</td>\n",
       "    </tr>\n",
       "    <tr>\n",
       "      <th>1</th>\n",
       "      <td>N_Days</td>\n",
       "      <td>0.726755</td>\n",
       "    </tr>\n",
       "    <tr>\n",
       "      <th>2</th>\n",
       "      <td>Copper</td>\n",
       "      <td>0.711575</td>\n",
       "    </tr>\n",
       "    <tr>\n",
       "      <th>3</th>\n",
       "      <td>Stage</td>\n",
       "      <td>0.704617</td>\n",
       "    </tr>\n",
       "    <tr>\n",
       "      <th>4</th>\n",
       "      <td>Edema</td>\n",
       "      <td>0.690702</td>\n",
       "    </tr>\n",
       "    <tr>\n",
       "      <th>5</th>\n",
       "      <td>Prothrombin</td>\n",
       "      <td>0.690702</td>\n",
       "    </tr>\n",
       "    <tr>\n",
       "      <th>6</th>\n",
       "      <td>Spiders</td>\n",
       "      <td>0.679317</td>\n",
       "    </tr>\n",
       "    <tr>\n",
       "      <th>7</th>\n",
       "      <td>SGOT</td>\n",
       "      <td>0.668564</td>\n",
       "    </tr>\n",
       "    <tr>\n",
       "      <th>8</th>\n",
       "      <td>Albumin</td>\n",
       "      <td>0.666667</td>\n",
       "    </tr>\n",
       "    <tr>\n",
       "      <th>9</th>\n",
       "      <td>Ascites</td>\n",
       "      <td>0.664769</td>\n",
       "    </tr>\n",
       "    <tr>\n",
       "      <th>10</th>\n",
       "      <td>Hepatomegaly</td>\n",
       "      <td>0.657812</td>\n",
       "    </tr>\n",
       "    <tr>\n",
       "      <th>11</th>\n",
       "      <td>Cholesterol</td>\n",
       "      <td>0.643896</td>\n",
       "    </tr>\n",
       "    <tr>\n",
       "      <th>12</th>\n",
       "      <td>Platelets</td>\n",
       "      <td>0.643264</td>\n",
       "    </tr>\n",
       "    <tr>\n",
       "      <th>13</th>\n",
       "      <td>Sex</td>\n",
       "      <td>0.637571</td>\n",
       "    </tr>\n",
       "    <tr>\n",
       "      <th>14</th>\n",
       "      <td>Tryglicerides</td>\n",
       "      <td>0.628716</td>\n",
       "    </tr>\n",
       "    <tr>\n",
       "      <th>15</th>\n",
       "      <td>Drug</td>\n",
       "      <td>0.628083</td>\n",
       "    </tr>\n",
       "    <tr>\n",
       "      <th>16</th>\n",
       "      <td>Age</td>\n",
       "      <td>0.625553</td>\n",
       "    </tr>\n",
       "    <tr>\n",
       "      <th>17</th>\n",
       "      <td>Alk_Phos</td>\n",
       "      <td>0.615433</td>\n",
       "    </tr>\n",
       "  </tbody>\n",
       "</table>\n",
       "</div>"
      ],
      "text/plain": [
       "          Feature  accuracy\n",
       "0       Bilirubin  0.736243\n",
       "1          N_Days  0.726755\n",
       "2          Copper  0.711575\n",
       "3           Stage  0.704617\n",
       "4           Edema  0.690702\n",
       "5     Prothrombin  0.690702\n",
       "6         Spiders  0.679317\n",
       "7            SGOT  0.668564\n",
       "8         Albumin  0.666667\n",
       "9         Ascites  0.664769\n",
       "10   Hepatomegaly  0.657812\n",
       "11    Cholesterol  0.643896\n",
       "12      Platelets  0.643264\n",
       "13            Sex  0.637571\n",
       "14  Tryglicerides  0.628716\n",
       "15           Drug  0.628083\n",
       "16            Age  0.625553\n",
       "17       Alk_Phos  0.615433"
      ]
     },
     "execution_count": 28,
     "metadata": {},
     "output_type": "execute_result"
    }
   ],
   "source": [
    "best_result_tableAcc = resultableAcc.sort_values('accuracy', ascending=False)\n",
    "best_result_tableAcc.reset_index(drop=True, inplace=True)\n",
    "best_result_tableAcc"
   ]
  },
  {
   "cell_type": "code",
   "execution_count": 29,
   "metadata": {},
   "outputs": [],
   "source": [
    "featuresNAcc = [best_result_tableAcc.Feature[0]]\n",
    "limitAcc = best_result_tableAcc.accuracy[0]"
   ]
  },
  {
   "cell_type": "code",
   "execution_count": 30,
   "metadata": {},
   "outputs": [
    {
     "name": "stdout",
     "output_type": "stream",
     "text": [
      "['Bilirubin', 'N_Days'] 0.7860454510974481\n",
      "['Bilirubin', 'N_Days', 'Copper'] 0.800006531465006\n"
     ]
    },
    {
     "name": "stderr",
     "output_type": "stream",
     "text": [
      "c:\\Users\\daniel\\AppData\\Local\\Programs\\Python\\Python310\\lib\\site-packages\\sklearn\\linear_model\\_logistic.py:458: ConvergenceWarning: lbfgs failed to converge (status=1):\n",
      "STOP: TOTAL NO. of ITERATIONS REACHED LIMIT.\n",
      "\n",
      "Increase the number of iterations (max_iter) or scale the data as shown in:\n",
      "    https://scikit-learn.org/stable/modules/preprocessing.html\n",
      "Please also refer to the documentation for alternative solver options:\n",
      "    https://scikit-learn.org/stable/modules/linear_model.html#logistic-regression\n",
      "  n_iter_i = _check_optimize_result(\n",
      "c:\\Users\\daniel\\AppData\\Local\\Programs\\Python\\Python310\\lib\\site-packages\\sklearn\\linear_model\\_logistic.py:458: ConvergenceWarning: lbfgs failed to converge (status=1):\n",
      "STOP: TOTAL NO. of ITERATIONS REACHED LIMIT.\n",
      "\n",
      "Increase the number of iterations (max_iter) or scale the data as shown in:\n",
      "    https://scikit-learn.org/stable/modules/preprocessing.html\n",
      "Please also refer to the documentation for alternative solver options:\n",
      "    https://scikit-learn.org/stable/modules/linear_model.html#logistic-regression\n",
      "  n_iter_i = _check_optimize_result(\n"
     ]
    },
    {
     "name": "stdout",
     "output_type": "stream",
     "text": [
      "['Bilirubin', 'N_Days', 'Copper', 'Stage'] 0.7872493885657565\n",
      "['Bilirubin', 'N_Days', 'Copper', 'Edema'] 0.7960782595489729\n"
     ]
    },
    {
     "name": "stderr",
     "output_type": "stream",
     "text": [
      "c:\\Users\\daniel\\AppData\\Local\\Programs\\Python\\Python310\\lib\\site-packages\\sklearn\\linear_model\\_logistic.py:458: ConvergenceWarning: lbfgs failed to converge (status=1):\n",
      "STOP: TOTAL NO. of ITERATIONS REACHED LIMIT.\n",
      "\n",
      "Increase the number of iterations (max_iter) or scale the data as shown in:\n",
      "    https://scikit-learn.org/stable/modules/preprocessing.html\n",
      "Please also refer to the documentation for alternative solver options:\n",
      "    https://scikit-learn.org/stable/modules/linear_model.html#logistic-regression\n",
      "  n_iter_i = _check_optimize_result(\n",
      "c:\\Users\\daniel\\AppData\\Local\\Programs\\Python\\Python310\\lib\\site-packages\\sklearn\\linear_model\\_logistic.py:458: ConvergenceWarning: lbfgs failed to converge (status=1):\n",
      "STOP: TOTAL NO. of ITERATIONS REACHED LIMIT.\n",
      "\n",
      "Increase the number of iterations (max_iter) or scale the data as shown in:\n",
      "    https://scikit-learn.org/stable/modules/preprocessing.html\n",
      "Please also refer to the documentation for alternative solver options:\n",
      "    https://scikit-learn.org/stable/modules/linear_model.html#logistic-regression\n",
      "  n_iter_i = _check_optimize_result(\n"
     ]
    },
    {
     "name": "stdout",
     "output_type": "stream",
     "text": [
      "['Bilirubin', 'N_Days', 'Copper', 'Prothrombin'] 0.7867423896779059\n",
      "['Bilirubin', 'N_Days', 'Copper', 'Spiders'] 0.7835547196982064\n"
     ]
    },
    {
     "name": "stderr",
     "output_type": "stream",
     "text": [
      "c:\\Users\\daniel\\AppData\\Local\\Programs\\Python\\Python310\\lib\\site-packages\\sklearn\\linear_model\\_logistic.py:458: ConvergenceWarning: lbfgs failed to converge (status=1):\n",
      "STOP: TOTAL NO. of ITERATIONS REACHED LIMIT.\n",
      "\n",
      "Increase the number of iterations (max_iter) or scale the data as shown in:\n",
      "    https://scikit-learn.org/stable/modules/preprocessing.html\n",
      "Please also refer to the documentation for alternative solver options:\n",
      "    https://scikit-learn.org/stable/modules/linear_model.html#logistic-regression\n",
      "  n_iter_i = _check_optimize_result(\n",
      "c:\\Users\\daniel\\AppData\\Local\\Programs\\Python\\Python310\\lib\\site-packages\\sklearn\\linear_model\\_logistic.py:458: ConvergenceWarning: lbfgs failed to converge (status=1):\n",
      "STOP: TOTAL NO. of ITERATIONS REACHED LIMIT.\n",
      "\n",
      "Increase the number of iterations (max_iter) or scale the data as shown in:\n",
      "    https://scikit-learn.org/stable/modules/preprocessing.html\n",
      "Please also refer to the documentation for alternative solver options:\n",
      "    https://scikit-learn.org/stable/modules/linear_model.html#logistic-regression\n",
      "  n_iter_i = _check_optimize_result(\n"
     ]
    },
    {
     "name": "stdout",
     "output_type": "stream",
     "text": [
      "['Bilirubin', 'N_Days', 'Copper', 'SGOT'] 0.7958339043790158\n",
      "['Bilirubin', 'N_Days', 'Copper', 'Albumin'] 0.8049281460913936\n"
     ]
    },
    {
     "name": "stderr",
     "output_type": "stream",
     "text": [
      "c:\\Users\\daniel\\AppData\\Local\\Programs\\Python\\Python310\\lib\\site-packages\\sklearn\\linear_model\\_logistic.py:458: ConvergenceWarning: lbfgs failed to converge (status=1):\n",
      "STOP: TOTAL NO. of ITERATIONS REACHED LIMIT.\n",
      "\n",
      "Increase the number of iterations (max_iter) or scale the data as shown in:\n",
      "    https://scikit-learn.org/stable/modules/preprocessing.html\n",
      "Please also refer to the documentation for alternative solver options:\n",
      "    https://scikit-learn.org/stable/modules/linear_model.html#logistic-regression\n",
      "  n_iter_i = _check_optimize_result(\n",
      "c:\\Users\\daniel\\AppData\\Local\\Programs\\Python\\Python310\\lib\\site-packages\\sklearn\\linear_model\\_logistic.py:458: ConvergenceWarning: lbfgs failed to converge (status=1):\n",
      "STOP: TOTAL NO. of ITERATIONS REACHED LIMIT.\n",
      "\n",
      "Increase the number of iterations (max_iter) or scale the data as shown in:\n",
      "    https://scikit-learn.org/stable/modules/preprocessing.html\n",
      "Please also refer to the documentation for alternative solver options:\n",
      "    https://scikit-learn.org/stable/modules/linear_model.html#logistic-regression\n",
      "  n_iter_i = _check_optimize_result(\n"
     ]
    },
    {
     "name": "stdout",
     "output_type": "stream",
     "text": [
      "['Bilirubin', 'N_Days', 'Copper', 'Albumin', 'Ascites'] 0.794229474887452\n",
      "['Bilirubin', 'N_Days', 'Copper', 'Albumin', 'Hepatomegaly'] 0.7790290415370142\n"
     ]
    },
    {
     "name": "stderr",
     "output_type": "stream",
     "text": [
      "c:\\Users\\daniel\\AppData\\Local\\Programs\\Python\\Python310\\lib\\site-packages\\sklearn\\linear_model\\_logistic.py:458: ConvergenceWarning: lbfgs failed to converge (status=1):\n",
      "STOP: TOTAL NO. of ITERATIONS REACHED LIMIT.\n",
      "\n",
      "Increase the number of iterations (max_iter) or scale the data as shown in:\n",
      "    https://scikit-learn.org/stable/modules/preprocessing.html\n",
      "Please also refer to the documentation for alternative solver options:\n",
      "    https://scikit-learn.org/stable/modules/linear_model.html#logistic-regression\n",
      "  n_iter_i = _check_optimize_result(\n",
      "c:\\Users\\daniel\\AppData\\Local\\Programs\\Python\\Python310\\lib\\site-packages\\sklearn\\linear_model\\_logistic.py:458: ConvergenceWarning: lbfgs failed to converge (status=1):\n",
      "STOP: TOTAL NO. of ITERATIONS REACHED LIMIT.\n",
      "\n",
      "Increase the number of iterations (max_iter) or scale the data as shown in:\n",
      "    https://scikit-learn.org/stable/modules/preprocessing.html\n",
      "Please also refer to the documentation for alternative solver options:\n",
      "    https://scikit-learn.org/stable/modules/linear_model.html#logistic-regression\n",
      "  n_iter_i = _check_optimize_result(\n"
     ]
    },
    {
     "name": "stdout",
     "output_type": "stream",
     "text": [
      "['Bilirubin', 'N_Days', 'Copper', 'Albumin', 'Cholesterol'] 0.7940062399265403\n",
      "['Bilirubin', 'N_Days', 'Copper', 'Albumin', 'Platelets'] 0.8105633751680604\n"
     ]
    },
    {
     "name": "stderr",
     "output_type": "stream",
     "text": [
      "c:\\Users\\daniel\\AppData\\Local\\Programs\\Python\\Python310\\lib\\site-packages\\sklearn\\linear_model\\_logistic.py:458: ConvergenceWarning: lbfgs failed to converge (status=1):\n",
      "STOP: TOTAL NO. of ITERATIONS REACHED LIMIT.\n",
      "\n",
      "Increase the number of iterations (max_iter) or scale the data as shown in:\n",
      "    https://scikit-learn.org/stable/modules/preprocessing.html\n",
      "Please also refer to the documentation for alternative solver options:\n",
      "    https://scikit-learn.org/stable/modules/linear_model.html#logistic-regression\n",
      "  n_iter_i = _check_optimize_result(\n",
      "c:\\Users\\daniel\\AppData\\Local\\Programs\\Python\\Python310\\lib\\site-packages\\sklearn\\linear_model\\_logistic.py:458: ConvergenceWarning: lbfgs failed to converge (status=1):\n",
      "STOP: TOTAL NO. of ITERATIONS REACHED LIMIT.\n",
      "\n",
      "Increase the number of iterations (max_iter) or scale the data as shown in:\n",
      "    https://scikit-learn.org/stable/modules/preprocessing.html\n",
      "Please also refer to the documentation for alternative solver options:\n",
      "    https://scikit-learn.org/stable/modules/linear_model.html#logistic-regression\n",
      "  n_iter_i = _check_optimize_result(\n"
     ]
    },
    {
     "name": "stdout",
     "output_type": "stream",
     "text": [
      "['Bilirubin', 'N_Days', 'Copper', 'Albumin', 'Platelets', 'Sex'] 0.7864653055291644\n",
      "['Bilirubin', 'N_Days', 'Copper', 'Albumin', 'Platelets', 'Tryglicerides'] 0.8105147523790718\n"
     ]
    },
    {
     "name": "stderr",
     "output_type": "stream",
     "text": [
      "c:\\Users\\daniel\\AppData\\Local\\Programs\\Python\\Python310\\lib\\site-packages\\sklearn\\linear_model\\_logistic.py:458: ConvergenceWarning: lbfgs failed to converge (status=1):\n",
      "STOP: TOTAL NO. of ITERATIONS REACHED LIMIT.\n",
      "\n",
      "Increase the number of iterations (max_iter) or scale the data as shown in:\n",
      "    https://scikit-learn.org/stable/modules/preprocessing.html\n",
      "Please also refer to the documentation for alternative solver options:\n",
      "    https://scikit-learn.org/stable/modules/linear_model.html#logistic-regression\n",
      "  n_iter_i = _check_optimize_result(\n",
      "c:\\Users\\daniel\\AppData\\Local\\Programs\\Python\\Python310\\lib\\site-packages\\sklearn\\linear_model\\_logistic.py:458: ConvergenceWarning: lbfgs failed to converge (status=1):\n",
      "STOP: TOTAL NO. of ITERATIONS REACHED LIMIT.\n",
      "\n",
      "Increase the number of iterations (max_iter) or scale the data as shown in:\n",
      "    https://scikit-learn.org/stable/modules/preprocessing.html\n",
      "Please also refer to the documentation for alternative solver options:\n",
      "    https://scikit-learn.org/stable/modules/linear_model.html#logistic-regression\n",
      "  n_iter_i = _check_optimize_result(\n"
     ]
    },
    {
     "name": "stdout",
     "output_type": "stream",
     "text": [
      "['Bilirubin', 'N_Days', 'Copper', 'Albumin', 'Platelets', 'Drug'] 0.7779434538441391\n",
      "['Bilirubin', 'N_Days', 'Copper', 'Albumin', 'Platelets', 'Age'] 0.8113817403089727\n",
      "['Bilirubin', 'N_Days', 'Copper', 'Albumin', 'Platelets', 'Age', 'Alk_Phos'] 0.8077174129735628\n",
      "6\n",
      "0.8113817403089727\n"
     ]
    },
    {
     "name": "stderr",
     "output_type": "stream",
     "text": [
      "c:\\Users\\daniel\\AppData\\Local\\Programs\\Python\\Python310\\lib\\site-packages\\sklearn\\linear_model\\_logistic.py:458: ConvergenceWarning: lbfgs failed to converge (status=1):\n",
      "STOP: TOTAL NO. of ITERATIONS REACHED LIMIT.\n",
      "\n",
      "Increase the number of iterations (max_iter) or scale the data as shown in:\n",
      "    https://scikit-learn.org/stable/modules/preprocessing.html\n",
      "Please also refer to the documentation for alternative solver options:\n",
      "    https://scikit-learn.org/stable/modules/linear_model.html#logistic-regression\n",
      "  n_iter_i = _check_optimize_result(\n"
     ]
    }
   ],
   "source": [
    "for i in range(1, len(best_result_tableAcc)):\n",
    "    featuresNAcc.append(best_result_tableAcc.iloc[i, 0])\n",
    "    datosZ = df_train.loc[:, featuresNAcc]\n",
    "    modeloZ = LogisticRegression(solver='lbfgs', random_state=1)\n",
    "    modeloZ.fit(datosZ, y_train)\n",
    "    \n",
    "    prediccionesZ = modeloZ.predict_proba(df_val.loc[:, featuresNAcc])\n",
    "    \n",
    "    ACC_metric = roc_auc_score(y_val, prediccionesZ, multi_class='ovr')\n",
    "\n",
    "    print(featuresNAcc, ACC_metric)\n",
    "    \n",
    "    if ACC_metric > limitAcc:\n",
    "        limitAcc = ACC_metric\n",
    "    else:\n",
    "        del featuresNAcc[-1]\n",
    "\n",
    "print(len(featuresNAcc))\n",
    "print(limitAcc)"
   ]
  },
  {
   "cell_type": "markdown",
   "metadata": {},
   "source": [
    "Based on accuracy, the following variables are selected:\n",
    "\n",
    "['Bilirubin', 'N_Days', 'Copper', 'Albumin', 'Platelets', 'Age']"
   ]
  },
  {
   "cell_type": "markdown",
   "metadata": {},
   "source": [
    "## Models"
   ]
  },
  {
   "cell_type": "markdown",
   "metadata": {},
   "source": [
    "Logistic Regression was implemented previously, now we will implement a XGBoost model using all features."
   ]
  },
  {
   "cell_type": "code",
   "execution_count": 31,
   "metadata": {},
   "outputs": [],
   "source": [
    "from sklearn.feature_extraction import DictVectorizer\n",
    "import xgboost as xgb"
   ]
  },
  {
   "cell_type": "code",
   "execution_count": 32,
   "metadata": {},
   "outputs": [],
   "source": [
    "train_dicts = df_train.fillna(0).to_dict(orient='records')"
   ]
  },
  {
   "cell_type": "code",
   "execution_count": 33,
   "metadata": {},
   "outputs": [],
   "source": [
    "dv = DictVectorizer(sparse=False)\n",
    "X_train = dv.fit_transform(train_dicts)"
   ]
  },
  {
   "cell_type": "code",
   "execution_count": 34,
   "metadata": {},
   "outputs": [
    {
     "data": {
      "text/plain": [
       "['Age',\n",
       " 'Albumin',\n",
       " 'Alk_Phos',\n",
       " 'Ascites',\n",
       " 'Bilirubin',\n",
       " 'Cholesterol',\n",
       " 'Copper',\n",
       " 'Drug',\n",
       " 'Edema',\n",
       " 'Hepatomegaly',\n",
       " 'N_Days',\n",
       " 'Platelets',\n",
       " 'Prothrombin',\n",
       " 'SGOT',\n",
       " 'Sex',\n",
       " 'Spiders',\n",
       " 'Stage',\n",
       " 'Tryglicerides']"
      ]
     },
     "execution_count": 34,
     "metadata": {},
     "output_type": "execute_result"
    }
   ],
   "source": [
    "dv.feature_names_"
   ]
  },
  {
   "cell_type": "code",
   "execution_count": 35,
   "metadata": {},
   "outputs": [],
   "source": [
    "val_dicts = df_val.fillna(0).to_dict(orient='records')\n",
    "X_val = dv.transform(val_dicts)"
   ]
  },
  {
   "cell_type": "code",
   "execution_count": 36,
   "metadata": {},
   "outputs": [],
   "source": [
    "features = dv.feature_names_"
   ]
  },
  {
   "cell_type": "code",
   "execution_count": 37,
   "metadata": {},
   "outputs": [],
   "source": [
    "dtrain = xgb.DMatrix(X_train, label = y_train, feature_names=features)\n",
    "dval = xgb.DMatrix(X_val, label=y_val, feature_names=features)"
   ]
  },
  {
   "cell_type": "code",
   "execution_count": 38,
   "metadata": {},
   "outputs": [],
   "source": [
    "xgb_params = {\n",
    "    'eta': 0.3,\n",
    "    'max_depth': 6,\n",
    "    'min_child_weight':1,\n",
    "\n",
    "    'objective': 'multi:softmax',\n",
    "    'num_class': 3,\n",
    "    'eval_metric': 'auc',\n",
    "    'nthread': 8,\n",
    "\n",
    "    'seed': 1,\n",
    "    'verbosity': 1\n",
    "}\n",
    "\n",
    "model = xgb.train(xgb_params, dtrain, num_boost_round = 200 )"
   ]
  },
  {
   "cell_type": "code",
   "execution_count": 39,
   "metadata": {},
   "outputs": [],
   "source": [
    "y_pred = model.predict(dval)"
   ]
  },
  {
   "cell_type": "code",
   "execution_count": 40,
   "metadata": {},
   "outputs": [],
   "source": [
    "probabilities = model.predict(dval, output_margin=True)\n",
    "probabilities = np.exp(probabilities) / np.sum(np.exp(probabilities), axis=1, keepdims=True)"
   ]
  },
  {
   "cell_type": "code",
   "execution_count": 41,
   "metadata": {},
   "outputs": [
    {
     "data": {
      "text/plain": [
       "0.8746451128158025"
      ]
     },
     "execution_count": 41,
     "metadata": {},
     "output_type": "execute_result"
    }
   ],
   "source": [
    "roc_auc_score(y_val, probabilities, multi_class='ovr')"
   ]
  },
  {
   "cell_type": "code",
   "execution_count": 42,
   "metadata": {},
   "outputs": [
    {
     "data": {
      "text/plain": [
       "0.6213452137751599"
      ]
     },
     "execution_count": 42,
     "metadata": {},
     "output_type": "execute_result"
    }
   ],
   "source": [
    "log_loss(y_val, probabilities)"
   ]
  },
  {
   "cell_type": "code",
   "execution_count": 43,
   "metadata": {},
   "outputs": [
    {
     "data": {
      "text/plain": [
       "0.825426944971537"
      ]
     },
     "execution_count": 43,
     "metadata": {},
     "output_type": "execute_result"
    }
   ],
   "source": [
    "accuracy_score(y_val, y_pred)"
   ]
  },
  {
   "cell_type": "markdown",
   "metadata": {},
   "source": [
    "### Best features based on Logloss"
   ]
  },
  {
   "cell_type": "markdown",
   "metadata": {},
   "source": [
    "['Bilirubin', 'Copper', 'N_Days', 'Stage', 'Hepatomegaly', 'Prothrombin', 'Edema', 'Spiders']"
   ]
  },
  {
   "cell_type": "code",
   "execution_count": 44,
   "metadata": {},
   "outputs": [],
   "source": [
    "train_dicts = df_train[['Bilirubin', 'Copper', 'N_Days', 'Stage', 'Hepatomegaly', 'Prothrombin', 'Edema', 'Spiders']].fillna(0).to_dict(orient='records')"
   ]
  },
  {
   "cell_type": "code",
   "execution_count": 45,
   "metadata": {},
   "outputs": [],
   "source": [
    "dv = DictVectorizer(sparse=False)\n",
    "X_train = dv.fit_transform(train_dicts)"
   ]
  },
  {
   "cell_type": "code",
   "execution_count": 46,
   "metadata": {},
   "outputs": [
    {
     "data": {
      "text/plain": [
       "['Bilirubin',\n",
       " 'Copper',\n",
       " 'Edema',\n",
       " 'Hepatomegaly',\n",
       " 'N_Days',\n",
       " 'Prothrombin',\n",
       " 'Spiders',\n",
       " 'Stage']"
      ]
     },
     "execution_count": 46,
     "metadata": {},
     "output_type": "execute_result"
    }
   ],
   "source": [
    "dv.feature_names_"
   ]
  },
  {
   "cell_type": "code",
   "execution_count": 47,
   "metadata": {},
   "outputs": [],
   "source": [
    "val_dicts = df_val[['Bilirubin', 'Copper', 'N_Days', 'Stage', 'Hepatomegaly', 'Prothrombin', 'Edema', 'Spiders']].fillna(0).to_dict(orient='records')\n",
    "X_val = dv.transform(val_dicts)"
   ]
  },
  {
   "cell_type": "code",
   "execution_count": 48,
   "metadata": {},
   "outputs": [],
   "source": [
    "features = dv.feature_names_"
   ]
  },
  {
   "cell_type": "code",
   "execution_count": 49,
   "metadata": {},
   "outputs": [],
   "source": [
    "dtrain = xgb.DMatrix(X_train, label = y_train, feature_names=features)\n",
    "dval = xgb.DMatrix(X_val, label=y_val, feature_names=features)"
   ]
  },
  {
   "cell_type": "code",
   "execution_count": 50,
   "metadata": {},
   "outputs": [],
   "source": [
    "xgb_params = {\n",
    "    'eta': 0.3,\n",
    "    'max_depth': 6,\n",
    "    'min_child_weight':1,\n",
    "\n",
    "    'objective': 'multi:softmax',\n",
    "    'num_class': 3,\n",
    "    'eval_metric': 'logloss',\n",
    "    'nthread': 8,\n",
    "\n",
    "    'seed': 1,\n",
    "    'verbosity': 1\n",
    "}\n",
    "\n",
    "model = xgb.train(xgb_params, dtrain, num_boost_round = 200 )"
   ]
  },
  {
   "cell_type": "code",
   "execution_count": 51,
   "metadata": {},
   "outputs": [],
   "source": [
    "y_pred = model.predict(dval)"
   ]
  },
  {
   "cell_type": "code",
   "execution_count": 52,
   "metadata": {},
   "outputs": [],
   "source": [
    "probabilities = model.predict(dval, output_margin=True)\n",
    "probabilities = np.exp(probabilities) / np.sum(np.exp(probabilities), axis=1, keepdims=True)"
   ]
  },
  {
   "cell_type": "code",
   "execution_count": 53,
   "metadata": {},
   "outputs": [
    {
     "data": {
      "text/plain": [
       "0.8415481674957194"
      ]
     },
     "execution_count": 53,
     "metadata": {},
     "output_type": "execute_result"
    }
   ],
   "source": [
    "roc_auc_score(y_val, probabilities, multi_class='ovr')"
   ]
  },
  {
   "cell_type": "code",
   "execution_count": 54,
   "metadata": {},
   "outputs": [
    {
     "data": {
      "text/plain": [
       "0.6264959873336798"
      ]
     },
     "execution_count": 54,
     "metadata": {},
     "output_type": "execute_result"
    }
   ],
   "source": [
    "log_loss(y_val, probabilities)"
   ]
  },
  {
   "cell_type": "code",
   "execution_count": 55,
   "metadata": {},
   "outputs": [
    {
     "data": {
      "text/plain": [
       "0.7906388361796332"
      ]
     },
     "execution_count": 55,
     "metadata": {},
     "output_type": "execute_result"
    }
   ],
   "source": [
    "accuracy_score(y_val, y_pred)"
   ]
  },
  {
   "cell_type": "markdown",
   "metadata": {},
   "source": [
    "### Best features based on AUC"
   ]
  },
  {
   "cell_type": "markdown",
   "metadata": {},
   "source": [
    "['Bilirubin', 'Copper', 'N_Days', 'Hepatomegaly']"
   ]
  },
  {
   "cell_type": "code",
   "execution_count": 56,
   "metadata": {},
   "outputs": [],
   "source": [
    "train_dicts = df_train[['Bilirubin', 'Copper', 'N_Days', 'Hepatomegaly']].fillna(0).to_dict(orient='records')"
   ]
  },
  {
   "cell_type": "code",
   "execution_count": 57,
   "metadata": {},
   "outputs": [],
   "source": [
    "dv = DictVectorizer(sparse=False)\n",
    "X_train = dv.fit_transform(train_dicts)"
   ]
  },
  {
   "cell_type": "code",
   "execution_count": 58,
   "metadata": {},
   "outputs": [
    {
     "data": {
      "text/plain": [
       "['Bilirubin', 'Copper', 'Hepatomegaly', 'N_Days']"
      ]
     },
     "execution_count": 58,
     "metadata": {},
     "output_type": "execute_result"
    }
   ],
   "source": [
    "dv.feature_names_"
   ]
  },
  {
   "cell_type": "code",
   "execution_count": 59,
   "metadata": {},
   "outputs": [],
   "source": [
    "val_dicts = df_val[['Bilirubin', 'Copper', 'N_Days', 'Hepatomegaly']].fillna(0).to_dict(orient='records')\n",
    "X_val = dv.transform(val_dicts)"
   ]
  },
  {
   "cell_type": "code",
   "execution_count": 60,
   "metadata": {},
   "outputs": [],
   "source": [
    "features = dv.feature_names_"
   ]
  },
  {
   "cell_type": "code",
   "execution_count": 61,
   "metadata": {},
   "outputs": [],
   "source": [
    "dtrain = xgb.DMatrix(X_train, label = y_train, feature_names=features)\n",
    "dval = xgb.DMatrix(X_val, label=y_val, feature_names=features)"
   ]
  },
  {
   "cell_type": "code",
   "execution_count": 62,
   "metadata": {},
   "outputs": [],
   "source": [
    "xgb_params = {\n",
    "    'eta': 0.3,\n",
    "    'max_depth': 6,\n",
    "    'min_child_weight':1,\n",
    "\n",
    "    'objective': 'multi:softmax',\n",
    "    'num_class': 3,\n",
    "    'eval_metric': 'auc',\n",
    "    'nthread': 8,\n",
    "\n",
    "    'seed': 1,\n",
    "    'verbosity': 1\n",
    "}\n",
    "\n",
    "model = xgb.train(xgb_params, dtrain, num_boost_round = 200 )"
   ]
  },
  {
   "cell_type": "code",
   "execution_count": 63,
   "metadata": {},
   "outputs": [],
   "source": [
    "y_pred = model.predict(dval)"
   ]
  },
  {
   "cell_type": "code",
   "execution_count": 64,
   "metadata": {},
   "outputs": [],
   "source": [
    "probabilities = model.predict(dval, output_margin=True)\n",
    "probabilities = np.exp(probabilities) / np.sum(np.exp(probabilities), axis=1, keepdims=True)"
   ]
  },
  {
   "cell_type": "code",
   "execution_count": 65,
   "metadata": {},
   "outputs": [
    {
     "name": "stdout",
     "output_type": "stream",
     "text": [
      "AUC 0.8316870053395129\n",
      "logloss 0.6252014127798355\n",
      "Accuracy 0.7748260594560404\n"
     ]
    }
   ],
   "source": [
    "print('AUC',roc_auc_score(y_val, probabilities, multi_class='ovr'))\n",
    "print('logloss',log_loss(y_val, probabilities))\n",
    "print('Accuracy',accuracy_score(y_val, y_pred))"
   ]
  },
  {
   "cell_type": "markdown",
   "metadata": {},
   "source": [
    "### Best features based on Accuracy"
   ]
  },
  {
   "cell_type": "markdown",
   "metadata": {},
   "source": [
    "['Bilirubin', 'N_Days', 'Copper', 'Albumin', 'Platelets', 'Age']"
   ]
  },
  {
   "cell_type": "code",
   "execution_count": 66,
   "metadata": {},
   "outputs": [],
   "source": [
    "train_dicts = df_train[['Bilirubin', 'N_Days', 'Copper', 'Albumin', 'Platelets', 'Age']].fillna(0).to_dict(orient='records')"
   ]
  },
  {
   "cell_type": "code",
   "execution_count": 67,
   "metadata": {},
   "outputs": [],
   "source": [
    "dv = DictVectorizer(sparse=False)\n",
    "X_train = dv.fit_transform(train_dicts)"
   ]
  },
  {
   "cell_type": "code",
   "execution_count": 68,
   "metadata": {},
   "outputs": [
    {
     "data": {
      "text/plain": [
       "['Age', 'Albumin', 'Bilirubin', 'Copper', 'N_Days', 'Platelets']"
      ]
     },
     "execution_count": 68,
     "metadata": {},
     "output_type": "execute_result"
    }
   ],
   "source": [
    "dv.feature_names_"
   ]
  },
  {
   "cell_type": "code",
   "execution_count": 69,
   "metadata": {},
   "outputs": [],
   "source": [
    "val_dicts = df_val[['Age', 'Albumin', 'Bilirubin', 'Copper', 'N_Days', 'Platelets']].fillna(0).to_dict(orient='records')\n",
    "X_val = dv.transform(val_dicts)"
   ]
  },
  {
   "cell_type": "code",
   "execution_count": 70,
   "metadata": {},
   "outputs": [],
   "source": [
    "features = dv.feature_names_"
   ]
  },
  {
   "cell_type": "code",
   "execution_count": 71,
   "metadata": {},
   "outputs": [],
   "source": [
    "dtrain = xgb.DMatrix(X_train, label = y_train, feature_names=features)\n",
    "dval = xgb.DMatrix(X_val, label=y_val, feature_names=features)"
   ]
  },
  {
   "cell_type": "code",
   "execution_count": 72,
   "metadata": {},
   "outputs": [],
   "source": [
    "xgb_params = {\n",
    "    'eta': 0.3,\n",
    "    'max_depth': 6,\n",
    "    'min_child_weight':1,\n",
    "\n",
    "    'objective': 'multi:softmax',\n",
    "    'num_class': 3,\n",
    "    'eval_metric': 'auc',\n",
    "    'nthread': 8,\n",
    "\n",
    "    'seed': 1,\n",
    "    'verbosity': 1\n",
    "}\n",
    "\n",
    "model = xgb.train(xgb_params, dtrain, num_boost_round = 200 )"
   ]
  },
  {
   "cell_type": "code",
   "execution_count": 73,
   "metadata": {},
   "outputs": [],
   "source": [
    "y_pred = model.predict(dval)"
   ]
  },
  {
   "cell_type": "code",
   "execution_count": 74,
   "metadata": {},
   "outputs": [],
   "source": [
    "probabilities = model.predict(dval, output_margin=True)\n",
    "probabilities = np.exp(probabilities) / np.sum(np.exp(probabilities), axis=1, keepdims=True)"
   ]
  },
  {
   "cell_type": "code",
   "execution_count": 75,
   "metadata": {},
   "outputs": [
    {
     "name": "stdout",
     "output_type": "stream",
     "text": [
      "AUC 0.8527352499745532\n",
      "logloss 0.623287937321063\n",
      "Accuracy 0.7912713472485768\n"
     ]
    }
   ],
   "source": [
    "print('AUC',roc_auc_score(y_val, probabilities, multi_class='ovr'))\n",
    "print('logloss',log_loss(y_val, probabilities))\n",
    "print('Accuracy',accuracy_score(y_val, y_pred))"
   ]
  },
  {
   "cell_type": "markdown",
   "metadata": {},
   "source": [
    "In all cases, metrics worsen when reducing the features. For that reason, all features in the dataset will be used."
   ]
  },
  {
   "cell_type": "markdown",
   "metadata": {},
   "source": [
    "### Tuning Hyperparameters"
   ]
  },
  {
   "cell_type": "code",
   "execution_count": 76,
   "metadata": {},
   "outputs": [],
   "source": [
    "train_dicts = df_train.fillna(0).to_dict(orient='records')"
   ]
  },
  {
   "cell_type": "code",
   "execution_count": 77,
   "metadata": {},
   "outputs": [],
   "source": [
    "dv = DictVectorizer(sparse=False)\n",
    "X_train = dv.fit_transform(train_dicts)"
   ]
  },
  {
   "cell_type": "code",
   "execution_count": 78,
   "metadata": {},
   "outputs": [
    {
     "data": {
      "text/plain": [
       "['Age',\n",
       " 'Albumin',\n",
       " 'Alk_Phos',\n",
       " 'Ascites',\n",
       " 'Bilirubin',\n",
       " 'Cholesterol',\n",
       " 'Copper',\n",
       " 'Drug',\n",
       " 'Edema',\n",
       " 'Hepatomegaly',\n",
       " 'N_Days',\n",
       " 'Platelets',\n",
       " 'Prothrombin',\n",
       " 'SGOT',\n",
       " 'Sex',\n",
       " 'Spiders',\n",
       " 'Stage',\n",
       " 'Tryglicerides']"
      ]
     },
     "execution_count": 78,
     "metadata": {},
     "output_type": "execute_result"
    }
   ],
   "source": [
    "dv.feature_names_"
   ]
  },
  {
   "cell_type": "code",
   "execution_count": 79,
   "metadata": {},
   "outputs": [],
   "source": [
    "val_dicts = df_val.fillna(0).to_dict(orient='records')\n",
    "X_val = dv.transform(val_dicts)"
   ]
  },
  {
   "cell_type": "code",
   "execution_count": 80,
   "metadata": {},
   "outputs": [],
   "source": [
    "features = dv.feature_names_"
   ]
  },
  {
   "cell_type": "code",
   "execution_count": 81,
   "metadata": {},
   "outputs": [],
   "source": [
    "dtrain = xgb.DMatrix(X_train, label = y_train, feature_names=features)\n",
    "dval = xgb.DMatrix(X_val, label=y_val, feature_names=features)"
   ]
  },
  {
   "cell_type": "code",
   "execution_count": 83,
   "metadata": {},
   "outputs": [],
   "source": [
    "# watchlist se usa para evaluar el modelo en el conjunto de validacion\n",
    "watchlist = [(dtrain, 'train'), (dval, 'val')]"
   ]
  },
  {
   "cell_type": "code",
   "execution_count": 86,
   "metadata": {},
   "outputs": [],
   "source": [
    "def parse_xgb_output(output):\n",
    "    results = []\n",
    "    \n",
    "    for line in output.stdout.strip().split('\\n'):\n",
    "        it_line, train_line, val_line = line.split('\\t')\n",
    "\n",
    "        it = int(it_line.strip('[]'))\n",
    "        train = float(train_line.split(':')[1])\n",
    "        val = float(val_line.split(':')[1])\n",
    "\n",
    "        results.append((it, train, val))\n",
    "\n",
    "\n",
    "    columns = ['num_iter','train_auc','val_auc']\n",
    "    df_results = pd.DataFrame(results, columns=columns)\n",
    "    return df_results"
   ]
  },
  {
   "cell_type": "markdown",
   "metadata": {},
   "source": [
    "#### Learning rate"
   ]
  },
  {
   "cell_type": "code",
   "execution_count": 88,
   "metadata": {},
   "outputs": [],
   "source": [
    "scores = {}"
   ]
  },
  {
   "cell_type": "code",
   "execution_count": 99,
   "metadata": {},
   "outputs": [],
   "source": [
    "%%capture output\n",
    "\n",
    "xgb_params = {\n",
    "    'eta': 0.01,\n",
    "    'max_depth': 6,\n",
    "    'min_child_weight':1,\n",
    "\n",
    "    'objective': 'multi:softmax',\n",
    "    'num_class': 3,\n",
    "    'eval_metric': 'auc',\n",
    "\n",
    "    'nthread': 8,\n",
    "    'seed': 1,\n",
    "    'verbosity': 1\n",
    "}\n",
    "\n",
    "model = xgb.train(xgb_params, dtrain, num_boost_round = 200,verbose_eval=5, evals= watchlist )"
   ]
  },
  {
   "cell_type": "code",
   "execution_count": 100,
   "metadata": {},
   "outputs": [],
   "source": [
    "key = 'eta=%s' % (xgb_params['eta'])\n",
    "scores[key] = parse_xgb_output(output)"
   ]
  },
  {
   "cell_type": "code",
   "execution_count": 101,
   "metadata": {},
   "outputs": [
    {
     "data": {
      "text/plain": [
       "dict_keys(['eta=0.1', 'eta=0.3', 'eta=1.0', 'eta=0.5', 'eta=0.01'])"
      ]
     },
     "execution_count": 101,
     "metadata": {},
     "output_type": "execute_result"
    }
   ],
   "source": [
    "scores.keys()"
   ]
  },
  {
   "cell_type": "code",
   "execution_count": 102,
   "metadata": {},
   "outputs": [
    {
     "data": {
      "image/png": "[encoded data removed]",
      "text/plain": [
       "<Figure size 640x480 with 1 Axes>"
      ]
     },
     "metadata": {},
     "output_type": "display_data"
    }
   ],
   "source": [
    "etas = ['eta=0.1', 'eta=0.3', 'eta=1.0', 'eta=0.5', 'eta=0.01']\n",
    "for eta in etas:\n",
    "    df_score = scores[eta]\n",
    "    plt.plot(df_score.num_iter, df_score.val_auc, label = eta)\n",
    "\n",
    "plt.legend()\n",
    "plt.show()"
   ]
  },
  {
   "cell_type": "markdown",
   "metadata": {},
   "source": [
    "The best ETA = 0.1"
   ]
  },
  {
   "cell_type": "markdown",
   "metadata": {},
   "source": [
    "#### max_depth"
   ]
  },
  {
   "cell_type": "code",
   "execution_count": 114,
   "metadata": {},
   "outputs": [],
   "source": [
    "scores = {}"
   ]
  },
  {
   "cell_type": "code",
   "execution_count": 121,
   "metadata": {},
   "outputs": [],
   "source": [
    "%%capture output\n",
    "\n",
    "xgb_params = {\n",
    "    'eta': 0.1,\n",
    "    'max_depth': 10,\n",
    "    'min_child_weight':1,\n",
    "\n",
    "    'objective': 'multi:softmax',\n",
    "    'num_class': 3,\n",
    "    'eval_metric': 'auc',\n",
    "\n",
    "    'nthread': 8,\n",
    "    'seed': 1,\n",
    "    'verbosity': 1\n",
    "}\n",
    "\n",
    "model = xgb.train(xgb_params, dtrain, num_boost_round = 200,verbose_eval=5, evals= watchlist )"
   ]
  },
  {
   "cell_type": "code",
   "execution_count": 122,
   "metadata": {},
   "outputs": [],
   "source": [
    "key = 'max_depth=%s' % (xgb_params['max_depth'])\n",
    "scores[key] = parse_xgb_output(output)"
   ]
  },
  {
   "cell_type": "code",
   "execution_count": 123,
   "metadata": {},
   "outputs": [
    {
     "data": {
      "image/png": "[encoded data removed]",
      "text/plain": [
       "<Figure size 640x480 with 1 Axes>"
      ]
     },
     "metadata": {},
     "output_type": "display_data"
    }
   ],
   "source": [
    "for max_depth, df_score in scores.items():\n",
    "    plt.plot(df_score.num_iter, df_score.val_auc, label = max_depth)\n",
    "\n",
    "# plt.ylim(0.8, 0.84)\n",
    "plt.legend()\n",
    "plt.show()"
   ]
  },
  {
   "cell_type": "markdown",
   "metadata": {},
   "source": [
    "The best max_depth = 3"
   ]
  },
  {
   "cell_type": "markdown",
   "metadata": {},
   "source": [
    "### min_child_weight"
   ]
  },
  {
   "cell_type": "code",
   "execution_count": 124,
   "metadata": {},
   "outputs": [],
   "source": [
    "scores = {}"
   ]
  },
  {
   "cell_type": "code",
   "execution_count": 129,
   "metadata": {},
   "outputs": [],
   "source": [
    "%%capture output\n",
    "\n",
    "xgb_params = {\n",
    "    'eta': 0.1,\n",
    "    'max_depth': 3,\n",
    "    'min_child_weight':30,\n",
    "\n",
    "    'objective': 'multi:softmax',\n",
    "    'num_class': 3,\n",
    "    'eval_metric': 'auc',\n",
    "\n",
    "    'nthread': 8,\n",
    "    'seed': 1,\n",
    "    'verbosity': 1\n",
    "}\n",
    "\n",
    "model = xgb.train(xgb_params, dtrain, num_boost_round = 200,verbose_eval=5, evals= watchlist )"
   ]
  },
  {
   "cell_type": "code",
   "execution_count": 130,
   "metadata": {},
   "outputs": [],
   "source": [
    "key = 'min_child_weight=%s' % (xgb_params['min_child_weight'])\n",
    "scores[key] = parse_xgb_output(output)"
   ]
  },
  {
   "cell_type": "code",
   "execution_count": 131,
   "metadata": {},
   "outputs": [
    {
     "data": {
      "image/png": "[encoded data removed]",
      "text/plain": [
       "<Figure size 640x480 with 1 Axes>"
      ]
     },
     "metadata": {},
     "output_type": "display_data"
    }
   ],
   "source": [
    "for min_child_wight, df_score in scores.items():\n",
    "    plt.plot(df_score.num_iter, df_score.val_auc, label = min_child_wight)\n",
    "\n",
    "# plt.ylim(0.82, 0.84)\n",
    "plt.legend()\n",
    "plt.show()"
   ]
  },
  {
   "cell_type": "markdown",
   "metadata": {},
   "source": [
    "The best min_child_weight = 10"
   ]
  },
  {
   "cell_type": "code",
   "execution_count": 139,
   "metadata": {},
   "outputs": [],
   "source": [
    "scores = {}"
   ]
  },
  {
   "cell_type": "code",
   "execution_count": 140,
   "metadata": {},
   "outputs": [],
   "source": [
    "%%capture output\n",
    "\n",
    "xgb_params = {\n",
    "    'eta': 0.1,\n",
    "    'max_depth': 3,\n",
    "    'min_child_weight':10,\n",
    "\n",
    "    'objective': 'multi:softmax',\n",
    "    'num_class': 3,\n",
    "    'eval_metric': 'auc',\n",
    "\n",
    "    'nthread': 8,\n",
    "    'seed': 1,\n",
    "    'verbosity': 1\n",
    "}\n",
    "\n",
    "model = xgb.train(xgb_params, dtrain, num_boost_round = 500,verbose_eval=5, evals= watchlist )"
   ]
  },
  {
   "cell_type": "code",
   "execution_count": 141,
   "metadata": {},
   "outputs": [],
   "source": [
    "key = 'min_child_weight=%s' % (xgb_params['min_child_weight'])\n",
    "scores[key] = parse_xgb_output(output)"
   ]
  },
  {
   "cell_type": "code",
   "execution_count": 142,
   "metadata": {},
   "outputs": [
    {
     "data": {
      "image/png": "[encoded data removed]",
      "text/plain": [
       "<Figure size 640x480 with 1 Axes>"
      ]
     },
     "metadata": {},
     "output_type": "display_data"
    }
   ],
   "source": [
    "for min_child_wight, df_score in scores.items():\n",
    "    plt.plot(df_score.num_iter, df_score.val_auc, label = min_child_wight)\n",
    "\n",
    "# plt.ylim(0.82, 0.84)\n",
    "plt.legend()\n",
    "plt.show()"
   ]
  },
  {
   "cell_type": "markdown",
   "metadata": {},
   "source": [
    "300 trees"
   ]
  }
 ],
 "metadata": {
  "kernelspec": {
   "display_name": "Python 3",
   "language": "python",
   "name": "python3"
  },
  "language_info": {
   "codemirror_mode": {
    "name": "ipython",
    "version": 3
   },
   "file_extension": ".py",
   "mimetype": "text/x-python",
   "name": "python",
   "nbconvert_exporter": "python",
   "pygments_lexer": "ipython3",
   "version": "3.10.5"
  }
 },
 "nbformat": 4,
 "nbformat_minor": 2
}
